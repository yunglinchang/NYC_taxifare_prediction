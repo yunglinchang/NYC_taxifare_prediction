{
 "cells": [
  {
   "cell_type": "code",
   "execution_count": null,
   "metadata": {
    "_uuid": "aee4c8e6c192b058537578dbb150262678e20234"
   },
   "outputs": [],
   "source": [
    "import numpy as np \n",
    "import pandas as pd\n",
    "\n",
    "import os\n",
    "print(os.listdir(\"../input\"))\n",
    "#print(os.listdir())"
   ]
  },
  {
   "cell_type": "code",
   "execution_count": null,
   "metadata": {
    "_uuid": "d5afae49cf8e69e31d523ad88226c112cd8b7634"
   },
   "outputs": [],
   "source": [
    "%%time\n",
    "train = pd.read_csv(\"../input/train.csv\", nrows = 5_000_000) #設定要train的筆數\n",
    "test = pd.read_csv(\"../input/test.csv\")\n",
    "\n",
    "#train = pd.read_csv(\"train.csv\", nrows = 100) #設定要train的筆數\n",
    "#test = pd.read_csv(\"test.csv\")"
   ]
  },
  {
   "cell_type": "code",
   "execution_count": null,
   "metadata": {
    "_uuid": "081df93697d02130d2d0e5812348b83a3f5288df"
   },
   "outputs": [],
   "source": [
    "train.head()"
   ]
  },
  {
   "cell_type": "code",
   "execution_count": null,
   "metadata": {
    "_uuid": "55454a38cf343340ba879b267832f7e1028aa32a"
   },
   "outputs": [],
   "source": [
    "train.shape"
   ]
  },
  {
   "cell_type": "code",
   "execution_count": null,
   "metadata": {
    "_uuid": "05bd9d5d00307241066082d35119366ab3c080be"
   },
   "outputs": [],
   "source": [
    "train.dtypes"
   ]
  },
  {
   "cell_type": "code",
   "execution_count": null,
   "metadata": {
    "_uuid": "f038b0aa5100a502be6eeeda172c18dfcc975caa"
   },
   "outputs": [],
   "source": [
    "train.describe()"
   ]
  },
  {
   "cell_type": "code",
   "execution_count": null,
   "metadata": {
    "_uuid": "77397e0013be858d58b531c5ba24ed7fa295ba32"
   },
   "outputs": [],
   "source": []
  },
  {
   "cell_type": "markdown",
   "metadata": {
    "_uuid": "548f1eed298375e3c20bf971d73c94844743d085"
   },
   "source": [
    "# Data preprocessing"
   ]
  },
  {
   "cell_type": "markdown",
   "metadata": {
    "_uuid": "88569903c6cdafb7dc71b498b212999e32f3056c"
   },
   "source": [
    "## Manhattan vector"
   ]
  },
  {
   "cell_type": "code",
   "execution_count": null,
   "metadata": {
    "_uuid": "a180722f84cd3caf076d5de1b42e9a21520cdd9d"
   },
   "outputs": [],
   "source": [
    "def travel_vector_features(df):\n",
    "    df['abs_diff_longitude'] = (df.dropoff_longitude - df.pickup_longitude).abs()\n",
    "    df['abs_diff_latitude'] = (df.dropoff_latitude - df.pickup_latitude).abs()\n",
    "\n",
    "travel_vector_features(train)\n",
    "travel_vector_features(test)"
   ]
  },
  {
   "cell_type": "code",
   "execution_count": null,
   "metadata": {
    "_uuid": "357d3ac28e6252178a0f64aad12129b56a37f9bc"
   },
   "outputs": [],
   "source": [
    "data = [train, test]\n",
    "for i in data:\n",
    "    i[\"key\"] = pd.to_datetime(i[\"key\"])\n",
    "    i[\"pickup_datetime\"] = pd.to_datetime(i[\"pickup_datetime\"])"
   ]
  },
  {
   "cell_type": "markdown",
   "metadata": {
    "_uuid": "afa7108b7b447e4543baf2eab6e04efd25addce9"
   },
   "source": [
    "NaN"
   ]
  },
  {
   "cell_type": "code",
   "execution_count": null,
   "metadata": {
    "_uuid": "2fc6f7b68852f58b319fa7b4a3456dcbe717da0b"
   },
   "outputs": [],
   "source": [
    "train.isnull().sum()"
   ]
  },
  {
   "cell_type": "code",
   "execution_count": null,
   "metadata": {
    "_uuid": "4258c95cd624a820e226a37288551b9bb5979b84"
   },
   "outputs": [],
   "source": [
    "train = train.dropna(how = 'any', axis = 'rows')"
   ]
  },
  {
   "cell_type": "code",
   "execution_count": null,
   "metadata": {
    "_uuid": "6949a8bf3b5afdbbe2c801fbc4eeba7661ab8d4b"
   },
   "outputs": [],
   "source": [
    "test.isnull().sum()"
   ]
  },
  {
   "cell_type": "markdown",
   "metadata": {
    "_uuid": "815bdd013a5d1f28be689b073c7fad49e093a6d6"
   },
   "source": [
    "# Natural Constraint"
   ]
  },
  {
   "cell_type": "code",
   "execution_count": null,
   "metadata": {
    "_uuid": "81203386984fc2ea96cd3559b5e7056ff68364ba"
   },
   "outputs": [],
   "source": [
    "train = train[(train.abs_diff_longitude < 5.0) & (train.abs_diff_latitude < 5.0)]"
   ]
  },
  {
   "cell_type": "code",
   "execution_count": null,
   "metadata": {
    "_uuid": "4e61262f78e7918b10e8a7ccb0e9b4490ae87c83"
   },
   "outputs": [],
   "source": [
    "train = train[train.fare_amount>=0]"
   ]
  },
  {
   "cell_type": "code",
   "execution_count": null,
   "metadata": {
    "_uuid": "5a7808a947d01c1ad6723bbdae7690c4b283091b"
   },
   "outputs": [],
   "source": [
    "train[train['passenger_count']>6] #檢查乘客大於6的，再把他drop掉"
   ]
  },
  {
   "cell_type": "code",
   "execution_count": null,
   "metadata": {
    "_uuid": "78864bcf7fba138f2c45968f3ac117eb26d2efab"
   },
   "outputs": [],
   "source": [
    "print(test['pickup_longitude'].max(), test['pickup_longitude'].min(), \n",
    "      test['pickup_latitude'].max(), test['pickup_latitude'].min())"
   ]
  },
  {
   "cell_type": "code",
   "execution_count": null,
   "metadata": {
    "_uuid": "55d082f9b87a36b7599ebb480252503170c9ae25"
   },
   "outputs": [],
   "source": [
    "train = train[train.pickup_longitude<=-72.986532]\n",
    "train = train[train.pickup_longitude>=-74.252193]\n",
    "train = train[train.pickup_latitude<=41.709555]\n",
    "train = train[train.pickup_latitude>=40.573143]"
   ]
  },
  {
   "cell_type": "code",
   "execution_count": null,
   "metadata": {
    "_uuid": "e81cbf7b7e50bdaffb54fc353245be5b038279e4"
   },
   "outputs": [],
   "source": [
    "print(test['dropoff_longitude'].max(), test['dropoff_longitude'].min(), \n",
    "      test['dropoff_latitude'].max(), test['dropoff_latitude'].min())"
   ]
  },
  {
   "cell_type": "code",
   "execution_count": null,
   "metadata": {
    "_uuid": "d44e74229056cf51a9ba3628fba73213c69293c8"
   },
   "outputs": [],
   "source": [
    "train = train[train.dropoff_longitude<=-72.990963]\n",
    "train = train[train.dropoff_longitude>=-74.263242]\n",
    "train = train[train.dropoff_latitude<=41.696683]\n",
    "train = train[train.dropoff_latitude>=40.568973]"
   ]
  },
  {
   "cell_type": "code",
   "execution_count": null,
   "metadata": {
    "_uuid": "084ecfa3db52a242a35865d5832d06da0a67dd3a"
   },
   "outputs": [],
   "source": [
    "train.shape"
   ]
  },
  {
   "cell_type": "code",
   "execution_count": null,
   "metadata": {
    "_uuid": "f5f7005de6804748d32234d5e315a59773bb5c78"
   },
   "outputs": [],
   "source": [
    "test.shape"
   ]
  },
  {
   "cell_type": "code",
   "execution_count": null,
   "metadata": {
    "_uuid": "4888060a6d4252c73071cccf5d55e8c816fa3a1f"
   },
   "outputs": [],
   "source": []
  },
  {
   "cell_type": "code",
   "execution_count": null,
   "metadata": {
    "_uuid": "cefbffb880a2112697a0e78477b5477db8377c3f",
    "scrolled": true
   },
   "outputs": [],
   "source": [
    "train.head()"
   ]
  },
  {
   "cell_type": "code",
   "execution_count": null,
   "metadata": {
    "_uuid": "a12e8da6fb214a93c2068582ad30bde58e42e27e"
   },
   "outputs": [],
   "source": [
    "test.head()"
   ]
  },
  {
   "cell_type": "code",
   "execution_count": null,
   "metadata": {
    "_uuid": "5ca474ab509612643b8849d97e96d4f4377e310e"
   },
   "outputs": [],
   "source": []
  },
  {
   "cell_type": "markdown",
   "metadata": {
    "_uuid": "376e4b611760e6cad55c32eb1e2632ae5a9c20c2"
   },
   "source": [
    "# Haversine distance\n",
    "https://www.kaggle.com/madhurisivalenka/cleansing-eda-modelling-lgbm-xgboost-starters"
   ]
  },
  {
   "cell_type": "code",
   "execution_count": null,
   "metadata": {
    "_uuid": "2a0b6ec9e19019d04b538f0062aa67b6a321a351"
   },
   "outputs": [],
   "source": [
    "def haversine_distance(lat1, long1, lat2, long2):\n",
    "    data = [train, test]\n",
    "    for i in data:\n",
    "        R = 6371  #radius of earth in kilometers\n",
    "        #R = 3959 #radius of earth in miles\n",
    "        phi1 = np.radians(i[lat1])\n",
    "        phi2 = np.radians(i[lat2])\n",
    "    \n",
    "        delta_phi = np.radians(i[lat2]-i[lat1])\n",
    "        delta_lambda = np.radians(i[long2]-i[long1])\n",
    "    \n",
    "        #a = sin²((φB - φA)/2) + cos φA . cos φB . sin²((λB - λA)/2)\n",
    "        a = np.sin(delta_phi / 2.0) ** 2 + np.cos(phi1) * np.cos(phi2) * np.sin(delta_lambda / 2.0) ** 2\n",
    "    \n",
    "        #c = 2 * atan2( √a, √(1−a) )\n",
    "        c = 2 * np.arctan2(np.sqrt(a), np.sqrt(1-a))\n",
    "    \n",
    "        #d = R*c\n",
    "        d = (R * c) #in kilometers\n",
    "        i['H_Distance'] = d\n",
    "    return d"
   ]
  },
  {
   "cell_type": "code",
   "execution_count": null,
   "metadata": {
    "_kg_hide-output": true,
    "_uuid": "4143055217d1819da2713ad3914c2369e9490e4c"
   },
   "outputs": [],
   "source": [
    "haversine_distance('pickup_latitude', 'pickup_longitude', 'dropoff_latitude', 'dropoff_longitude')"
   ]
  },
  {
   "cell_type": "code",
   "execution_count": null,
   "metadata": {
    "_uuid": "33fc8bfafa73c7874b2083e62ac9c413118c8c92"
   },
   "outputs": [],
   "source": [
    "data = [train,test]\n",
    "for i in data:\n",
    "    i['Year'] = i['pickup_datetime'].dt.year\n",
    "    i['Month'] = i['pickup_datetime'].dt.month\n",
    "    i['Date'] = i['pickup_datetime'].dt.day\n",
    "    i['Day of Week'] = i['pickup_datetime'].dt.dayofweek\n",
    "    i['Hour'] = i['pickup_datetime'].dt.hour"
   ]
  },
  {
   "cell_type": "code",
   "execution_count": null,
   "metadata": {
    "_uuid": "11193f0f6a0e07442930add12c7a357bdf3d7bad"
   },
   "outputs": [],
   "source": []
  },
  {
   "cell_type": "code",
   "execution_count": null,
   "metadata": {
    "_uuid": "3e5f49b9ea99654a2af778ebdac6e85d3f68576a"
   },
   "outputs": [],
   "source": [
    "train.head()"
   ]
  },
  {
   "cell_type": "code",
   "execution_count": null,
   "metadata": {
    "_uuid": "8c3bb997b5b07e8b6d65f74c664cab9d782cd05d"
   },
   "outputs": [],
   "source": [
    "test.head()"
   ]
  },
  {
   "cell_type": "code",
   "execution_count": null,
   "metadata": {
    "_uuid": "fa8127442eca75df18632886c7caf284a4d71909"
   },
   "outputs": [],
   "source": []
  },
  {
   "cell_type": "markdown",
   "metadata": {
    "_uuid": "bca5d57fb336596e3617ba42e136a6891101bb77"
   },
   "source": [
    "# reverse_geocoder"
   ]
  },
  {
   "cell_type": "code",
   "execution_count": null,
   "metadata": {
    "_uuid": "c2a8326db36fdffc29ec7231d1e7f8c093a87cff"
   },
   "outputs": [],
   "source": [
    "import reverse_geocoder as rg"
   ]
  },
  {
   "cell_type": "code",
   "execution_count": null,
   "metadata": {
    "_uuid": "567fd99bbe6c8fbecae95233f695295d74e34427"
   },
   "outputs": [],
   "source": [
    "#train\n",
    "train_pickup = train[['pickup_latitude', 'pickup_longitude']]\n",
    "train_dropoff = train[['dropoff_latitude', 'dropoff_longitude']]\n",
    "\n",
    "pickup_place = [] #array\n",
    "dropoff_place = []\n",
    "\n",
    "for i, j in train_pickup.iterrows():\n",
    "    pickup_place.append((j[\"pickup_latitude\"], j[\"pickup_longitude\"]))\n",
    "    \n",
    "for i, j in train_dropoff.iterrows():\n",
    "    dropoff_place.append((j[\"dropoff_latitude\"], j[\"dropoff_longitude\"]))\n",
    "\n",
    "pickup_results = rg.search(pickup_place)\n",
    "dropoff_results = rg.search(dropoff_place)\n",
    "\n",
    "pur = [pickup_results[i]['name'] for i in range(0, len(pickup_results))]\n",
    "dor = [dropoff_results[i]['name'] for i in range(0, len(dropoff_results))]\n",
    "\n",
    "train['pickup_place'] = pd.Series(pur).astype('category').values\n",
    "train['dropoff_place'] = pd.Series(dor).astype('category').values"
   ]
  },
  {
   "cell_type": "code",
   "execution_count": null,
   "metadata": {
    "_uuid": "f65a627b9ed6a81bc7fc13f3dcb122d93a873558"
   },
   "outputs": [],
   "source": [
    "#test\n",
    "train_pickup = test[['pickup_latitude', 'pickup_longitude']]\n",
    "train_dropoff = test[['dropoff_latitude', 'dropoff_longitude']]\n",
    "\n",
    "pickup_place = [] #array\n",
    "dropoff_place = []\n",
    "\n",
    "for i, j in train_pickup.iterrows():\n",
    "    pickup_place.append((j[\"pickup_latitude\"], j[\"pickup_longitude\"]))\n",
    "    \n",
    "for i, j in train_dropoff.iterrows():\n",
    "    dropoff_place.append((j[\"dropoff_latitude\"], j[\"dropoff_longitude\"]))\n",
    "\n",
    "pickup_results = rg.search(pickup_place)\n",
    "dropoff_results = rg.search(dropoff_place)\n",
    "\n",
    "pur = [pickup_results[i]['name'] for i in range(0, len(pickup_results))]\n",
    "dor = [dropoff_results[i]['name'] for i in range(0, len(dropoff_results))]\n",
    "\n",
    "test['pickup_place'] = pd.Series(pur).astype('category').values\n",
    "test['dropoff_place'] = pd.Series(dor).astype('category').values"
   ]
  },
  {
   "cell_type": "code",
   "execution_count": null,
   "metadata": {
    "_uuid": "05615dc08967d5641fb8500e593a8e857598e64b"
   },
   "outputs": [],
   "source": [
    "print(train.shape)\n",
    "print(train.pickup_place.unique())\n",
    "print(train.dropoff_place.unique())\n",
    "print(test.pickup_place.unique())\n",
    "print(test.dropoff_place.unique())"
   ]
  },
  {
   "cell_type": "code",
   "execution_count": null,
   "metadata": {
    "_uuid": "c836b050fbaf13fcabd658599a7ecac2bf0afa4f"
   },
   "outputs": [],
   "source": [
    "train = train[train.pickup_place.isin(test.pickup_place)]\n",
    "train = train[train.dropoff_place.isin(test.dropoff_place)]"
   ]
  },
  {
   "cell_type": "code",
   "execution_count": null,
   "metadata": {
    "_uuid": "bb62f0c004e4f477e3b0090e139c602cf93c7913"
   },
   "outputs": [],
   "source": [
    "print(train.shape)\n",
    "print(train.pickup_place.unique())\n",
    "print(train.dropoff_place.unique())\n",
    "print(test.pickup_place.unique())\n",
    "print(test.dropoff_place.unique())"
   ]
  },
  {
   "cell_type": "markdown",
   "metadata": {
    "_uuid": "427a72337cdc1be3f386c4ae9caa3549661183b3"
   },
   "source": [
    "# Categorical Data"
   ]
  },
  {
   "cell_type": "code",
   "execution_count": null,
   "metadata": {
    "_uuid": "5fc11ea79c77693e082398d623a36d224938f5b3"
   },
   "outputs": [],
   "source": [
    "traincv = train.iloc[:80_000, :]"
   ]
  },
  {
   "cell_type": "code",
   "execution_count": null,
   "metadata": {
    "_uuid": "c1eaba5433e3fd8e6bf49e8bfda2b69675fd542e"
   },
   "outputs": [],
   "source": [
    "traincv.head()"
   ]
  },
  {
   "cell_type": "markdown",
   "metadata": {
    "_uuid": "a38d8cc3307500a58e5b012b197e23159684a156"
   },
   "source": [
    "https://www.kaggle.com/c/home-credit-default-risk/discussion/58950\n",
    "<br>https://www.kaggle.com/mlisovyi/beware-of-categorical-features-in-lgbm\n",
    "<br>https://lightgbm.readthedocs.io/en/latest/Features.html#optimal-split-for-categorical-features"
   ]
  },
  {
   "cell_type": "code",
   "execution_count": null,
   "metadata": {
    "_uuid": "3a39aa361fb69443ce440c51030186767f80b0a4"
   },
   "outputs": [],
   "source": [
    "features = ['pickup_longitude', 'pickup_latitude', 'dropoff_longitude', 'dropoff_latitude', \n",
    "                'passenger_count', 'abs_diff_longitude', 'abs_diff_latitude', 'H_Distance', \n",
    "                'Year', 'Month', 'Date', 'Day of Week', 'Hour', 'pickup_place', 'dropoff_place']\n",
    "target = ['fare_amount']"
   ]
  },
  {
   "cell_type": "code",
   "execution_count": null,
   "metadata": {
    "_uuid": "2344e3bd7586f6410496036ddc7227cbc9b79499"
   },
   "outputs": [],
   "source": [
    "X_features = train.iloc[:, :][features]\n",
    "X_target = train.iloc[:, :][target]\n",
    "\n",
    "X_featurescv = traincv.iloc[:, :][features]\n",
    "X_targetcv = traincv.iloc[:, :][target]"
   ]
  },
  {
   "cell_type": "code",
   "execution_count": null,
   "metadata": {
    "_uuid": "f98cc8765343210eef70395e6fe15e6342060cb6"
   },
   "outputs": [],
   "source": [
    "y_features = test.iloc[:, :][features]"
   ]
  },
  {
   "cell_type": "code",
   "execution_count": null,
   "metadata": {
    "_uuid": "0e37ccd42564eb7a063a8d9063504b5534a37086"
   },
   "outputs": [],
   "source": [
    "X_features.head()"
   ]
  },
  {
   "cell_type": "code",
   "execution_count": null,
   "metadata": {
    "_uuid": "0ef7091b2e01265a1f39c099394ca781e42d8642"
   },
   "outputs": [],
   "source": [
    "X_featurescv.head()"
   ]
  },
  {
   "cell_type": "code",
   "execution_count": null,
   "metadata": {
    "_uuid": "514af8ebe92e8315cbc2e1ceca27c6c5a3d01ff3"
   },
   "outputs": [],
   "source": [
    "y_features.head()"
   ]
  },
  {
   "cell_type": "markdown",
   "metadata": {
    "_uuid": "88af5197ceb76a46e3eed7fd001b6ee9bb893778"
   },
   "source": [
    "# One-hot encoding"
   ]
  },
  {
   "cell_type": "code",
   "execution_count": null,
   "metadata": {
    "_uuid": "38ddb7bfd15d69c65aaecda6b92c1a8b74b00074"
   },
   "outputs": [],
   "source": [
    "#X_features_encoded = pd.get_dummies(X_features, columns=['pickup_place', 'dropoff_place'])\n",
    "#y_features_encoded = pd.get_dummies(y_features, columns=['pickup_place', 'dropoff_place'])"
   ]
  },
  {
   "cell_type": "code",
   "execution_count": null,
   "metadata": {
    "_uuid": "801eaa296f26d5fc4ce80be537a2787c6f891721"
   },
   "outputs": [],
   "source": [
    "#X_set_features = set(X_features_encoded.columns)\n",
    "#y_set_features = set(y_features_encoded.columns)\n",
    "#print(len(X_set_features))\n",
    "#print(len(y_set_features))\n",
    "#X_set_features == y_set_features"
   ]
  },
  {
   "cell_type": "code",
   "execution_count": null,
   "metadata": {
    "_uuid": "ac11c807af8fc915bfb86e02b02620cee8a65fbb"
   },
   "outputs": [],
   "source": [
    "#y_reindexed = y_features_encoded.reindex(columns = X_features_encoded.columns, fill_value = 0)"
   ]
  },
  {
   "cell_type": "code",
   "execution_count": null,
   "metadata": {
    "_uuid": "d083b168bca1cf05967559f17583d0cc6b8cc9c5"
   },
   "outputs": [],
   "source": [
    "#X_features_encoded.columns == y_reindexed.columns"
   ]
  },
  {
   "cell_type": "code",
   "execution_count": null,
   "metadata": {
    "_uuid": "b0a135f6ec288e9b102e5a8affe4fca3089ab12a"
   },
   "outputs": [],
   "source": [
    "#X_features_encoded.head()"
   ]
  },
  {
   "cell_type": "code",
   "execution_count": null,
   "metadata": {
    "_uuid": "bb03d32cf356fd380599a4bd2625733ae1541c96"
   },
   "outputs": [],
   "source": [
    "#y_reindexed.head()"
   ]
  },
  {
   "cell_type": "code",
   "execution_count": null,
   "metadata": {
    "_uuid": "a0bd6d7d1969c8cb19805a18eb585a718c4f38f9"
   },
   "outputs": [],
   "source": []
  },
  {
   "cell_type": "markdown",
   "metadata": {
    "_uuid": "13fbba4818b1f91272019ba9eb953886f0407d3c"
   },
   "source": [
    "# lgb Model\n",
    "## GridSearchCV"
   ]
  },
  {
   "cell_type": "markdown",
   "metadata": {
    "_uuid": "dd2ba2d4026e33873e4acd332c47c31210c95be7"
   },
   "source": [
    "https://www.kaggle.com/garethjns/microsoft-lightgbm-with-parameter-tuning-0-823\n",
    "<br>https://lightgbm.readthedocs.io/en/latest/Features.html#optimal-split-for-categorical-features"
   ]
  },
  {
   "cell_type": "code",
   "execution_count": null,
   "metadata": {
    "_uuid": "7a206624f3d5e9df1368b223ccf1c0c9374d1229"
   },
   "outputs": [],
   "source": [
    "from sklearn.model_selection import train_test_split\n",
    "\n",
    "train_X, test_X, train_y, test_y = train_test_split(X_features, X_target, test_size=0.3, random_state=0)\n",
    "train_Xcv, test_Xcv, train_ycv, test_ycv = train_test_split(X_featurescv, X_targetcv, test_size=0.3, random_state=0)"
   ]
  },
  {
   "cell_type": "code",
   "execution_count": null,
   "metadata": {
    "_uuid": "2b2d265791338e462e7f4abc762ae4381eeff675"
   },
   "outputs": [],
   "source": [
    "import lightgbm as lgb\n",
    "from sklearn.model_selection import GridSearchCV"
   ]
  },
  {
   "cell_type": "code",
   "execution_count": null,
   "metadata": {
    "_uuid": "8e087ef46831d9195ee6c8a47e5ef2c76918b7ec"
   },
   "outputs": [],
   "source": [
    "#dataset\n",
    "lgb_train = lgb.Dataset(train_X, train_y,\n",
    "#                        categorical_feature=features, \n",
    "                        silent=True, \n",
    "                        free_raw_data=False)\n",
    "lgb_eval = lgb.Dataset(test_X, test_y, reference=lgb_train)\n",
    "\n",
    "#dataset\n",
    "lgb_traincv = lgb.Dataset(train_Xcv, train_ycv,\n",
    "#                        categorical_feature=features, \n",
    "                        silent=True, \n",
    "                        free_raw_data=False)\n",
    "lgb_evalcv = lgb.Dataset(test_Xcv, test_ycv, reference=lgb_train)"
   ]
  },
  {
   "cell_type": "code",
   "execution_count": null,
   "metadata": {
    "_uuid": "ae333661fb950a613078bdfd8999affb0da0b79a"
   },
   "outputs": [],
   "source": [
    "def lgb_gridmodel(train_X, test_X, train_y, test_y):\n",
    "    import lightgbm as lgb\n",
    "    from sklearn.model_selection import GridSearchCV\n",
    "    #dataset\n",
    "    lgb_train = lgb.Dataset(train_X, train_y)\n",
    "    lgb_eval = lgb.Dataset(test_X, test_y, reference=lgb_train)\n",
    "    #基本配備，初始參數boosting_type, objective, metric\n",
    "    global params\n",
    "    params = {\n",
    "        'boosting_type': 'gbdt',\n",
    "        'objective': 'regression',\n",
    "        'metric': 'rmse',\n",
    "    }\n",
    "    #cv\n",
    "    min_merror = float('Inf')\n",
    "    global best_params\n",
    "    best_params = {}\n",
    "    #num_leaves, max_depth\n",
    "    for num_leaves in range(20,200,5):\n",
    "        for max_depth in range(3,8,1):\n",
    "            params['num_leaves'] = num_leaves\n",
    "            params['max_depth'] = max_depth\n",
    "            cv_results = lgb.cv(\n",
    "                params,\n",
    "                lgb_train,\n",
    "                seed=2019,\n",
    "                stratified=False, \n",
    "                nfold=5,\n",
    "                metrics=['rmse'],\n",
    "                early_stopping_rounds=10,\n",
    "                verbose_eval=50\n",
    "            )\n",
    "        \n",
    "            mean_merror = pd.Series(cv_results['rmse-mean']).min()\n",
    "            boost_rounds = pd.Series(cv_results['rmse-mean']).argmin()\n",
    "            \n",
    "            if mean_merror < min_merror:\n",
    "                min_merror = mean_merror\n",
    "                best_params['num_leaves'] = num_leaves\n",
    "                best_params['max_depth'] = max_depth\n",
    "    params['num_leaves'] = best_params['num_leaves']\n",
    "    params['max_depth'] = best_params['max_depth']\n",
    "    \n",
    "    #max_bin, min_child_samples, min_child_weight(沒調)\n",
    "    for max_bin in range(5,255,5):\n",
    "        for min_data_in_leaf in range(10,200,5):\n",
    "            for min_child_weight in [0.001, 0.002, 0.003, 0.004, 0.005]:\n",
    "                params['max_bin'] = max_bin\n",
    "                params['min_data_in_leaf'] = min_data_in_leaf\n",
    "                params['min_child_weight'] = min_child_weight\n",
    "                cv_results = lgb.cv(\n",
    "                    params,\n",
    "                    lgb_train,\n",
    "                    seed=42,\n",
    "                    stratified=False,\n",
    "                    nfold=5,\n",
    "                    early_stopping_rounds=3,\n",
    "                    verbose_eval=50\n",
    "                )\n",
    "                mean_merror = pd.Series(cv_results['rmse-mean']).min()\n",
    "                boost_rounds = pd.Series(cv_results['rmse-mean']).argmin()\n",
    "\n",
    "                if mean_merror < min_merror:\n",
    "                    min_merror = mean_merror\n",
    "                    best_params['max_bin'] = max_bin\n",
    "                    best_params['min_data_in_leaf'] = min_data_in_leaf\n",
    "                    best_params['min_child_weight'] = min_child_weight\n",
    "    params['max_bin'] = best_params['max_bin']\n",
    "    params['min_data_in_leaf'] = best_params['min_data_in_leaf']\n",
    "    params['min_child_weight'] = best_params['min_child_weight']\n",
    "    \n",
    "    #feature_fraction, bagging_fraction, bagging_freq\n",
    "    for feature_fraction in [0.1,0.2,0.3,0.4,0.5,0.6,0.7,0.8,0.9,1.0]:\n",
    "        for bagging_fraction in [0.1,0.2,0.3,0.4,0.5,0.6,0.7,0.8,0.9,1.0]:\n",
    "            for bagging_freq in range(0,50,5):\n",
    "                params['feature_fraction'] = feature_fraction\n",
    "                params['bagging_fraction'] = bagging_fraction\n",
    "                params['bagging_freq'] = bagging_freq\n",
    "                cv_results = lgb.cv(\n",
    "                    params,\n",
    "                    lgb_train,\n",
    "                    seed=42,\n",
    "                    stratified=False,\n",
    "                    nfold=5,\n",
    "                    metrics=['rmse'],\n",
    "                    early_stopping_rounds=3,\n",
    "                    verbose_eval=50\n",
    "                )\n",
    "                mean_merror = pd.Series(cv_results['rmse-mean']).min()\n",
    "                boost_rounds = pd.Series(cv_results['rmse-mean']).argmin()\n",
    "\n",
    "                if mean_merror < min_merror:\n",
    "                    min_merror = mean_merror\n",
    "                    best_params['feature_fraction'] = feature_fraction\n",
    "                    best_params['bagging_fraction'] = bagging_fraction\n",
    "                    best_params['bagging_freq'] = bagging_freq\n",
    "    params['feature_fraction'] = best_params['feature_fraction']\n",
    "    params['bagging_fraction'] = best_params['bagging_fraction']\n",
    "    params['bagging_freq'] = best_params['bagging_freq']\n",
    "    \n",
    "    #lambda_l1, lambda_l2, min_split_gain\n",
    "    for lambda_l1 in [0.0,0.1,0.2,0.3,0.4,0.5,0.6,0.7,0.8,0.9,1.0]:\n",
    "        for lambda_l2 in [0.0,0.1,0.2,0.3,0.4,0.5,0.6,0.7,0.8,0.9,1.0]:\n",
    "            for min_split_gain in [0.0,0.1,0.2,0.3,0.4,0.5,0.6,0.7,0.8,0.9,1.0]:\n",
    "                params['lambda_l1'] = lambda_l1\n",
    "                params['lambda_l2'] = lambda_l2\n",
    "                params['min_split_gain'] = min_split_gain\n",
    "                cv_results = lgb.cv(\n",
    "                    params,\n",
    "                    lgb_train,\n",
    "                    seed=42,\n",
    "                    stratified=False,\n",
    "                    nfold=5,\n",
    "                    metrics=['rmse'],\n",
    "                    early_stopping_rounds=3,\n",
    "                    verbose_eval=50\n",
    "                )\n",
    "                mean_merror = pd.Series(cv_results['rmse-mean']).min()\n",
    "                boost_rounds = pd.Series(cv_results['rmse-mean']).argmin()\n",
    "            \n",
    "                if mean_merror < min_merror:\n",
    "                    min_merror = mean_merror\n",
    "                    best_params['lambda_l1'] = lambda_l1\n",
    "                    best_params['lambda_l2'] = lambda_l2\n",
    "                    best_params['min_split_gain'] = min_split_gain\n",
    "    params['lambda_l1'] = best_params['lambda_l1']\n",
    "    params['lambda_l2'] = best_params['lambda_l2']\n",
    "    params['min_split_gain'] = best_params['min_split_gain']\n",
    "    return best_params"
   ]
  },
  {
   "cell_type": "code",
   "execution_count": null,
   "metadata": {
    "_kg_hide-output": true,
    "_uuid": "77aaaab9043fc81f13cd4fed867f80e5fdc38f78"
   },
   "outputs": [],
   "source": [
    "%%time\n",
    "lgb_gridmodel(train_Xcv, test_Xcv, train_ycv, test_ycv)"
   ]
  },
  {
   "cell_type": "code",
   "execution_count": null,
   "metadata": {
    "_uuid": "518d4ffe2fcb57bf81a5d56a1b02d0d569faeabe"
   },
   "outputs": [],
   "source": [
    "best_params"
   ]
  },
  {
   "cell_type": "code",
   "execution_count": null,
   "metadata": {
    "_uuid": "056e6eef7b2e0c4038784c61f7a16710503df8a5"
   },
   "outputs": [],
   "source": [
    "params['learning_rate']=0.4\n",
    "params"
   ]
  },
  {
   "cell_type": "code",
   "execution_count": null,
   "metadata": {
    "_kg_hide-output": true,
    "_uuid": "154b78e9a4b35650a0d2b20c73ac8143fb99b2fa"
   },
   "outputs": [],
   "source": [
    "gbm = lgb.train(\n",
    "    params,                     \n",
    "    lgb_train,                  \n",
    "    valid_sets=lgb_eval,       \n",
    "    num_boost_round=300,    \n",
    "    early_stopping_rounds=50\n",
    ")"
   ]
  },
  {
   "cell_type": "code",
   "execution_count": null,
   "metadata": {
    "_uuid": "399b759138eb88e527d919072a246fb63abe9bea"
   },
   "outputs": [],
   "source": [
    "y_pred_lgb = gbm.predict(y_features, num_iteration = gbm.best_iteration)"
   ]
  },
  {
   "cell_type": "code",
   "execution_count": null,
   "metadata": {
    "_uuid": "5e3ffaa83e78d43970188c7a82ecf5ed1c5deee3"
   },
   "outputs": [],
   "source": [
    "#feature importance\n",
    "%matplotlib inline\n",
    "import matplotlib.pyplot as plt\n",
    "\n",
    "ax = lgb.plot_importance(gbm)"
   ]
  },
  {
   "cell_type": "code",
   "execution_count": null,
   "metadata": {
    "_uuid": "754fae9a1323beb4ea7577ded134f6ad836942d7"
   },
   "outputs": [],
   "source": [
    "submission = pd.DataFrame()\n",
    "submission['key'] = test.key\n",
    "submission['fare_amount'] = y_pred_lgb\n",
    "submission.to_csv('submission_lgbgrid.csv', index = False)"
   ]
  },
  {
   "cell_type": "code",
   "execution_count": null,
   "metadata": {
    "_uuid": "75dd6a0ecb7708a2d1733130859aefaad8222558"
   },
   "outputs": [],
   "source": [
    "ss = pd.read_csv('../input/sample_submission.csv')\n",
    "#ss = pd.read_csv('sample_submission.csv')\n",
    "ss.loc[:, 'fare_amount'] = y_pred_lgb\n",
    "\n",
    "ss.to_csv('submission_lgbgrid.csv', index=False)"
   ]
  },
  {
   "cell_type": "markdown",
   "metadata": {
    "_uuid": "5929c6e4c556bf21a1ce52c7bea4050a13ea8e69"
   },
   "source": [
    "# top"
   ]
  },
  {
   "cell_type": "code",
   "execution_count": null,
   "metadata": {
    "_uuid": "a6c3e1ad9820386bd5fca6737108eb6c13961993"
   },
   "outputs": [],
   "source": [
    "top_params = {\n",
    "        'boosting_type':'gbdt',\n",
    "        'objective': 'regression',\n",
    "        'nthread': -1,\n",
    "        'verbose': 0,\n",
    "        'num_leaves': 31,\n",
    "        'learning_rate': 0.4,\n",
    "        'max_depth': -1,\n",
    "        'subsample': 0.8,\n",
    "        'subsample_freq': 1,\n",
    "        'colsample_bytree': 0.6,\n",
    "        'reg_aplha': 1,\n",
    "        'reg_lambda': 0.001,\n",
    "        'metric': 'rmse',\n",
    "        'min_split_gain': 0.5,\n",
    "        'min_child_weight': 1,\n",
    "        'min_child_samples': 10,\n",
    "        'scale_pos_weight':1,\n",
    "        'verbose':0\n",
    "    }"
   ]
  },
  {
   "cell_type": "code",
   "execution_count": null,
   "metadata": {
    "_uuid": "1edddadbd3344927b8ca8f06a18acc73ded3b490"
   },
   "outputs": [],
   "source": [
    "gbmtop = lgb.train(\n",
    "    top_params,                     \n",
    "    lgb_train,                  \n",
    "    valid_sets=lgb_eval,       \n",
    "    num_boost_round=300,    \n",
    "    early_stopping_rounds=50\n",
    ")"
   ]
  },
  {
   "cell_type": "code",
   "execution_count": null,
   "metadata": {
    "_uuid": "4c52f8624006f0b1d6f18faa4966e8a55c037427"
   },
   "outputs": [],
   "source": [
    "y_pred_lgbtop = gbmtop.predict(y_features, num_iteration = gbm.best_iteration)"
   ]
  },
  {
   "cell_type": "code",
   "execution_count": null,
   "metadata": {
    "_uuid": "33a3c5c735ac77201526da816d83822b1adaf684"
   },
   "outputs": [],
   "source": [
    "#feature importance\n",
    "%matplotlib inline\n",
    "import matplotlib.pyplot as plt\n",
    "\n",
    "ax = lgb.plot_importance(gbmtop)"
   ]
  },
  {
   "cell_type": "code",
   "execution_count": null,
   "metadata": {
    "_uuid": "27b6b141bbb18c3d0c786c67656f6449e47bd66e"
   },
   "outputs": [],
   "source": [
    "submission = pd.DataFrame()\n",
    "submission['key'] = test.key\n",
    "submission['fare_amount'] = y_pred_lgbtop\n",
    "submission.to_csv('submission_lgbtop.csv', index = False)"
   ]
  },
  {
   "cell_type": "code",
   "execution_count": null,
   "metadata": {
    "_uuid": "a4c6b9536f63c9b98beba34c553ff61ef532888f"
   },
   "outputs": [],
   "source": [
    "ss = pd.read_csv('../input/sample_submission.csv')\n",
    "#ss = pd.read_csv('sample_submission.csv')\n",
    "ss.loc[:, 'fare_amount'] = y_pred_lgbtop\n",
    "\n",
    "ss.to_csv('submission_lgbtop.csv', index=False)"
   ]
  },
  {
   "cell_type": "code",
   "execution_count": null,
   "metadata": {
    "_uuid": "146d85d2c82053719a9c3bd17b7f7fe86751562b"
   },
   "outputs": [],
   "source": []
  }
 ],
 "metadata": {
  "kernelspec": {
   "display_name": "Python 3",
   "language": "python",
   "name": "python3"
  },
  "language_info": {
   "codemirror_mode": {
    "name": "ipython",
    "version": 3
   },
   "file_extension": ".py",
   "mimetype": "text/x-python",
   "name": "python",
   "nbconvert_exporter": "python",
   "pygments_lexer": "ipython3",
   "version": "3.6.7"
  }
 },
 "nbformat": 4,
 "nbformat_minor": 1
}

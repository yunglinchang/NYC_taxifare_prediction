{
 "cells": [
  {
   "cell_type": "code",
   "execution_count": null,
   "metadata": {
    "_uuid": "df4ebb6f9c60e5271412d713fc7151da9e932912"
   },
   "outputs": [],
   "source": [
    "import numpy as np \n",
    "import pandas as pd\n",
    "\n",
    "import os\n",
    "print(os.listdir(\"../input/new-york-city-taxi-fare-prediction\"))\n",
    "print(os.listdir(\"../input/nyctfp\"))\n",
    "#print(os.listdir())"
   ]
  },
  {
   "cell_type": "code",
   "execution_count": null,
   "metadata": {
    "_uuid": "8b16f1eab0913ae29a28bc3c0158e8acbb9c50c2"
   },
   "outputs": [],
   "source": [
    "%%time\n",
    "train = pd.read_csv(\"../input/nyctfp/train_010.csv\", nrows = 3_000_000) #設定要train的筆數\n",
    "test = pd.read_csv(\"../input/nyctfp/test_010.csv\")\n",
    "\n",
    "#train = pd.read_csv(\"train_010.csv\", nrows = 2_000_000) #設定要train的筆數\n",
    "#test = pd.read_csv(\"test.csv\")"
   ]
  },
  {
   "cell_type": "code",
   "execution_count": null,
   "metadata": {
    "_uuid": "53829a10188c2b44eda3103e4b0df9d89ed1bb13"
   },
   "outputs": [],
   "source": [
    "train.shape"
   ]
  },
  {
   "cell_type": "code",
   "execution_count": null,
   "metadata": {
    "_uuid": "964e5b4540636b76a2a67c5b2b81b138c4d599a0"
   },
   "outputs": [],
   "source": [
    "test.shape"
   ]
  },
  {
   "cell_type": "code",
   "execution_count": null,
   "metadata": {
    "_uuid": "9db54ae0ddc3b8c5fb5c1131eed862c8f21888cb"
   },
   "outputs": [],
   "source": [
    "train.head()"
   ]
  },
  {
   "cell_type": "code",
   "execution_count": null,
   "metadata": {
    "_uuid": "71d208d1fe28345f995dc3236d15a8fb7f406865"
   },
   "outputs": [],
   "source": [
    "test.head()"
   ]
  },
  {
   "cell_type": "code",
   "execution_count": null,
   "metadata": {
    "_uuid": "bfd326d221de038c42a98780636781354c4debf1"
   },
   "outputs": [],
   "source": [
    "train.dtypes"
   ]
  },
  {
   "cell_type": "code",
   "execution_count": null,
   "metadata": {
    "_uuid": "3154d818d7cd14cf4e12eb612db98571b8e80bc8"
   },
   "outputs": [],
   "source": [
    "test.dtypes"
   ]
  },
  {
   "cell_type": "code",
   "execution_count": null,
   "metadata": {
    "_uuid": "1b61d99f640fe928db449ed0b244d8d2cc83184b"
   },
   "outputs": [],
   "source": [
    "train.isnull().sum()"
   ]
  },
  {
   "cell_type": "markdown",
   "metadata": {
    "_uuid": "a4a8611d2611d08a70300550bfa1a7ece296bdab"
   },
   "source": [
    "# Y"
   ]
  },
  {
   "cell_type": "code",
   "execution_count": null,
   "metadata": {
    "_kg_hide-output": true,
    "_uuid": "bcb3cd45ef849e1bf6c94549d186cbc6188ba348"
   },
   "outputs": [],
   "source": [
    "'''\n",
    "import re\n",
    "date = []\n",
    "# [0:3000000]\n",
    "# [3000000:5000000]\n",
    "# [5000000:8000000]\n",
    "# [8000000:10000000]\n",
    "for i in test['pickup_datetime']:\n",
    "    ii = re.findall(r\"\\d+\\-\\d+\\-\\d+\", i) #get the int in the pickup_datetime with ' yyyy-mm-dd '\n",
    "    a = ''.join(str(ii)) #change list to string\n",
    "    b = a.split() #strip with space\n",
    "    date.append(b)\n",
    "    \n",
    "#check\n",
    "#print(len(date))\n",
    "#print(date[0:5])\n",
    "\n",
    "#get items from year, putting them into list\n",
    "date1 = []\n",
    "for i in date:\n",
    "    ii = ''.join(str(i))\n",
    "    b = re.sub(r\"\\[*\\\"*\\[*\\'*\\'*\\]*\\\"*\\]*\",'', ii)\n",
    "    date1.append(b)\n",
    "\n",
    "#check\n",
    "#print(date1[0:5])\n",
    "\n",
    "#get month from date, putting them into list\n",
    "month = []\n",
    "for i in date:\n",
    "    ii = ''.join(str(i))\n",
    "    b = ii.split('-')\n",
    "    month.append(b[1])\n",
    "\n",
    "#check\n",
    "#print(month[0:5])\n",
    "\n",
    "time = []\n",
    "# [0:3000000]\n",
    "# [3000000:5000000]\n",
    "# [5000000:8000000]\n",
    "# [8000000:10000000]\n",
    "for i in test['pickup_datetime']:\n",
    "    ii = re.findall(r\"\\d+\\:\\d+\\:\\d+\", i) #get the int in the pickup_datetime with ' hh:mm:ss'\n",
    "    a = ''.join(str(ii)) #change list to string\n",
    "    b = a.split() #strip [('')]\n",
    "    time.append(b)\n",
    "\n",
    "#check\n",
    "#print(time[0:5])\n",
    "\n",
    "#get item from time, putting into list\n",
    "time1 = []\n",
    "for i in time:\n",
    "    ii = ''.join(str(i))\n",
    "    b = re.sub(r\"\\[*\\\"*\\[*\\'*\\'*\\]*\\\"*\\]*\",'', ii)\n",
    "    time1.append(b)\n",
    "\n",
    "#check\n",
    "#print(time1[0:5])\n",
    "\n",
    "#build list for week\n",
    "import calendar\n",
    "\n",
    "y = []\n",
    "m = []\n",
    "d = []\n",
    "\n",
    "for i in date1:\n",
    "    ii = ''.join(str(i))\n",
    "    b = ii.split('-')\n",
    "    y.append(int(b[0]))\n",
    "    m.append(int(b[1]))\n",
    "    d.append(int(b[2]))\n",
    "    \n",
    "# convert date to week\n",
    "days  =[\"1\",\"2\",\"3\",\"4\",\"5\",\"6\",\"7\"]\n",
    "week = []\n",
    "for i, e, c in zip(y, m, d):\n",
    "    a = calendar.weekday(i,e,c)\n",
    "    week.append(days[a])\n",
    "    \n",
    "#get each hour in list time1\n",
    "hour = []\n",
    "for i in time1:\n",
    "    ii = ''.join(str(i))\n",
    "    b = ii.split(':')\n",
    "    hour.append(int(b[0]))\n",
    "\n",
    "#check\n",
    "#print(hour[0:10])\n",
    "\n",
    "# build time interval\n",
    "for n, i in enumerate(hour):\n",
    "    if  6<=i<16 :\n",
    "        hour[n] = 1\n",
    "    elif 16<=i<20 :\n",
    "        hour[n] = 2\n",
    "    else:\n",
    "        hour[n] = 3\n",
    "        \n",
    "#check\n",
    "#print(hour[0:10])\n",
    "\n",
    "#build weekend\n",
    "weekend = []\n",
    "\n",
    "for i in week:\n",
    "    if  i==6 :\n",
    "        weekend.append(1)\n",
    "    elif i==7:\n",
    "        weekend.append(1)\n",
    "    else:\n",
    "        weekend.append(0)\n",
    "        \n",
    "import holidays\n",
    "#the holidays in 'NY'\n",
    "us_holidays = holidays.CountryHoliday('US', prov=None, state='NY')\n",
    "holiday = []\n",
    "for i in date1:\n",
    "    if i in us_holidays:\n",
    "        holiday.append(1)\n",
    "    else:\n",
    "        holiday.append(0)\n",
    "\n",
    "# lat & long\n",
    "pick_long = test.iloc[:,2].values\n",
    "pick_lat = test.iloc[:,3].values\n",
    "drop_long = test.iloc[:,4].values\n",
    "drop_lat = test.iloc[:,5].values\n",
    "\n",
    "from math import radians, cos, sin, asin, sqrt\n",
    "def haversine(lon1, lat1, lon2, lat2): # 经度1，纬度1，经度2，纬度2 （十进制度数）\n",
    "    \"\"\"\n",
    "    Calculate the great circle distance between two points \n",
    "    on the earth (specified in decimal degrees)\n",
    "    \"\"\"\n",
    "    # 将十进制度数转化为弧度\n",
    "    lon1, lat1, lon2, lat2 = map(radians, [lon1, lat1, lon2, lat2])\n",
    " \n",
    "    # haversine公式\n",
    "    dlon = lon2 - lon1 \n",
    "    dlat = lat2 - lat1 \n",
    "    a = sin(dlat/2)**2 + cos(lat1) * cos(lat2) * sin(dlon/2)**2\n",
    "    c = 2 * asin(sqrt(a)) \n",
    "    r = 6371 # 地球平均半径，单位为公里\n",
    "    return c * r * 1000\n",
    "    \n",
    "#test\n",
    "import reverse_geocoder as rg #記得裝套件\n",
    "\n",
    "train_pickup = test[['pickup_latitude', 'pickup_longitude']]\n",
    "train_dropoff = test[['dropoff_latitude', 'dropoff_longitude']]\n",
    "\n",
    "pickup_place = [] #array\n",
    "dropoff_place = []\n",
    "\n",
    "for i, j in train_pickup.iterrows():\n",
    "    pickup_place.append((j[\"pickup_latitude\"], j[\"pickup_longitude\"]))\n",
    "    \n",
    "for i, j in train_dropoff.iterrows():\n",
    "    dropoff_place.append((j[\"dropoff_latitude\"], j[\"dropoff_longitude\"]))\n",
    "\n",
    "pickup_results = rg.search(pickup_place)\n",
    "dropoff_results = rg.search(dropoff_place)\n",
    "\n",
    "pur = [pickup_results[i]['name'] for i in range(0, len(pickup_results))]\n",
    "dor = [dropoff_results[i]['name'] for i in range(0, len(dropoff_results))]\n",
    "\n",
    "#append columns to test\n",
    "test['date'] = date1\n",
    "test['month'] = month\n",
    "test['time'] = time1\n",
    "test['week'] = week\n",
    "test['time_interval'] = hour\n",
    "test['weekend'] = weekend\n",
    "test['holiday'] = holiday\n",
    "test['pickup_place'] = pd.Series(pur)\n",
    "test['dropoff_place'] = pd.Series(dor)\n",
    "\n",
    "##linear_distance\n",
    "pick = test.iloc[:,14].values\n",
    "drop = test.iloc[:,15].values\n",
    "area1 = []\n",
    "area2 = []\n",
    "area3 = []\n",
    "area4 = []\n",
    "area5 = []\n",
    "\n",
    "for n in range(9914):\n",
    "    if test['pickup_place'][n] == 'New York City' and test['dropoff_place'][n] != 'New York City' :\n",
    "        area1.append(1)\n",
    "    elif test['pickup_place'][n] != 'New York City' and test['dropoff_place'][n] == 'New York City' :\n",
    "        area1.append(1)\n",
    "    else:\n",
    "        area1.append(0)\n",
    "        \n",
    "#buid linear_distance\n",
    "linear_distance = []\n",
    "for i in range(0,9914):\n",
    "    linear_distance.append(haversine(pick_long[i], pick_lat[i], drop_long[i], drop_lat[i]))\n",
    "\n",
    "test['area_crossing'] = area1\n",
    "test['linear_distance'] = linear_distance\n",
    "'''"
   ]
  },
  {
   "cell_type": "code",
   "execution_count": null,
   "metadata": {
    "_kg_hide-output": true,
    "_uuid": "839ab42ebc2d03d57293a7cc4198a1d8f0010193"
   },
   "outputs": [],
   "source": [
    "'''\n",
    "train['pickup_place'] = train['pickup_place'].astype('category').values\n",
    "train['dropoff_place'] = train['pickup_place'].astype('category').values\n",
    "\n",
    "train['passenger_count'] = train['passenger_count'].astype('float64').values\n",
    "test['passenger_count'] = test['passenger_count'].astype('float64').values\n",
    "\n",
    "train['date'] = train['date'].astype('category').values\n",
    "test['date'] = test['date'].astype('category').values\n",
    "\n",
    "train['month'] = train['month'].astype('category').values\n",
    "test['month'] = test['month'].astype('category').values\n",
    "train['week'] = train['week'].astype('category').values\n",
    "test['week'] = test['week'].astype('category').values\n",
    "\n",
    "test['pickup_place'] = test['pickup_place'].astype('category').values\n",
    "test['dropoff_place'] = test['dropoff_place'].astype('category').values\n",
    "'''"
   ]
  },
  {
   "cell_type": "code",
   "execution_count": null,
   "metadata": {
    "_uuid": "44a8757ded88aba09fcc57b2773ef80726d369e8"
   },
   "outputs": [],
   "source": [
    "train.head()"
   ]
  },
  {
   "cell_type": "code",
   "execution_count": null,
   "metadata": {
    "_uuid": "6f8dbcfe3940fccfe121ed52c12c693904c8d233"
   },
   "outputs": [],
   "source": [
    "test.head()"
   ]
  },
  {
   "cell_type": "code",
   "execution_count": null,
   "metadata": {
    "_uuid": "d33607372d0050a99a4e32b0cd2ee150de5a1e9c"
   },
   "outputs": [],
   "source": [
    "train.dtypes"
   ]
  },
  {
   "cell_type": "code",
   "execution_count": null,
   "metadata": {
    "_uuid": "5e0407aa0fedd67ac1c143dbfde497cbb4543bf7"
   },
   "outputs": [],
   "source": [
    "test.dtypes"
   ]
  },
  {
   "cell_type": "code",
   "execution_count": null,
   "metadata": {
    "_uuid": "5e087f16ed5be7670a1f4d9eb03fa2aa1d9753e2"
   },
   "outputs": [],
   "source": []
  },
  {
   "cell_type": "markdown",
   "metadata": {
    "_uuid": "d1b60b97a208918609e14acb0e314dd508fa47b8"
   },
   "source": [
    "# Model"
   ]
  },
  {
   "cell_type": "code",
   "execution_count": null,
   "metadata": {
    "_uuid": "0d748a7c34a457bbd80da29ba2c7bde02df25257"
   },
   "outputs": [],
   "source": [
    "train.columns"
   ]
  },
  {
   "cell_type": "code",
   "execution_count": null,
   "metadata": {
    "_uuid": "24b1b9edd84b12079d535cb5d4310d3ac2eb6324"
   },
   "outputs": [],
   "source": [
    "features = ['pickup_longitude', 'pickup_latitude', 'dropoff_longitude', 'dropoff_latitude',\n",
    "            'passenger_count', 'month', 'week', 'time_interval', 'weekend', 'holiday', \n",
    "            'pickup_place', 'dropoff_place', 'area_crossing', \n",
    "            'linear_distance']\n",
    "target = ['fare_amount']"
   ]
  },
  {
   "cell_type": "code",
   "execution_count": null,
   "metadata": {
    "_uuid": "ff21ac9271d8e9f014f90e55a4f1dfa3ce58444b"
   },
   "outputs": [],
   "source": [
    "X_features = train.iloc[:, :][features]\n",
    "X_target = train.iloc[:, :][target]\n",
    "\n",
    "y_features = test.iloc[:, :][features]"
   ]
  },
  {
   "cell_type": "code",
   "execution_count": null,
   "metadata": {
    "_uuid": "b78d167a61e48ce4950260cb9760208bcbd1f6d9"
   },
   "outputs": [],
   "source": [
    "X_features.head()"
   ]
  },
  {
   "cell_type": "markdown",
   "metadata": {
    "_uuid": "3ece390e07ff167323064a7d9e19efdc17589d64"
   },
   "source": [
    "https://tech.yandex.com/catboost/doc/dg/concepts/algorithm-main-stages_cat-to-numberic-docpage/"
   ]
  },
  {
   "cell_type": "code",
   "execution_count": null,
   "metadata": {
    "_uuid": "ca68f0275ddb34864768edfed277940d80bff7a4"
   },
   "outputs": [],
   "source": [
    "categorical_features_indices = np.where(X_features.dtypes != np.float)[0]"
   ]
  },
  {
   "cell_type": "code",
   "execution_count": null,
   "metadata": {
    "_uuid": "773e21c78ceb8753f1ef8813f6cba5fcf1e63cb5"
   },
   "outputs": [],
   "source": [
    "categorical_features_indices"
   ]
  },
  {
   "cell_type": "markdown",
   "metadata": {
    "_uuid": "1ce72eaeef5dd96595b11a176fe307a3dcc8997f"
   },
   "source": [
    "## Data Splitting"
   ]
  },
  {
   "cell_type": "code",
   "execution_count": null,
   "metadata": {
    "_uuid": "a74fd350c49fcccd69e69453c5c0f22469380e0f"
   },
   "outputs": [],
   "source": [
    "from sklearn.model_selection import train_test_split\n",
    "\n",
    "X_train, X_validation, y_train, y_validation = train_test_split(X_features, X_target, test_size=0.3, random_state=0)\n",
    "X_test = y_features"
   ]
  },
  {
   "cell_type": "markdown",
   "metadata": {
    "_uuid": "752e85debb377562ce0f1f0e6781e417bab295d7"
   },
   "source": [
    "# CatBoost模型"
   ]
  },
  {
   "cell_type": "code",
   "execution_count": null,
   "metadata": {
    "_uuid": "1732b80db7265669e07473bb1e0a49052bca3b25"
   },
   "outputs": [],
   "source": [
    "from catboost import CatBoostRegressor, Pool, cv\n",
    "from sklearn.metrics import accuracy_score"
   ]
  },
  {
   "cell_type": "code",
   "execution_count": null,
   "metadata": {
    "_uuid": "9b6cbff0ff56abeeafb4a6a87cce5c4533f40532"
   },
   "outputs": [],
   "source": [
    "train_pool = Pool(X_train, y_train, cat_features=categorical_features_indices)\n",
    "validate_pool = Pool(X_validation, y_validation, cat_features=categorical_features_indices)"
   ]
  },
  {
   "cell_type": "code",
   "execution_count": null,
   "metadata": {
    "_uuid": "77091fef215c5c3a28bbd309099f9580eda7b3b0"
   },
   "outputs": [],
   "source": [
    "#default parameters\n",
    "model = CatBoostRegressor(\n",
    "    num_boost_round=700,\n",
    "    learning_rate=0.4, #default 0.03\n",
    "    depth=10, #default 6\n",
    "    loss_function='RMSE',\n",
    "    eval_metric='RMSE',\n",
    "    random_seed=0,\n",
    "#    logging_level='Verbose',\n",
    "    use_best_model=True,\n",
    "    od_type='IncToDec',\n",
    "    od_pval=0.01,\n",
    "    od_wait=40\n",
    ")"
   ]
  },
  {
   "cell_type": "code",
   "execution_count": null,
   "metadata": {
    "_kg_hide-output": true,
    "_uuid": "7fcf63efafa583da6b641311edab26ee3f9c9d29"
   },
   "outputs": [],
   "source": [
    "%%time\n",
    "model.fit(\n",
    "    X_train, y_train,\n",
    "    cat_features=categorical_features_indices,\n",
    "    eval_set=validate_pool,\n",
    "#    logging_level='Verbose',\n",
    "    plot=True #可看圖!!!\n",
    ");"
   ]
  },
  {
   "cell_type": "code",
   "execution_count": null,
   "metadata": {
    "_uuid": "a61c1a86691b2742cf1114a9b38ff3401569991a"
   },
   "outputs": [],
   "source": [
    "'''\n",
    "cv_params = model.get_params() \n",
    "cv_params.update({\n",
    "    'loss_function': 'RSME' #改loss_function\n",
    "})\n",
    "\n",
    "#進行cross validation，採用別的loss function\n",
    "cv_data = cv(\n",
    "    train_pool,\n",
    "    cv_params,\n",
    "    plot=True\n",
    ") \n",
    "'''"
   ]
  },
  {
   "cell_type": "markdown",
   "metadata": {
    "_uuid": "74efc2ea8f5bad19e50a13c1f87b988bdbe5e054"
   },
   "source": [
    "https://tech.yandex.com/catboost/doc/dg/concepts/loss-functions-docpage/#loss-functions"
   ]
  },
  {
   "cell_type": "code",
   "execution_count": null,
   "metadata": {
    "_uuid": "f4525e4d34074bed586629ee9122ae173a8424af"
   },
   "outputs": [],
   "source": [
    "y_pred_cb = model.predict(X_test)"
   ]
  },
  {
   "cell_type": "code",
   "execution_count": null,
   "metadata": {
    "_uuid": "ad31e7468e0effbf7916a5fea69b9ee9ce0cf794"
   },
   "outputs": [],
   "source": [
    "feature_importances = model.get_feature_importance(train_pool)\n",
    "\n",
    "feature_names = X_train.columns\n",
    "for score, name in sorted(zip(feature_importances, feature_names), reverse=True):\n",
    "    print('{}: {}'.format(name, score))"
   ]
  },
  {
   "cell_type": "code",
   "execution_count": null,
   "metadata": {
    "_uuid": "c0311fe28cd586905ef8608db4b8aa976f2130f2"
   },
   "outputs": [],
   "source": []
  },
  {
   "cell_type": "code",
   "execution_count": null,
   "metadata": {
    "_uuid": "243b4061ae90536198b745074731228f4993fc32"
   },
   "outputs": [],
   "source": [
    "submission = pd.DataFrame()\n",
    "submission['key'] = test.key\n",
    "submission['fare_amount'] = y_pred_cb\n",
    "submission.to_csv('submission_cb010.csv', index = False)"
   ]
  },
  {
   "cell_type": "code",
   "execution_count": null,
   "metadata": {
    "_uuid": "684ff0e9befa8349f12ac688645dd701b60d99cf"
   },
   "outputs": [],
   "source": [
    "ss = pd.read_csv('../input/new-york-city-taxi-fare-prediction/sample_submission.csv')\n",
    "#ss = pd.read_csv('sample_submission.csv')\n",
    "ss.loc[:, 'fare_amount'] = y_pred_cb\n",
    "\n",
    "ss.to_csv('submission_cb010.csv', index=False)"
   ]
  },
  {
   "cell_type": "code",
   "execution_count": null,
   "metadata": {
    "_uuid": "a46e7aecde61f7ea9a4d7f3bd4bb7444358c6c54"
   },
   "outputs": [],
   "source": []
  },
  {
   "cell_type": "code",
   "execution_count": null,
   "metadata": {
    "_uuid": "99c0f01e2a5a4dff8c68efcdb70e417cb64c707b"
   },
   "outputs": [],
   "source": []
  }
 ],
 "metadata": {
  "kernelspec": {
   "display_name": "Python 3",
   "language": "python",
   "name": "python3"
  },
  "language_info": {
   "codemirror_mode": {
    "name": "ipython",
    "version": 3
   },
   "file_extension": ".py",
   "mimetype": "text/x-python",
   "name": "python",
   "nbconvert_exporter": "python",
   "pygments_lexer": "ipython3",
   "version": "3.7.4"
  }
 },
 "nbformat": 4,
 "nbformat_minor": 1
}

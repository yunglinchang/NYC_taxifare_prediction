{
 "cells": [
  {
   "cell_type": "markdown",
   "metadata": {},
   "source": [
    "# [New York City Taxi Fare Prediction](https://www.kaggle.com/c/new-york-city-taxi-fare-prediction)"
   ]
  },
  {
   "cell_type": "markdown",
   "metadata": {},
   "source": [
    "## Import packages"
   ]
  },
  {
   "cell_type": "code",
   "execution_count": 1,
   "metadata": {
    "_uuid": "aee4c8e6c192b058537578dbb150262678e20234"
   },
   "outputs": [],
   "source": [
    "import numpy as np \n",
    "import pandas as pd"
   ]
  },
  {
   "cell_type": "markdown",
   "metadata": {},
   "source": [
    "## Import data"
   ]
  },
  {
   "cell_type": "code",
   "execution_count": null,
   "metadata": {
    "_uuid": "d5afae49cf8e69e31d523ad88226c112cd8b7634",
    "scrolled": true
   },
   "outputs": [],
   "source": [
    "%%time\n",
    "train = pd.read_feather(\"data/train5.feather\")\n",
    "test = pd.read_feather(\"data/test5.feather\")"
   ]
  },
  {
   "cell_type": "code",
   "execution_count": null,
   "metadata": {
    "_uuid": "081df93697d02130d2d0e5812348b83a3f5288df"
   },
   "outputs": [],
   "source": [
    "train.head()"
   ]
  },
  {
   "cell_type": "code",
   "execution_count": 9,
   "metadata": {
    "_uuid": "55454a38cf343340ba879b267832f7e1028aa32a"
   },
   "outputs": [
    {
     "data": {
      "text/plain": [
       "(55418166, 45)"
      ]
     },
     "execution_count": 9,
     "metadata": {},
     "output_type": "execute_result"
    }
   ],
   "source": [
    "train.shape"
   ]
  },
  {
   "cell_type": "code",
   "execution_count": 11,
   "metadata": {
    "_uuid": "05bd9d5d00307241066082d35119366ab3c080be",
    "scrolled": true
   },
   "outputs": [
    {
     "data": {
      "text/plain": [
       "key                      object\n",
       "fare_amount             float64\n",
       "pickup_datetime          object\n",
       "pickup_longitude        float64\n",
       "pickup_latitude         float64\n",
       "dropoff_longitude       float64\n",
       "dropoff_latitude        float64\n",
       "passenger_count           int64\n",
       "abs_long_diff           float64\n",
       "abs_lat_diff            float64\n",
       "manhattan_dist          float64\n",
       "sqrt_long_diff          float64\n",
       "sqrt_lat_diff           float64\n",
       "euclidean_dist          float64\n",
       "geodesic_km_dist        float64\n",
       "great_circle_km_dist    float64\n",
       "haversine_dist          float64\n",
       "center_lat              float64\n",
       "center_long             float64\n",
       "year                      int64\n",
       "month                     int64\n",
       "week                      int64\n",
       "day                       int64\n",
       "hour                      int64\n",
       "minute                    int64\n",
       "day_of_week               int64\n",
       "day_of_year               int64\n",
       "quarter                   int64\n",
       "part_of_day               int64\n",
       "is_weekday                int64\n",
       "is_weekend                int64\n",
       "is_month_start            int64\n",
       "is_month_end              int64\n",
       "is_quarter_start          int64\n",
       "is_quarter_end            int64\n",
       "is_year_start             int64\n",
       "is_year_end               int64\n",
       "is_leap_year              int64\n",
       "is_holiday                int64\n",
       "pickup_place             object\n",
       "pickup_admin1            object\n",
       "pickup_admin2            object\n",
       "dropoff_place            object\n",
       "dropoff_admin1           object\n",
       "dropoff_admin2           object\n",
       "dtype: object"
      ]
     },
     "execution_count": 11,
     "metadata": {},
     "output_type": "execute_result"
    }
   ],
   "source": [
    "train.dtypes"
   ]
  },
  {
   "cell_type": "code",
   "execution_count": 12,
   "metadata": {
    "_uuid": "f038b0aa5100a502be6eeeda172c18dfcc975caa",
    "scrolled": true
   },
   "outputs": [
    {
     "data": {
      "text/html": [
       "<div>\n",
       "<style scoped>\n",
       "    .dataframe tbody tr th:only-of-type {\n",
       "        vertical-align: middle;\n",
       "    }\n",
       "\n",
       "    .dataframe tbody tr th {\n",
       "        vertical-align: top;\n",
       "    }\n",
       "\n",
       "    .dataframe thead th {\n",
       "        text-align: right;\n",
       "    }\n",
       "</style>\n",
       "<table border=\"1\" class=\"dataframe\">\n",
       "  <thead>\n",
       "    <tr style=\"text-align: right;\">\n",
       "      <th></th>\n",
       "      <th>fare_amount</th>\n",
       "      <th>pickup_longitude</th>\n",
       "      <th>pickup_latitude</th>\n",
       "      <th>dropoff_longitude</th>\n",
       "      <th>dropoff_latitude</th>\n",
       "      <th>passenger_count</th>\n",
       "      <th>abs_long_diff</th>\n",
       "      <th>abs_lat_diff</th>\n",
       "      <th>manhattan_dist</th>\n",
       "      <th>sqrt_long_diff</th>\n",
       "      <th>...</th>\n",
       "      <th>is_weekday</th>\n",
       "      <th>is_weekend</th>\n",
       "      <th>is_month_start</th>\n",
       "      <th>is_month_end</th>\n",
       "      <th>is_quarter_start</th>\n",
       "      <th>is_quarter_end</th>\n",
       "      <th>is_year_start</th>\n",
       "      <th>is_year_end</th>\n",
       "      <th>is_leap_year</th>\n",
       "      <th>is_holiday</th>\n",
       "    </tr>\n",
       "  </thead>\n",
       "  <tbody>\n",
       "    <tr>\n",
       "      <th>count</th>\n",
       "      <td>5.541817e+07</td>\n",
       "      <td>5.541817e+07</td>\n",
       "      <td>5.541817e+07</td>\n",
       "      <td>5.541817e+07</td>\n",
       "      <td>5.541817e+07</td>\n",
       "      <td>5.541817e+07</td>\n",
       "      <td>5.541817e+07</td>\n",
       "      <td>5.541817e+07</td>\n",
       "      <td>5.541817e+07</td>\n",
       "      <td>5.541817e+07</td>\n",
       "      <td>...</td>\n",
       "      <td>5.541817e+07</td>\n",
       "      <td>5.541817e+07</td>\n",
       "      <td>5.541817e+07</td>\n",
       "      <td>5.541817e+07</td>\n",
       "      <td>5.541817e+07</td>\n",
       "      <td>5.541817e+07</td>\n",
       "      <td>5.541817e+07</td>\n",
       "      <td>5.541817e+07</td>\n",
       "      <td>5.541817e+07</td>\n",
       "      <td>5.541817e+07</td>\n",
       "    </tr>\n",
       "    <tr>\n",
       "      <th>mean</th>\n",
       "      <td>1.134595e+01</td>\n",
       "      <td>-7.249895e+01</td>\n",
       "      <td>3.991783e+01</td>\n",
       "      <td>-7.250340e+01</td>\n",
       "      <td>3.992013e+01</td>\n",
       "      <td>1.685123e+00</td>\n",
       "      <td>1.639485e-01</td>\n",
       "      <td>9.327187e-02</td>\n",
       "      <td>2.572204e-01</td>\n",
       "      <td>1.041902e+01</td>\n",
       "      <td>...</td>\n",
       "      <td>7.171059e-01</td>\n",
       "      <td>2.828941e-01</td>\n",
       "      <td>3.109018e-02</td>\n",
       "      <td>3.291865e-02</td>\n",
       "      <td>9.650716e-03</td>\n",
       "      <td>1.084417e-02</td>\n",
       "      <td>2.132983e-03</td>\n",
       "      <td>2.420560e-03</td>\n",
       "      <td>1.609210e-01</td>\n",
       "      <td>2.266201e-02</td>\n",
       "    </tr>\n",
       "    <tr>\n",
       "      <th>std</th>\n",
       "      <td>2.071084e+01</td>\n",
       "      <td>1.045399e+01</td>\n",
       "      <td>6.112142e+00</td>\n",
       "      <td>1.043595e+01</td>\n",
       "      <td>6.105580e+00</td>\n",
       "      <td>1.308721e+00</td>\n",
       "      <td>3.223684e+00</td>\n",
       "      <td>1.710960e+00</td>\n",
       "      <td>4.847436e+00</td>\n",
       "      <td>2.380170e+02</td>\n",
       "      <td>...</td>\n",
       "      <td>4.504054e-01</td>\n",
       "      <td>4.504054e-01</td>\n",
       "      <td>1.735615e-01</td>\n",
       "      <td>1.784237e-01</td>\n",
       "      <td>9.776288e-02</td>\n",
       "      <td>1.035692e-01</td>\n",
       "      <td>4.613495e-02</td>\n",
       "      <td>4.913961e-02</td>\n",
       "      <td>3.674581e-01</td>\n",
       "      <td>1.488235e-01</td>\n",
       "    </tr>\n",
       "    <tr>\n",
       "      <th>min</th>\n",
       "      <td>0.000000e+00</td>\n",
       "      <td>-1.717973e+02</td>\n",
       "      <td>-7.783387e+01</td>\n",
       "      <td>-1.739576e+02</td>\n",
       "      <td>-7.435461e+01</td>\n",
       "      <td>0.000000e+00</td>\n",
       "      <td>0.000000e+00</td>\n",
       "      <td>0.000000e+00</td>\n",
       "      <td>0.000000e+00</td>\n",
       "      <td>0.000000e+00</td>\n",
       "      <td>...</td>\n",
       "      <td>0.000000e+00</td>\n",
       "      <td>0.000000e+00</td>\n",
       "      <td>0.000000e+00</td>\n",
       "      <td>0.000000e+00</td>\n",
       "      <td>0.000000e+00</td>\n",
       "      <td>0.000000e+00</td>\n",
       "      <td>0.000000e+00</td>\n",
       "      <td>0.000000e+00</td>\n",
       "      <td>0.000000e+00</td>\n",
       "      <td>0.000000e+00</td>\n",
       "    </tr>\n",
       "    <tr>\n",
       "      <th>25%</th>\n",
       "      <td>6.000000e+00</td>\n",
       "      <td>-7.399207e+01</td>\n",
       "      <td>4.073493e+01</td>\n",
       "      <td>-7.399140e+01</td>\n",
       "      <td>4.073403e+01</td>\n",
       "      <td>1.000000e+00</td>\n",
       "      <td>5.803000e-03</td>\n",
       "      <td>6.584000e-03</td>\n",
       "      <td>1.582000e-02</td>\n",
       "      <td>3.367481e-05</td>\n",
       "      <td>...</td>\n",
       "      <td>0.000000e+00</td>\n",
       "      <td>0.000000e+00</td>\n",
       "      <td>0.000000e+00</td>\n",
       "      <td>0.000000e+00</td>\n",
       "      <td>0.000000e+00</td>\n",
       "      <td>0.000000e+00</td>\n",
       "      <td>0.000000e+00</td>\n",
       "      <td>0.000000e+00</td>\n",
       "      <td>0.000000e+00</td>\n",
       "      <td>0.000000e+00</td>\n",
       "    </tr>\n",
       "    <tr>\n",
       "      <th>50%</th>\n",
       "      <td>8.500000e+00</td>\n",
       "      <td>-7.398180e+01</td>\n",
       "      <td>4.075265e+01</td>\n",
       "      <td>-7.398015e+01</td>\n",
       "      <td>4.075316e+01</td>\n",
       "      <td>1.000000e+00</td>\n",
       "      <td>1.243300e-02</td>\n",
       "      <td>1.386000e-02</td>\n",
       "      <td>2.763200e-02</td>\n",
       "      <td>1.545795e-04</td>\n",
       "      <td>...</td>\n",
       "      <td>1.000000e+00</td>\n",
       "      <td>0.000000e+00</td>\n",
       "      <td>0.000000e+00</td>\n",
       "      <td>0.000000e+00</td>\n",
       "      <td>0.000000e+00</td>\n",
       "      <td>0.000000e+00</td>\n",
       "      <td>0.000000e+00</td>\n",
       "      <td>0.000000e+00</td>\n",
       "      <td>0.000000e+00</td>\n",
       "      <td>0.000000e+00</td>\n",
       "    </tr>\n",
       "    <tr>\n",
       "      <th>75%</th>\n",
       "      <td>1.250000e+01</td>\n",
       "      <td>-7.396708e+01</td>\n",
       "      <td>4.076713e+01</td>\n",
       "      <td>-7.396367e+01</td>\n",
       "      <td>4.076810e+01</td>\n",
       "      <td>2.000000e+00</td>\n",
       "      <td>2.371300e-02</td>\n",
       "      <td>2.693500e-02</td>\n",
       "      <td>5.033900e-02</td>\n",
       "      <td>5.623064e-04</td>\n",
       "      <td>...</td>\n",
       "      <td>1.000000e+00</td>\n",
       "      <td>1.000000e+00</td>\n",
       "      <td>0.000000e+00</td>\n",
       "      <td>0.000000e+00</td>\n",
       "      <td>0.000000e+00</td>\n",
       "      <td>0.000000e+00</td>\n",
       "      <td>0.000000e+00</td>\n",
       "      <td>0.000000e+00</td>\n",
       "      <td>0.000000e+00</td>\n",
       "      <td>0.000000e+00</td>\n",
       "    </tr>\n",
       "    <tr>\n",
       "      <th>max</th>\n",
       "      <td>9.396336e+04</td>\n",
       "      <td>1.699728e+02</td>\n",
       "      <td>8.974216e+01</td>\n",
       "      <td>1.699728e+02</td>\n",
       "      <td>8.981667e+01</td>\n",
       "      <td>6.000000e+00</td>\n",
       "      <td>2.290003e+02</td>\n",
       "      <td>1.185963e+02</td>\n",
       "      <td>2.570682e+02</td>\n",
       "      <td>5.244115e+04</td>\n",
       "      <td>...</td>\n",
       "      <td>1.000000e+00</td>\n",
       "      <td>1.000000e+00</td>\n",
       "      <td>1.000000e+00</td>\n",
       "      <td>1.000000e+00</td>\n",
       "      <td>1.000000e+00</td>\n",
       "      <td>1.000000e+00</td>\n",
       "      <td>1.000000e+00</td>\n",
       "      <td>1.000000e+00</td>\n",
       "      <td>1.000000e+00</td>\n",
       "      <td>1.000000e+00</td>\n",
       "    </tr>\n",
       "  </tbody>\n",
       "</table>\n",
       "<p>8 rows × 37 columns</p>\n",
       "</div>"
      ],
      "text/plain": [
       "        fare_amount  pickup_longitude  pickup_latitude  dropoff_longitude  \\\n",
       "count  5.541817e+07      5.541817e+07     5.541817e+07       5.541817e+07   \n",
       "mean   1.134595e+01     -7.249895e+01     3.991783e+01      -7.250340e+01   \n",
       "std    2.071084e+01      1.045399e+01     6.112142e+00       1.043595e+01   \n",
       "min    0.000000e+00     -1.717973e+02    -7.783387e+01      -1.739576e+02   \n",
       "25%    6.000000e+00     -7.399207e+01     4.073493e+01      -7.399140e+01   \n",
       "50%    8.500000e+00     -7.398180e+01     4.075265e+01      -7.398015e+01   \n",
       "75%    1.250000e+01     -7.396708e+01     4.076713e+01      -7.396367e+01   \n",
       "max    9.396336e+04      1.699728e+02     8.974216e+01       1.699728e+02   \n",
       "\n",
       "       dropoff_latitude  passenger_count  abs_long_diff  abs_lat_diff  \\\n",
       "count      5.541817e+07     5.541817e+07   5.541817e+07  5.541817e+07   \n",
       "mean       3.992013e+01     1.685123e+00   1.639485e-01  9.327187e-02   \n",
       "std        6.105580e+00     1.308721e+00   3.223684e+00  1.710960e+00   \n",
       "min       -7.435461e+01     0.000000e+00   0.000000e+00  0.000000e+00   \n",
       "25%        4.073403e+01     1.000000e+00   5.803000e-03  6.584000e-03   \n",
       "50%        4.075316e+01     1.000000e+00   1.243300e-02  1.386000e-02   \n",
       "75%        4.076810e+01     2.000000e+00   2.371300e-02  2.693500e-02   \n",
       "max        8.981667e+01     6.000000e+00   2.290003e+02  1.185963e+02   \n",
       "\n",
       "       manhattan_dist  sqrt_long_diff  ...    is_weekday    is_weekend  \\\n",
       "count    5.541817e+07    5.541817e+07  ...  5.541817e+07  5.541817e+07   \n",
       "mean     2.572204e-01    1.041902e+01  ...  7.171059e-01  2.828941e-01   \n",
       "std      4.847436e+00    2.380170e+02  ...  4.504054e-01  4.504054e-01   \n",
       "min      0.000000e+00    0.000000e+00  ...  0.000000e+00  0.000000e+00   \n",
       "25%      1.582000e-02    3.367481e-05  ...  0.000000e+00  0.000000e+00   \n",
       "50%      2.763200e-02    1.545795e-04  ...  1.000000e+00  0.000000e+00   \n",
       "75%      5.033900e-02    5.623064e-04  ...  1.000000e+00  1.000000e+00   \n",
       "max      2.570682e+02    5.244115e+04  ...  1.000000e+00  1.000000e+00   \n",
       "\n",
       "       is_month_start  is_month_end  is_quarter_start  is_quarter_end  \\\n",
       "count    5.541817e+07  5.541817e+07      5.541817e+07    5.541817e+07   \n",
       "mean     3.109018e-02  3.291865e-02      9.650716e-03    1.084417e-02   \n",
       "std      1.735615e-01  1.784237e-01      9.776288e-02    1.035692e-01   \n",
       "min      0.000000e+00  0.000000e+00      0.000000e+00    0.000000e+00   \n",
       "25%      0.000000e+00  0.000000e+00      0.000000e+00    0.000000e+00   \n",
       "50%      0.000000e+00  0.000000e+00      0.000000e+00    0.000000e+00   \n",
       "75%      0.000000e+00  0.000000e+00      0.000000e+00    0.000000e+00   \n",
       "max      1.000000e+00  1.000000e+00      1.000000e+00    1.000000e+00   \n",
       "\n",
       "       is_year_start   is_year_end  is_leap_year    is_holiday  \n",
       "count   5.541817e+07  5.541817e+07  5.541817e+07  5.541817e+07  \n",
       "mean    2.132983e-03  2.420560e-03  1.609210e-01  2.266201e-02  \n",
       "std     4.613495e-02  4.913961e-02  3.674581e-01  1.488235e-01  \n",
       "min     0.000000e+00  0.000000e+00  0.000000e+00  0.000000e+00  \n",
       "25%     0.000000e+00  0.000000e+00  0.000000e+00  0.000000e+00  \n",
       "50%     0.000000e+00  0.000000e+00  0.000000e+00  0.000000e+00  \n",
       "75%     0.000000e+00  0.000000e+00  0.000000e+00  0.000000e+00  \n",
       "max     1.000000e+00  1.000000e+00  1.000000e+00  1.000000e+00  \n",
       "\n",
       "[8 rows x 37 columns]"
      ]
     },
     "execution_count": 12,
     "metadata": {},
     "output_type": "execute_result"
    }
   ],
   "source": [
    "train.describe()"
   ]
  },
  {
   "cell_type": "markdown",
   "metadata": {
    "_uuid": "427a72337cdc1be3f386c4ae9caa3549661183b3"
   },
   "source": [
    "# Categorical Data"
   ]
  },
  {
   "cell_type": "code",
   "execution_count": 15,
   "metadata": {},
   "outputs": [
    {
     "data": {
      "text/plain": [
       "Index(['key', 'pickup_datetime', 'pickup_place', 'pickup_admin1',\n",
       "       'pickup_admin2', 'dropoff_place', 'dropoff_admin1', 'dropoff_admin2'],\n",
       "      dtype='object')"
      ]
     },
     "execution_count": 15,
     "metadata": {},
     "output_type": "execute_result"
    }
   ],
   "source": [
    "test.select_dtypes(include=['object']).columns"
   ]
  },
  {
   "cell_type": "code",
   "execution_count": null,
   "metadata": {},
   "outputs": [],
   "source": [
    "train.apply(lambda x: x.nunique())"
   ]
  },
  {
   "cell_type": "code",
   "execution_count": null,
   "metadata": {},
   "outputs": [],
   "source": []
  },
  {
   "cell_type": "code",
   "execution_count": null,
   "metadata": {},
   "outputs": [],
   "source": []
  },
  {
   "cell_type": "code",
   "execution_count": null,
   "metadata": {},
   "outputs": [],
   "source": []
  },
  {
   "cell_type": "code",
   "execution_count": null,
   "metadata": {},
   "outputs": [],
   "source": []
  },
  {
   "cell_type": "code",
   "execution_count": null,
   "metadata": {
    "_uuid": "77397e0013be858d58b531c5ba24ed7fa295ba32"
   },
   "outputs": [],
   "source": []
  },
  {
   "cell_type": "code",
   "execution_count": null,
   "metadata": {
    "_uuid": "5fc11ea79c77693e082398d623a36d224938f5b3"
   },
   "outputs": [],
   "source": [
    "traincv = train.iloc[:80_000, :]"
   ]
  },
  {
   "cell_type": "code",
   "execution_count": null,
   "metadata": {
    "_uuid": "c1eaba5433e3fd8e6bf49e8bfda2b69675fd542e"
   },
   "outputs": [],
   "source": [
    "traincv.head()"
   ]
  },
  {
   "cell_type": "markdown",
   "metadata": {
    "_uuid": "a38d8cc3307500a58e5b012b197e23159684a156"
   },
   "source": [
    "https://www.kaggle.com/c/home-credit-default-risk/discussion/58950\n",
    "<br>https://www.kaggle.com/mlisovyi/beware-of-categorical-features-in-lgbm\n",
    "<br>https://lightgbm.readthedocs.io/en/latest/Features.html#optimal-split-for-categorical-features"
   ]
  },
  {
   "cell_type": "code",
   "execution_count": null,
   "metadata": {
    "_uuid": "3a39aa361fb69443ce440c51030186767f80b0a4"
   },
   "outputs": [],
   "source": [
    "features = ['pickup_longitude', 'pickup_latitude', 'dropoff_longitude', 'dropoff_latitude', \n",
    "                'passenger_count', 'abs_diff_longitude', 'abs_diff_latitude', 'H_Distance', \n",
    "                'Year', 'Month', 'Date', 'Day of Week', 'Hour', 'pickup_place', 'dropoff_place']\n",
    "target = ['fare_amount']"
   ]
  },
  {
   "cell_type": "code",
   "execution_count": null,
   "metadata": {
    "_uuid": "2344e3bd7586f6410496036ddc7227cbc9b79499"
   },
   "outputs": [],
   "source": [
    "X_features = train.iloc[:, :][features]\n",
    "X_target = train.iloc[:, :][target]\n",
    "\n",
    "X_featurescv = traincv.iloc[:, :][features]\n",
    "X_targetcv = traincv.iloc[:, :][target]"
   ]
  },
  {
   "cell_type": "code",
   "execution_count": null,
   "metadata": {
    "_uuid": "f98cc8765343210eef70395e6fe15e6342060cb6"
   },
   "outputs": [],
   "source": [
    "y_features = test.iloc[:, :][features]"
   ]
  },
  {
   "cell_type": "code",
   "execution_count": null,
   "metadata": {
    "_uuid": "0e37ccd42564eb7a063a8d9063504b5534a37086"
   },
   "outputs": [],
   "source": [
    "X_features.head()"
   ]
  },
  {
   "cell_type": "code",
   "execution_count": null,
   "metadata": {
    "_uuid": "0ef7091b2e01265a1f39c099394ca781e42d8642"
   },
   "outputs": [],
   "source": [
    "X_featurescv.head()"
   ]
  },
  {
   "cell_type": "code",
   "execution_count": null,
   "metadata": {
    "_uuid": "514af8ebe92e8315cbc2e1ceca27c6c5a3d01ff3"
   },
   "outputs": [],
   "source": [
    "y_features.head()"
   ]
  },
  {
   "cell_type": "markdown",
   "metadata": {
    "_uuid": "88af5197ceb76a46e3eed7fd001b6ee9bb893778"
   },
   "source": [
    "# One-hot encoding"
   ]
  },
  {
   "cell_type": "code",
   "execution_count": null,
   "metadata": {
    "_uuid": "38ddb7bfd15d69c65aaecda6b92c1a8b74b00074"
   },
   "outputs": [],
   "source": [
    "#X_features_encoded = pd.get_dummies(X_features, columns=['pickup_place', 'dropoff_place'])\n",
    "#y_features_encoded = pd.get_dummies(y_features, columns=['pickup_place', 'dropoff_place'])"
   ]
  },
  {
   "cell_type": "code",
   "execution_count": null,
   "metadata": {
    "_uuid": "801eaa296f26d5fc4ce80be537a2787c6f891721"
   },
   "outputs": [],
   "source": [
    "#X_set_features = set(X_features_encoded.columns)\n",
    "#y_set_features = set(y_features_encoded.columns)\n",
    "#print(len(X_set_features))\n",
    "#print(len(y_set_features))\n",
    "#X_set_features == y_set_features"
   ]
  },
  {
   "cell_type": "code",
   "execution_count": null,
   "metadata": {
    "_uuid": "ac11c807af8fc915bfb86e02b02620cee8a65fbb"
   },
   "outputs": [],
   "source": [
    "#y_reindexed = y_features_encoded.reindex(columns = X_features_encoded.columns, fill_value = 0)"
   ]
  },
  {
   "cell_type": "code",
   "execution_count": null,
   "metadata": {
    "_uuid": "d083b168bca1cf05967559f17583d0cc6b8cc9c5"
   },
   "outputs": [],
   "source": [
    "#X_features_encoded.columns == y_reindexed.columns"
   ]
  },
  {
   "cell_type": "code",
   "execution_count": null,
   "metadata": {
    "_uuid": "b0a135f6ec288e9b102e5a8affe4fca3089ab12a"
   },
   "outputs": [],
   "source": [
    "#X_features_encoded.head()"
   ]
  },
  {
   "cell_type": "code",
   "execution_count": null,
   "metadata": {
    "_uuid": "bb03d32cf356fd380599a4bd2625733ae1541c96"
   },
   "outputs": [],
   "source": [
    "#y_reindexed.head()"
   ]
  },
  {
   "cell_type": "code",
   "execution_count": null,
   "metadata": {
    "_uuid": "a0bd6d7d1969c8cb19805a18eb585a718c4f38f9"
   },
   "outputs": [],
   "source": []
  },
  {
   "cell_type": "markdown",
   "metadata": {
    "_uuid": "13fbba4818b1f91272019ba9eb953886f0407d3c"
   },
   "source": [
    "# lgb Model\n",
    "## GridSearchCV"
   ]
  },
  {
   "cell_type": "markdown",
   "metadata": {
    "_uuid": "dd2ba2d4026e33873e4acd332c47c31210c95be7"
   },
   "source": [
    "https://www.kaggle.com/garethjns/microsoft-lightgbm-with-parameter-tuning-0-823\n",
    "<br>https://lightgbm.readthedocs.io/en/latest/Features.html#optimal-split-for-categorical-features"
   ]
  },
  {
   "cell_type": "code",
   "execution_count": null,
   "metadata": {
    "_uuid": "7a206624f3d5e9df1368b223ccf1c0c9374d1229"
   },
   "outputs": [],
   "source": [
    "from sklearn.model_selection import train_test_split\n",
    "\n",
    "train_X, test_X, train_y, test_y = train_test_split(X_features, X_target, test_size=0.3, random_state=0)\n",
    "train_Xcv, test_Xcv, train_ycv, test_ycv = train_test_split(X_featurescv, X_targetcv, test_size=0.3, random_state=0)"
   ]
  },
  {
   "cell_type": "code",
   "execution_count": null,
   "metadata": {
    "_uuid": "2b2d265791338e462e7f4abc762ae4381eeff675"
   },
   "outputs": [],
   "source": [
    "import lightgbm as lgb\n",
    "from sklearn.model_selection import GridSearchCV"
   ]
  },
  {
   "cell_type": "code",
   "execution_count": null,
   "metadata": {
    "_uuid": "8e087ef46831d9195ee6c8a47e5ef2c76918b7ec"
   },
   "outputs": [],
   "source": [
    "#dataset\n",
    "lgb_train = lgb.Dataset(train_X, train_y,\n",
    "#                        categorical_feature=features, \n",
    "                        silent=True, \n",
    "                        free_raw_data=False)\n",
    "lgb_eval = lgb.Dataset(test_X, test_y, reference=lgb_train)\n",
    "\n",
    "#dataset\n",
    "lgb_traincv = lgb.Dataset(train_Xcv, train_ycv,\n",
    "#                        categorical_feature=features, \n",
    "                        silent=True, \n",
    "                        free_raw_data=False)\n",
    "lgb_evalcv = lgb.Dataset(test_Xcv, test_ycv, reference=lgb_train)"
   ]
  },
  {
   "cell_type": "code",
   "execution_count": null,
   "metadata": {
    "_uuid": "ae333661fb950a613078bdfd8999affb0da0b79a"
   },
   "outputs": [],
   "source": [
    "def lgb_gridmodel(train_X, test_X, train_y, test_y):\n",
    "    import lightgbm as lgb\n",
    "    from sklearn.model_selection import GridSearchCV\n",
    "    #dataset\n",
    "    lgb_train = lgb.Dataset(train_X, train_y)\n",
    "    lgb_eval = lgb.Dataset(test_X, test_y, reference=lgb_train)\n",
    "    #基本配備，初始參數boosting_type, objective, metric\n",
    "    global params\n",
    "    params = {\n",
    "        'boosting_type': 'gbdt',\n",
    "        'objective': 'regression',\n",
    "        'metric': 'rmse',\n",
    "    }\n",
    "    #cv\n",
    "    min_merror = float('Inf')\n",
    "    global best_params\n",
    "    best_params = {}\n",
    "    #num_leaves, max_depth\n",
    "    for num_leaves in range(20,200,5):\n",
    "        for max_depth in range(3,8,1):\n",
    "            params['num_leaves'] = num_leaves\n",
    "            params['max_depth'] = max_depth\n",
    "            cv_results = lgb.cv(\n",
    "                params,\n",
    "                lgb_train,\n",
    "                seed=2019,\n",
    "                stratified=False, \n",
    "                nfold=5,\n",
    "                metrics=['rmse'],\n",
    "                early_stopping_rounds=10,\n",
    "                verbose_eval=50\n",
    "            )\n",
    "        \n",
    "            mean_merror = pd.Series(cv_results['rmse-mean']).min()\n",
    "            boost_rounds = pd.Series(cv_results['rmse-mean']).argmin()\n",
    "            \n",
    "            if mean_merror < min_merror:\n",
    "                min_merror = mean_merror\n",
    "                best_params['num_leaves'] = num_leaves\n",
    "                best_params['max_depth'] = max_depth\n",
    "    params['num_leaves'] = best_params['num_leaves']\n",
    "    params['max_depth'] = best_params['max_depth']\n",
    "    \n",
    "    #max_bin, min_child_samples, min_child_weight(沒調)\n",
    "    for max_bin in range(5,255,5):\n",
    "        for min_data_in_leaf in range(10,200,5):\n",
    "            for min_child_weight in [0.001, 0.002, 0.003, 0.004, 0.005]:\n",
    "                params['max_bin'] = max_bin\n",
    "                params['min_data_in_leaf'] = min_data_in_leaf\n",
    "                params['min_child_weight'] = min_child_weight\n",
    "                cv_results = lgb.cv(\n",
    "                    params,\n",
    "                    lgb_train,\n",
    "                    seed=42,\n",
    "                    stratified=False,\n",
    "                    nfold=5,\n",
    "                    early_stopping_rounds=3,\n",
    "                    verbose_eval=50\n",
    "                )\n",
    "                mean_merror = pd.Series(cv_results['rmse-mean']).min()\n",
    "                boost_rounds = pd.Series(cv_results['rmse-mean']).argmin()\n",
    "\n",
    "                if mean_merror < min_merror:\n",
    "                    min_merror = mean_merror\n",
    "                    best_params['max_bin'] = max_bin\n",
    "                    best_params['min_data_in_leaf'] = min_data_in_leaf\n",
    "                    best_params['min_child_weight'] = min_child_weight\n",
    "    params['max_bin'] = best_params['max_bin']\n",
    "    params['min_data_in_leaf'] = best_params['min_data_in_leaf']\n",
    "    params['min_child_weight'] = best_params['min_child_weight']\n",
    "    \n",
    "    #feature_fraction, bagging_fraction, bagging_freq\n",
    "    for feature_fraction in [0.1,0.2,0.3,0.4,0.5,0.6,0.7,0.8,0.9,1.0]:\n",
    "        for bagging_fraction in [0.1,0.2,0.3,0.4,0.5,0.6,0.7,0.8,0.9,1.0]:\n",
    "            for bagging_freq in range(0,50,5):\n",
    "                params['feature_fraction'] = feature_fraction\n",
    "                params['bagging_fraction'] = bagging_fraction\n",
    "                params['bagging_freq'] = bagging_freq\n",
    "                cv_results = lgb.cv(\n",
    "                    params,\n",
    "                    lgb_train,\n",
    "                    seed=42,\n",
    "                    stratified=False,\n",
    "                    nfold=5,\n",
    "                    metrics=['rmse'],\n",
    "                    early_stopping_rounds=3,\n",
    "                    verbose_eval=50\n",
    "                )\n",
    "                mean_merror = pd.Series(cv_results['rmse-mean']).min()\n",
    "                boost_rounds = pd.Series(cv_results['rmse-mean']).argmin()\n",
    "\n",
    "                if mean_merror < min_merror:\n",
    "                    min_merror = mean_merror\n",
    "                    best_params['feature_fraction'] = feature_fraction\n",
    "                    best_params['bagging_fraction'] = bagging_fraction\n",
    "                    best_params['bagging_freq'] = bagging_freq\n",
    "    params['feature_fraction'] = best_params['feature_fraction']\n",
    "    params['bagging_fraction'] = best_params['bagging_fraction']\n",
    "    params['bagging_freq'] = best_params['bagging_freq']\n",
    "    \n",
    "    #lambda_l1, lambda_l2, min_split_gain\n",
    "    for lambda_l1 in [0.0,0.1,0.2,0.3,0.4,0.5,0.6,0.7,0.8,0.9,1.0]:\n",
    "        for lambda_l2 in [0.0,0.1,0.2,0.3,0.4,0.5,0.6,0.7,0.8,0.9,1.0]:\n",
    "            for min_split_gain in [0.0,0.1,0.2,0.3,0.4,0.5,0.6,0.7,0.8,0.9,1.0]:\n",
    "                params['lambda_l1'] = lambda_l1\n",
    "                params['lambda_l2'] = lambda_l2\n",
    "                params['min_split_gain'] = min_split_gain\n",
    "                cv_results = lgb.cv(\n",
    "                    params,\n",
    "                    lgb_train,\n",
    "                    seed=42,\n",
    "                    stratified=False,\n",
    "                    nfold=5,\n",
    "                    metrics=['rmse'],\n",
    "                    early_stopping_rounds=3,\n",
    "                    verbose_eval=50\n",
    "                )\n",
    "                mean_merror = pd.Series(cv_results['rmse-mean']).min()\n",
    "                boost_rounds = pd.Series(cv_results['rmse-mean']).argmin()\n",
    "            \n",
    "                if mean_merror < min_merror:\n",
    "                    min_merror = mean_merror\n",
    "                    best_params['lambda_l1'] = lambda_l1\n",
    "                    best_params['lambda_l2'] = lambda_l2\n",
    "                    best_params['min_split_gain'] = min_split_gain\n",
    "    params['lambda_l1'] = best_params['lambda_l1']\n",
    "    params['lambda_l2'] = best_params['lambda_l2']\n",
    "    params['min_split_gain'] = best_params['min_split_gain']\n",
    "    return best_params"
   ]
  },
  {
   "cell_type": "code",
   "execution_count": null,
   "metadata": {
    "_kg_hide-output": true,
    "_uuid": "77aaaab9043fc81f13cd4fed867f80e5fdc38f78"
   },
   "outputs": [],
   "source": [
    "%%time\n",
    "lgb_gridmodel(train_Xcv, test_Xcv, train_ycv, test_ycv)"
   ]
  },
  {
   "cell_type": "code",
   "execution_count": null,
   "metadata": {
    "_uuid": "518d4ffe2fcb57bf81a5d56a1b02d0d569faeabe"
   },
   "outputs": [],
   "source": [
    "best_params"
   ]
  },
  {
   "cell_type": "code",
   "execution_count": null,
   "metadata": {
    "_uuid": "056e6eef7b2e0c4038784c61f7a16710503df8a5"
   },
   "outputs": [],
   "source": [
    "params['learning_rate']=0.4\n",
    "params"
   ]
  },
  {
   "cell_type": "code",
   "execution_count": null,
   "metadata": {
    "_kg_hide-output": true,
    "_uuid": "154b78e9a4b35650a0d2b20c73ac8143fb99b2fa"
   },
   "outputs": [],
   "source": [
    "gbm = lgb.train(\n",
    "    params,                     \n",
    "    lgb_train,                  \n",
    "    valid_sets=lgb_eval,       \n",
    "    num_boost_round=300,    \n",
    "    early_stopping_rounds=50\n",
    ")"
   ]
  },
  {
   "cell_type": "code",
   "execution_count": null,
   "metadata": {
    "_uuid": "399b759138eb88e527d919072a246fb63abe9bea"
   },
   "outputs": [],
   "source": [
    "y_pred_lgb = gbm.predict(y_features, num_iteration = gbm.best_iteration)"
   ]
  },
  {
   "cell_type": "code",
   "execution_count": null,
   "metadata": {
    "_uuid": "5e3ffaa83e78d43970188c7a82ecf5ed1c5deee3"
   },
   "outputs": [],
   "source": [
    "#feature importance\n",
    "%matplotlib inline\n",
    "import matplotlib.pyplot as plt\n",
    "\n",
    "ax = lgb.plot_importance(gbm)"
   ]
  },
  {
   "cell_type": "code",
   "execution_count": null,
   "metadata": {
    "_uuid": "754fae9a1323beb4ea7577ded134f6ad836942d7"
   },
   "outputs": [],
   "source": [
    "submission = pd.DataFrame()\n",
    "submission['key'] = test.key\n",
    "submission['fare_amount'] = y_pred_lgb\n",
    "submission.to_csv('submission_lgbgrid.csv', index = False)"
   ]
  },
  {
   "cell_type": "code",
   "execution_count": null,
   "metadata": {
    "_uuid": "75dd6a0ecb7708a2d1733130859aefaad8222558"
   },
   "outputs": [],
   "source": [
    "ss = pd.read_csv('../input/sample_submission.csv')\n",
    "#ss = pd.read_csv('sample_submission.csv')\n",
    "ss.loc[:, 'fare_amount'] = y_pred_lgb\n",
    "\n",
    "ss.to_csv('submission_lgbgrid.csv', index=False)"
   ]
  },
  {
   "cell_type": "markdown",
   "metadata": {
    "_uuid": "5929c6e4c556bf21a1ce52c7bea4050a13ea8e69"
   },
   "source": [
    "# top"
   ]
  },
  {
   "cell_type": "code",
   "execution_count": null,
   "metadata": {
    "_uuid": "a6c3e1ad9820386bd5fca6737108eb6c13961993"
   },
   "outputs": [],
   "source": [
    "top_params = {\n",
    "        'boosting_type':'gbdt',\n",
    "        'objective': 'regression',\n",
    "        'nthread': -1,\n",
    "        'verbose': 0,\n",
    "        'num_leaves': 31,\n",
    "        'learning_rate': 0.4,\n",
    "        'max_depth': -1,\n",
    "        'subsample': 0.8,\n",
    "        'subsample_freq': 1,\n",
    "        'colsample_bytree': 0.6,\n",
    "        'reg_aplha': 1,\n",
    "        'reg_lambda': 0.001,\n",
    "        'metric': 'rmse',\n",
    "        'min_split_gain': 0.5,\n",
    "        'min_child_weight': 1,\n",
    "        'min_child_samples': 10,\n",
    "        'scale_pos_weight':1,\n",
    "        'verbose':0\n",
    "    }"
   ]
  },
  {
   "cell_type": "code",
   "execution_count": null,
   "metadata": {
    "_uuid": "1edddadbd3344927b8ca8f06a18acc73ded3b490"
   },
   "outputs": [],
   "source": [
    "gbmtop = lgb.train(\n",
    "    top_params,                     \n",
    "    lgb_train,                  \n",
    "    valid_sets=lgb_eval,       \n",
    "    num_boost_round=300,    \n",
    "    early_stopping_rounds=50\n",
    ")"
   ]
  },
  {
   "cell_type": "code",
   "execution_count": null,
   "metadata": {
    "_uuid": "4c52f8624006f0b1d6f18faa4966e8a55c037427"
   },
   "outputs": [],
   "source": [
    "y_pred_lgbtop = gbmtop.predict(y_features, num_iteration = gbm.best_iteration)"
   ]
  },
  {
   "cell_type": "code",
   "execution_count": null,
   "metadata": {
    "_uuid": "33a3c5c735ac77201526da816d83822b1adaf684"
   },
   "outputs": [],
   "source": [
    "#feature importance\n",
    "%matplotlib inline\n",
    "import matplotlib.pyplot as plt\n",
    "\n",
    "ax = lgb.plot_importance(gbmtop)"
   ]
  },
  {
   "cell_type": "code",
   "execution_count": null,
   "metadata": {
    "_uuid": "27b6b141bbb18c3d0c786c67656f6449e47bd66e"
   },
   "outputs": [],
   "source": [
    "submission = pd.DataFrame()\n",
    "submission['key'] = test.key\n",
    "submission['fare_amount'] = y_pred_lgbtop\n",
    "submission.to_csv('submission_lgbtop.csv', index = False)"
   ]
  },
  {
   "cell_type": "code",
   "execution_count": null,
   "metadata": {
    "_uuid": "a4c6b9536f63c9b98beba34c553ff61ef532888f"
   },
   "outputs": [],
   "source": [
    "ss = pd.read_csv('../input/sample_submission.csv')\n",
    "#ss = pd.read_csv('sample_submission.csv')\n",
    "ss.loc[:, 'fare_amount'] = y_pred_lgbtop\n",
    "\n",
    "ss.to_csv('submission_lgbtop.csv', index=False)"
   ]
  },
  {
   "cell_type": "code",
   "execution_count": null,
   "metadata": {
    "_uuid": "146d85d2c82053719a9c3bd17b7f7fe86751562b"
   },
   "outputs": [],
   "source": []
  }
 ],
 "metadata": {
  "kernelspec": {
   "display_name": "Python 3",
   "language": "python",
   "name": "python3"
  },
  "language_info": {
   "codemirror_mode": {
    "name": "ipython",
    "version": 3
   },
   "file_extension": ".py",
   "mimetype": "text/x-python",
   "name": "python",
   "nbconvert_exporter": "python",
   "pygments_lexer": "ipython3",
   "version": "3.7.4"
  }
 },
 "nbformat": 4,
 "nbformat_minor": 1
}

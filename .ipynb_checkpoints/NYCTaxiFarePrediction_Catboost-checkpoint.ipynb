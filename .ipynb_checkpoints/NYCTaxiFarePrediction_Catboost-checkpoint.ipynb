{
 "cells": [
  {
   "cell_type": "markdown",
   "metadata": {},
   "source": [
    "# [New York City Taxi Fare Prediction](https://www.kaggle.com/c/new-york-city-taxi-fare-prediction)"
   ]
  },
  {
   "cell_type": "markdown",
   "metadata": {},
   "source": [
    "## Import packages"
   ]
  },
  {
   "cell_type": "code",
   "execution_count": 1,
   "metadata": {
    "_uuid": "df4ebb6f9c60e5271412d713fc7151da9e932912"
   },
   "outputs": [],
   "source": [
    "import numpy as np \n",
    "import pandas as pd"
   ]
  },
  {
   "cell_type": "markdown",
   "metadata": {},
   "source": [
    "## Import data"
   ]
  },
  {
   "cell_type": "code",
   "execution_count": 6,
   "metadata": {
    "_uuid": "8b16f1eab0913ae29a28bc3c0158e8acbb9c50c2",
    "scrolled": true
   },
   "outputs": [
    {
     "name": "stdout",
     "output_type": "stream",
     "text": [
      "CPU times: user 5min 52s, sys: 4min 17s, total: 10min 9s\n",
      "Wall time: 13min 38s\n"
     ]
    }
   ],
   "source": [
    "%%time\n",
    "train = pd.read_csv(\"data/train5.csv\")\n",
    "test = pd.read_csv(\"data/test5.csv\")"
   ]
  },
  {
   "cell_type": "code",
   "execution_count": 7,
   "metadata": {},
   "outputs": [
    {
     "data": {
      "text/plain": [
       "Index(['key', 'fare_amount', 'pickup_datetime', 'pickup_longitude',\n",
       "       'pickup_latitude', 'dropoff_longitude', 'dropoff_latitude',\n",
       "       'passenger_count', 'abs_long_diff', 'abs_lat_diff', 'manhattan_dist',\n",
       "       'sqrt_long_diff', 'sqrt_lat_diff', 'euclidean_dist', 'geodesic_km_dist',\n",
       "       'great_circle_km_dist', 'haversine_dist', 'center_lat', 'center_long',\n",
       "       'year', 'month', 'week', 'day', 'hour', 'minute', 'day_of_week',\n",
       "       'day_of_year', 'quarter', 'part_of_day', 'is_weekday', 'is_weekend',\n",
       "       'is_month_start', 'is_month_end', 'is_quarter_start', 'is_quarter_end',\n",
       "       'is_year_start', 'is_year_end', 'is_leap_year', 'is_holiday',\n",
       "       'pickup_place', 'pickup_admin1', 'pickup_admin2', 'dropoff_place',\n",
       "       'dropoff_admin1', 'dropoff_admin2'],\n",
       "      dtype='object')"
      ]
     },
     "execution_count": 7,
     "metadata": {},
     "output_type": "execute_result"
    }
   ],
   "source": [
    "train.columns"
   ]
  },
  {
   "cell_type": "markdown",
   "metadata": {},
   "source": [
    "## Convert data type"
   ]
  },
  {
   "cell_type": "code",
   "execution_count": 8,
   "metadata": {
    "_uuid": "bfd326d221de038c42a98780636781354c4debf1",
    "scrolled": true
   },
   "outputs": [
    {
     "data": {
      "text/plain": [
       "key                      object\n",
       "fare_amount             float64\n",
       "pickup_datetime          object\n",
       "pickup_longitude        float64\n",
       "pickup_latitude         float64\n",
       "dropoff_longitude       float64\n",
       "dropoff_latitude        float64\n",
       "passenger_count           int64\n",
       "abs_long_diff           float64\n",
       "abs_lat_diff            float64\n",
       "manhattan_dist          float64\n",
       "sqrt_long_diff          float64\n",
       "sqrt_lat_diff           float64\n",
       "euclidean_dist          float64\n",
       "geodesic_km_dist        float64\n",
       "great_circle_km_dist    float64\n",
       "haversine_dist          float64\n",
       "center_lat              float64\n",
       "center_long             float64\n",
       "year                      int64\n",
       "month                     int64\n",
       "week                      int64\n",
       "day                       int64\n",
       "hour                      int64\n",
       "minute                    int64\n",
       "day_of_week               int64\n",
       "day_of_year               int64\n",
       "quarter                   int64\n",
       "part_of_day               int64\n",
       "is_weekday                int64\n",
       "is_weekend                int64\n",
       "is_month_start            int64\n",
       "is_month_end              int64\n",
       "is_quarter_start          int64\n",
       "is_quarter_end            int64\n",
       "is_year_start             int64\n",
       "is_year_end               int64\n",
       "is_leap_year              int64\n",
       "is_holiday                int64\n",
       "pickup_place             object\n",
       "pickup_admin1            object\n",
       "pickup_admin2            object\n",
       "dropoff_place            object\n",
       "dropoff_admin1           object\n",
       "dropoff_admin2           object\n",
       "dtype: object"
      ]
     },
     "execution_count": 8,
     "metadata": {},
     "output_type": "execute_result"
    }
   ],
   "source": [
    "train.dtypes"
   ]
  },
  {
   "cell_type": "code",
   "execution_count": 9,
   "metadata": {},
   "outputs": [],
   "source": [
    "train['fare_amount'] = train['fare_amount'].astype('float32')"
   ]
  },
  {
   "cell_type": "code",
   "execution_count": 10,
   "metadata": {},
   "outputs": [
    {
     "name": "stdout",
     "output_type": "stream",
     "text": [
      "CPU times: user 3min 37s, sys: 7min 59s, total: 11min 37s\n",
      "Wall time: 9min 32s\n"
     ]
    },
    {
     "data": {
      "text/plain": [
       "key                       object\n",
       "pickup_datetime           object\n",
       "pickup_longitude         float32\n",
       "pickup_latitude          float32\n",
       "dropoff_longitude        float32\n",
       "dropoff_latitude         float32\n",
       "passenger_count            uint8\n",
       "abs_long_diff            float32\n",
       "abs_lat_diff             float32\n",
       "manhattan_dist           float32\n",
       "sqrt_long_diff           float32\n",
       "sqrt_lat_diff            float32\n",
       "euclidean_dist           float32\n",
       "geodesic_km_dist         float32\n",
       "great_circle_km_dist     float32\n",
       "haversine_dist           float32\n",
       "center_lat               float32\n",
       "center_long              float32\n",
       "year                      uint16\n",
       "month                      uint8\n",
       "week                       uint8\n",
       "day                        uint8\n",
       "hour                       uint8\n",
       "minute                     uint8\n",
       "day_of_week                uint8\n",
       "day_of_year               uint16\n",
       "quarter                    uint8\n",
       "part_of_day                uint8\n",
       "is_weekday                 uint8\n",
       "is_weekend                 uint8\n",
       "is_month_start             uint8\n",
       "is_month_end               uint8\n",
       "is_quarter_start           uint8\n",
       "is_quarter_end             uint8\n",
       "is_year_start              uint8\n",
       "is_year_end                uint8\n",
       "is_leap_year               uint8\n",
       "is_holiday                 uint8\n",
       "pickup_place            category\n",
       "pickup_admin1           category\n",
       "pickup_admin2           category\n",
       "dropoff_place           category\n",
       "dropoff_admin1          category\n",
       "dropoff_admin2          category\n",
       "dtype: object"
      ]
     },
     "execution_count": 10,
     "metadata": {},
     "output_type": "execute_result"
    }
   ],
   "source": [
    "%%time\n",
    "def convert_dtype(df):\n",
    "    df['pickup_datetime'] = df['pickup_datetime'].astype('str')\n",
    "    \n",
    "    float32_list = ['pickup_longitude', 'pickup_latitude', 'dropoff_longitude', 'dropoff_latitude', 'abs_long_diff', 'abs_lat_diff', 'manhattan_dist', 'sqrt_long_diff', 'sqrt_lat_diff', 'euclidean_dist', 'geodesic_km_dist', 'great_circle_km_dist', 'haversine_dist', 'center_lat', 'center_long']\n",
    "    for col in float32_list:\n",
    "        df[col] = df[col].astype('float32')\n",
    "    \n",
    "    uint16_list = ['year', 'day_of_year']\n",
    "    for col in uint16_list:\n",
    "        df[col] = df[col].astype('uint16')\n",
    "    \n",
    "    uint8_list = ['passenger_count', 'month', 'week', 'day', 'hour', 'minute', 'day_of_week', 'quarter', 'part_of_day', 'is_weekday', 'is_weekend', 'is_month_start', 'is_month_end', 'is_quarter_start', 'is_quarter_end', 'is_year_start', 'is_year_end', 'is_leap_year', 'is_holiday']\n",
    "    for col in uint8_list:\n",
    "        df[col] = df[col].astype('uint8')\n",
    "    \n",
    "    category_list = ['pickup_place', 'pickup_admin1', 'pickup_admin2', 'dropoff_place', 'dropoff_admin1', 'dropoff_admin2']\n",
    "    for col in category_list:\n",
    "        df[col] = df[col].astype('category')\n",
    "    \n",
    "    return df.dtypes\n",
    "\n",
    "convert_dtype(train)\n",
    "convert_dtype(test)"
   ]
  },
  {
   "cell_type": "code",
   "execution_count": 11,
   "metadata": {},
   "outputs": [],
   "source": []
  },
  {
   "cell_type": "code",
   "execution_count": 12,
   "metadata": {
    "_uuid": "53829a10188c2b44eda3103e4b0df9d89ed1bb13"
   },
   "outputs": [
    {
     "data": {
      "text/plain": [
       "(55418166, 45)"
      ]
     },
     "execution_count": 12,
     "metadata": {},
     "output_type": "execute_result"
    }
   ],
   "source": [
    "train.shape"
   ]
  },
  {
   "cell_type": "code",
   "execution_count": 13,
   "metadata": {
    "_uuid": "964e5b4540636b76a2a67c5b2b81b138c4d599a0"
   },
   "outputs": [
    {
     "data": {
      "text/plain": [
       "(9914, 44)"
      ]
     },
     "execution_count": 13,
     "metadata": {},
     "output_type": "execute_result"
    }
   ],
   "source": [
    "test.shape"
   ]
  },
  {
   "cell_type": "code",
   "execution_count": 14,
   "metadata": {
    "_uuid": "9db54ae0ddc3b8c5fb5c1131eed862c8f21888cb"
   },
   "outputs": [
    {
     "data": {
      "text/html": [
       "<div>\n",
       "<style scoped>\n",
       "    .dataframe tbody tr th:only-of-type {\n",
       "        vertical-align: middle;\n",
       "    }\n",
       "\n",
       "    .dataframe tbody tr th {\n",
       "        vertical-align: top;\n",
       "    }\n",
       "\n",
       "    .dataframe thead th {\n",
       "        text-align: right;\n",
       "    }\n",
       "</style>\n",
       "<table border=\"1\" class=\"dataframe\">\n",
       "  <thead>\n",
       "    <tr style=\"text-align: right;\">\n",
       "      <th></th>\n",
       "      <th>key</th>\n",
       "      <th>fare_amount</th>\n",
       "      <th>pickup_datetime</th>\n",
       "      <th>pickup_longitude</th>\n",
       "      <th>pickup_latitude</th>\n",
       "      <th>dropoff_longitude</th>\n",
       "      <th>dropoff_latitude</th>\n",
       "      <th>passenger_count</th>\n",
       "      <th>abs_long_diff</th>\n",
       "      <th>abs_lat_diff</th>\n",
       "      <th>...</th>\n",
       "      <th>is_year_start</th>\n",
       "      <th>is_year_end</th>\n",
       "      <th>is_leap_year</th>\n",
       "      <th>is_holiday</th>\n",
       "      <th>pickup_place</th>\n",
       "      <th>pickup_admin1</th>\n",
       "      <th>pickup_admin2</th>\n",
       "      <th>dropoff_place</th>\n",
       "      <th>dropoff_admin1</th>\n",
       "      <th>dropoff_admin2</th>\n",
       "    </tr>\n",
       "  </thead>\n",
       "  <tbody>\n",
       "    <tr>\n",
       "      <th>0</th>\n",
       "      <td>2009-06-15 17:26:21.000000100</td>\n",
       "      <td>4.5</td>\n",
       "      <td>2009-06-15 17:26:21+00:00</td>\n",
       "      <td>-73.844315</td>\n",
       "      <td>40.721317</td>\n",
       "      <td>-73.841614</td>\n",
       "      <td>40.712276</td>\n",
       "      <td>1</td>\n",
       "      <td>0.002701</td>\n",
       "      <td>0.009041</td>\n",
       "      <td>...</td>\n",
       "      <td>0</td>\n",
       "      <td>0</td>\n",
       "      <td>0</td>\n",
       "      <td>0</td>\n",
       "      <td>Borough of Queens</td>\n",
       "      <td>New York</td>\n",
       "      <td>Queens County</td>\n",
       "      <td>Borough of Queens</td>\n",
       "      <td>New York</td>\n",
       "      <td>Queens County</td>\n",
       "    </tr>\n",
       "    <tr>\n",
       "      <th>1</th>\n",
       "      <td>2010-01-05 16:52:16.000000200</td>\n",
       "      <td>16.9</td>\n",
       "      <td>2010-01-05 16:52:16+00:00</td>\n",
       "      <td>-74.016045</td>\n",
       "      <td>40.711304</td>\n",
       "      <td>-73.979271</td>\n",
       "      <td>40.782005</td>\n",
       "      <td>1</td>\n",
       "      <td>0.036780</td>\n",
       "      <td>0.070701</td>\n",
       "      <td>...</td>\n",
       "      <td>0</td>\n",
       "      <td>0</td>\n",
       "      <td>0</td>\n",
       "      <td>0</td>\n",
       "      <td>New York City</td>\n",
       "      <td>New York</td>\n",
       "      <td>None</td>\n",
       "      <td>Manhattan</td>\n",
       "      <td>New York</td>\n",
       "      <td>New York County</td>\n",
       "    </tr>\n",
       "    <tr>\n",
       "      <th>2</th>\n",
       "      <td>2011-08-18 00:35:00.000000490</td>\n",
       "      <td>5.7</td>\n",
       "      <td>2011-08-18 00:35:00+00:00</td>\n",
       "      <td>-73.982735</td>\n",
       "      <td>40.761269</td>\n",
       "      <td>-73.991241</td>\n",
       "      <td>40.750561</td>\n",
       "      <td>2</td>\n",
       "      <td>0.008504</td>\n",
       "      <td>0.010708</td>\n",
       "      <td>...</td>\n",
       "      <td>0</td>\n",
       "      <td>0</td>\n",
       "      <td>0</td>\n",
       "      <td>0</td>\n",
       "      <td>Manhattan</td>\n",
       "      <td>New York</td>\n",
       "      <td>New York County</td>\n",
       "      <td>Weehawken</td>\n",
       "      <td>New Jersey</td>\n",
       "      <td>Hudson County</td>\n",
       "    </tr>\n",
       "    <tr>\n",
       "      <th>3</th>\n",
       "      <td>2012-04-21 04:30:42.000000100</td>\n",
       "      <td>7.7</td>\n",
       "      <td>2012-04-21 04:30:42+00:00</td>\n",
       "      <td>-73.987129</td>\n",
       "      <td>40.733143</td>\n",
       "      <td>-73.991570</td>\n",
       "      <td>40.758091</td>\n",
       "      <td>1</td>\n",
       "      <td>0.004437</td>\n",
       "      <td>0.024949</td>\n",
       "      <td>...</td>\n",
       "      <td>0</td>\n",
       "      <td>0</td>\n",
       "      <td>1</td>\n",
       "      <td>0</td>\n",
       "      <td>New York City</td>\n",
       "      <td>New York</td>\n",
       "      <td>None</td>\n",
       "      <td>Weehawken</td>\n",
       "      <td>New Jersey</td>\n",
       "      <td>Hudson County</td>\n",
       "    </tr>\n",
       "    <tr>\n",
       "      <th>4</th>\n",
       "      <td>2010-03-09 07:51:00.000000135</td>\n",
       "      <td>5.3</td>\n",
       "      <td>2010-03-09 07:51:00+00:00</td>\n",
       "      <td>-73.968094</td>\n",
       "      <td>40.768009</td>\n",
       "      <td>-73.956657</td>\n",
       "      <td>40.783764</td>\n",
       "      <td>1</td>\n",
       "      <td>0.011440</td>\n",
       "      <td>0.015754</td>\n",
       "      <td>...</td>\n",
       "      <td>0</td>\n",
       "      <td>0</td>\n",
       "      <td>0</td>\n",
       "      <td>0</td>\n",
       "      <td>Manhattan</td>\n",
       "      <td>New York</td>\n",
       "      <td>New York County</td>\n",
       "      <td>Manhattan</td>\n",
       "      <td>New York</td>\n",
       "      <td>New York County</td>\n",
       "    </tr>\n",
       "  </tbody>\n",
       "</table>\n",
       "<p>5 rows × 45 columns</p>\n",
       "</div>"
      ],
      "text/plain": [
       "                             key  fare_amount            pickup_datetime  \\\n",
       "0  2009-06-15 17:26:21.000000100          4.5  2009-06-15 17:26:21+00:00   \n",
       "1  2010-01-05 16:52:16.000000200         16.9  2010-01-05 16:52:16+00:00   \n",
       "2  2011-08-18 00:35:00.000000490          5.7  2011-08-18 00:35:00+00:00   \n",
       "3  2012-04-21 04:30:42.000000100          7.7  2012-04-21 04:30:42+00:00   \n",
       "4  2010-03-09 07:51:00.000000135          5.3  2010-03-09 07:51:00+00:00   \n",
       "\n",
       "   pickup_longitude  pickup_latitude  dropoff_longitude  dropoff_latitude  \\\n",
       "0        -73.844315        40.721317         -73.841614         40.712276   \n",
       "1        -74.016045        40.711304         -73.979271         40.782005   \n",
       "2        -73.982735        40.761269         -73.991241         40.750561   \n",
       "3        -73.987129        40.733143         -73.991570         40.758091   \n",
       "4        -73.968094        40.768009         -73.956657         40.783764   \n",
       "\n",
       "   passenger_count  abs_long_diff  abs_lat_diff  ...  is_year_start  \\\n",
       "0                1       0.002701      0.009041  ...              0   \n",
       "1                1       0.036780      0.070701  ...              0   \n",
       "2                2       0.008504      0.010708  ...              0   \n",
       "3                1       0.004437      0.024949  ...              0   \n",
       "4                1       0.011440      0.015754  ...              0   \n",
       "\n",
       "   is_year_end  is_leap_year  is_holiday       pickup_place  pickup_admin1  \\\n",
       "0            0             0           0  Borough of Queens       New York   \n",
       "1            0             0           0      New York City       New York   \n",
       "2            0             0           0          Manhattan       New York   \n",
       "3            0             1           0      New York City       New York   \n",
       "4            0             0           0          Manhattan       New York   \n",
       "\n",
       "     pickup_admin2      dropoff_place  dropoff_admin1   dropoff_admin2  \n",
       "0    Queens County  Borough of Queens        New York    Queens County  \n",
       "1             None          Manhattan        New York  New York County  \n",
       "2  New York County          Weehawken      New Jersey    Hudson County  \n",
       "3             None          Weehawken      New Jersey    Hudson County  \n",
       "4  New York County          Manhattan        New York  New York County  \n",
       "\n",
       "[5 rows x 45 columns]"
      ]
     },
     "execution_count": 14,
     "metadata": {},
     "output_type": "execute_result"
    }
   ],
   "source": [
    "train.head()"
   ]
  },
  {
   "cell_type": "code",
   "execution_count": 15,
   "metadata": {
    "_uuid": "71d208d1fe28345f995dc3236d15a8fb7f406865"
   },
   "outputs": [
    {
     "data": {
      "text/html": [
       "<div>\n",
       "<style scoped>\n",
       "    .dataframe tbody tr th:only-of-type {\n",
       "        vertical-align: middle;\n",
       "    }\n",
       "\n",
       "    .dataframe tbody tr th {\n",
       "        vertical-align: top;\n",
       "    }\n",
       "\n",
       "    .dataframe thead th {\n",
       "        text-align: right;\n",
       "    }\n",
       "</style>\n",
       "<table border=\"1\" class=\"dataframe\">\n",
       "  <thead>\n",
       "    <tr style=\"text-align: right;\">\n",
       "      <th></th>\n",
       "      <th>key</th>\n",
       "      <th>pickup_datetime</th>\n",
       "      <th>pickup_longitude</th>\n",
       "      <th>pickup_latitude</th>\n",
       "      <th>dropoff_longitude</th>\n",
       "      <th>dropoff_latitude</th>\n",
       "      <th>passenger_count</th>\n",
       "      <th>abs_long_diff</th>\n",
       "      <th>abs_lat_diff</th>\n",
       "      <th>manhattan_dist</th>\n",
       "      <th>...</th>\n",
       "      <th>is_year_start</th>\n",
       "      <th>is_year_end</th>\n",
       "      <th>is_leap_year</th>\n",
       "      <th>is_holiday</th>\n",
       "      <th>pickup_place</th>\n",
       "      <th>pickup_admin1</th>\n",
       "      <th>pickup_admin2</th>\n",
       "      <th>dropoff_place</th>\n",
       "      <th>dropoff_admin1</th>\n",
       "      <th>dropoff_admin2</th>\n",
       "    </tr>\n",
       "  </thead>\n",
       "  <tbody>\n",
       "    <tr>\n",
       "      <th>0</th>\n",
       "      <td>2015-01-27 13:08:24.000000200</td>\n",
       "      <td>2015-01-27 13:08:24+00:00</td>\n",
       "      <td>-73.973320</td>\n",
       "      <td>40.763805</td>\n",
       "      <td>-73.981430</td>\n",
       "      <td>40.743835</td>\n",
       "      <td>1</td>\n",
       "      <td>0.008110</td>\n",
       "      <td>0.019970</td>\n",
       "      <td>0.028080</td>\n",
       "      <td>...</td>\n",
       "      <td>0</td>\n",
       "      <td>0</td>\n",
       "      <td>0</td>\n",
       "      <td>0</td>\n",
       "      <td>Manhattan</td>\n",
       "      <td>New York</td>\n",
       "      <td>New York County</td>\n",
       "      <td>Long Island City</td>\n",
       "      <td>New York</td>\n",
       "      <td>Queens County</td>\n",
       "    </tr>\n",
       "    <tr>\n",
       "      <th>1</th>\n",
       "      <td>2015-01-27 13:08:24.000000300</td>\n",
       "      <td>2015-01-27 13:08:24+00:00</td>\n",
       "      <td>-73.986862</td>\n",
       "      <td>40.719383</td>\n",
       "      <td>-73.998886</td>\n",
       "      <td>40.739201</td>\n",
       "      <td>1</td>\n",
       "      <td>0.012024</td>\n",
       "      <td>0.019817</td>\n",
       "      <td>0.031841</td>\n",
       "      <td>...</td>\n",
       "      <td>0</td>\n",
       "      <td>0</td>\n",
       "      <td>0</td>\n",
       "      <td>0</td>\n",
       "      <td>New York City</td>\n",
       "      <td>New York</td>\n",
       "      <td>None</td>\n",
       "      <td>New York City</td>\n",
       "      <td>New York</td>\n",
       "      <td>None</td>\n",
       "    </tr>\n",
       "    <tr>\n",
       "      <th>2</th>\n",
       "      <td>2011-10-08 11:53:44.000000200</td>\n",
       "      <td>2011-10-08 11:53:44+00:00</td>\n",
       "      <td>-73.982521</td>\n",
       "      <td>40.751259</td>\n",
       "      <td>-73.979652</td>\n",
       "      <td>40.746140</td>\n",
       "      <td>1</td>\n",
       "      <td>0.002870</td>\n",
       "      <td>0.005121</td>\n",
       "      <td>0.007991</td>\n",
       "      <td>...</td>\n",
       "      <td>0</td>\n",
       "      <td>0</td>\n",
       "      <td>0</td>\n",
       "      <td>0</td>\n",
       "      <td>Long Island City</td>\n",
       "      <td>New York</td>\n",
       "      <td>Queens County</td>\n",
       "      <td>Long Island City</td>\n",
       "      <td>New York</td>\n",
       "      <td>Queens County</td>\n",
       "    </tr>\n",
       "    <tr>\n",
       "      <th>3</th>\n",
       "      <td>2012-12-01 21:12:12.000000200</td>\n",
       "      <td>2012-12-01 21:12:12+00:00</td>\n",
       "      <td>-73.981163</td>\n",
       "      <td>40.767807</td>\n",
       "      <td>-73.990448</td>\n",
       "      <td>40.751637</td>\n",
       "      <td>1</td>\n",
       "      <td>0.009288</td>\n",
       "      <td>0.016172</td>\n",
       "      <td>0.025460</td>\n",
       "      <td>...</td>\n",
       "      <td>0</td>\n",
       "      <td>0</td>\n",
       "      <td>1</td>\n",
       "      <td>0</td>\n",
       "      <td>Manhattan</td>\n",
       "      <td>New York</td>\n",
       "      <td>New York County</td>\n",
       "      <td>Weehawken</td>\n",
       "      <td>New Jersey</td>\n",
       "      <td>Hudson County</td>\n",
       "    </tr>\n",
       "    <tr>\n",
       "      <th>4</th>\n",
       "      <td>2012-12-01 21:12:12.000000300</td>\n",
       "      <td>2012-12-01 21:12:12+00:00</td>\n",
       "      <td>-73.966049</td>\n",
       "      <td>40.789776</td>\n",
       "      <td>-73.988564</td>\n",
       "      <td>40.744427</td>\n",
       "      <td>1</td>\n",
       "      <td>0.022519</td>\n",
       "      <td>0.045348</td>\n",
       "      <td>0.067867</td>\n",
       "      <td>...</td>\n",
       "      <td>0</td>\n",
       "      <td>0</td>\n",
       "      <td>1</td>\n",
       "      <td>0</td>\n",
       "      <td>Manhattan</td>\n",
       "      <td>New York</td>\n",
       "      <td>New York County</td>\n",
       "      <td>New York City</td>\n",
       "      <td>New York</td>\n",
       "      <td>None</td>\n",
       "    </tr>\n",
       "  </tbody>\n",
       "</table>\n",
       "<p>5 rows × 44 columns</p>\n",
       "</div>"
      ],
      "text/plain": [
       "                             key            pickup_datetime  pickup_longitude  \\\n",
       "0  2015-01-27 13:08:24.000000200  2015-01-27 13:08:24+00:00        -73.973320   \n",
       "1  2015-01-27 13:08:24.000000300  2015-01-27 13:08:24+00:00        -73.986862   \n",
       "2  2011-10-08 11:53:44.000000200  2011-10-08 11:53:44+00:00        -73.982521   \n",
       "3  2012-12-01 21:12:12.000000200  2012-12-01 21:12:12+00:00        -73.981163   \n",
       "4  2012-12-01 21:12:12.000000300  2012-12-01 21:12:12+00:00        -73.966049   \n",
       "\n",
       "   pickup_latitude  dropoff_longitude  dropoff_latitude  passenger_count  \\\n",
       "0        40.763805         -73.981430         40.743835                1   \n",
       "1        40.719383         -73.998886         40.739201                1   \n",
       "2        40.751259         -73.979652         40.746140                1   \n",
       "3        40.767807         -73.990448         40.751637                1   \n",
       "4        40.789776         -73.988564         40.744427                1   \n",
       "\n",
       "   abs_long_diff  abs_lat_diff  manhattan_dist  ...  is_year_start  \\\n",
       "0       0.008110      0.019970        0.028080  ...              0   \n",
       "1       0.012024      0.019817        0.031841  ...              0   \n",
       "2       0.002870      0.005121        0.007991  ...              0   \n",
       "3       0.009288      0.016172        0.025460  ...              0   \n",
       "4       0.022519      0.045348        0.067867  ...              0   \n",
       "\n",
       "   is_year_end  is_leap_year  is_holiday      pickup_place  pickup_admin1  \\\n",
       "0            0             0           0         Manhattan       New York   \n",
       "1            0             0           0     New York City       New York   \n",
       "2            0             0           0  Long Island City       New York   \n",
       "3            0             1           0         Manhattan       New York   \n",
       "4            0             1           0         Manhattan       New York   \n",
       "\n",
       "     pickup_admin2     dropoff_place  dropoff_admin1  dropoff_admin2  \n",
       "0  New York County  Long Island City        New York   Queens County  \n",
       "1             None     New York City        New York            None  \n",
       "2    Queens County  Long Island City        New York   Queens County  \n",
       "3  New York County         Weehawken      New Jersey   Hudson County  \n",
       "4  New York County     New York City        New York            None  \n",
       "\n",
       "[5 rows x 44 columns]"
      ]
     },
     "execution_count": 15,
     "metadata": {},
     "output_type": "execute_result"
    }
   ],
   "source": [
    "test.head()"
   ]
  },
  {
   "cell_type": "code",
   "execution_count": null,
   "metadata": {
    "_uuid": "1b61d99f640fe928db449ed0b244d8d2cc83184b"
   },
   "outputs": [],
   "source": [
    "def print_null(df):\n",
    "    \"\"\"\n",
    "    prints null value of the given data\n",
    "    \"\"\"\n",
    "    print(df.isnull().sum()[df.isnull().sum() != 0])\n",
    "\n",
    "print_null(train)\n",
    "print(\"------------\")\n",
    "print_null(test)"
   ]
  },
  {
   "cell_type": "code",
   "execution_count": null,
   "metadata": {},
   "outputs": [],
   "source": []
  },
  {
   "cell_type": "markdown",
   "metadata": {
    "_uuid": "d1b60b97a208918609e14acb0e314dd508fa47b8"
   },
   "source": [
    "# Model"
   ]
  },
  {
   "cell_type": "code",
   "execution_count": null,
   "metadata": {
    "_uuid": "0d748a7c34a457bbd80da29ba2c7bde02df25257"
   },
   "outputs": [],
   "source": [
    "train.columns"
   ]
  },
  {
   "cell_type": "code",
   "execution_count": null,
   "metadata": {
    "_uuid": "24b1b9edd84b12079d535cb5d4310d3ac2eb6324"
   },
   "outputs": [],
   "source": [
    "features = ['pickup_longitude', 'pickup_latitude', 'dropoff_longitude', 'dropoff_latitude',\n",
    "            'passenger_count', 'month', 'week', 'time_interval', 'weekend', 'holiday', \n",
    "            'pickup_place', 'dropoff_place', 'area_crossing', \n",
    "            'linear_distance']\n",
    "target = ['fare_amount']"
   ]
  },
  {
   "cell_type": "code",
   "execution_count": null,
   "metadata": {
    "_uuid": "ff21ac9271d8e9f014f90e55a4f1dfa3ce58444b"
   },
   "outputs": [],
   "source": [
    "X_features = train.iloc[:, :][features]\n",
    "X_target = train.iloc[:, :][target]\n",
    "\n",
    "y_features = test.iloc[:, :][features]"
   ]
  },
  {
   "cell_type": "code",
   "execution_count": null,
   "metadata": {
    "_uuid": "b78d167a61e48ce4950260cb9760208bcbd1f6d9"
   },
   "outputs": [],
   "source": [
    "X_features.head()"
   ]
  },
  {
   "cell_type": "markdown",
   "metadata": {
    "_uuid": "3ece390e07ff167323064a7d9e19efdc17589d64"
   },
   "source": [
    "https://tech.yandex.com/catboost/doc/dg/concepts/algorithm-main-stages_cat-to-numberic-docpage/"
   ]
  },
  {
   "cell_type": "code",
   "execution_count": null,
   "metadata": {
    "_uuid": "ca68f0275ddb34864768edfed277940d80bff7a4"
   },
   "outputs": [],
   "source": [
    "categorical_features_indices = np.where(X_features.dtypes != np.float)[0]"
   ]
  },
  {
   "cell_type": "code",
   "execution_count": null,
   "metadata": {
    "_uuid": "773e21c78ceb8753f1ef8813f6cba5fcf1e63cb5"
   },
   "outputs": [],
   "source": [
    "categorical_features_indices"
   ]
  },
  {
   "cell_type": "markdown",
   "metadata": {
    "_uuid": "1ce72eaeef5dd96595b11a176fe307a3dcc8997f"
   },
   "source": [
    "## Data Splitting"
   ]
  },
  {
   "cell_type": "code",
   "execution_count": null,
   "metadata": {
    "_uuid": "a74fd350c49fcccd69e69453c5c0f22469380e0f"
   },
   "outputs": [],
   "source": [
    "from sklearn.model_selection import train_test_split\n",
    "\n",
    "X_train, X_validation, y_train, y_validation = train_test_split(X_features, X_target, test_size=0.3, random_state=0)\n",
    "X_test = y_features"
   ]
  },
  {
   "cell_type": "markdown",
   "metadata": {
    "_uuid": "752e85debb377562ce0f1f0e6781e417bab295d7"
   },
   "source": [
    "# CatBoost模型"
   ]
  },
  {
   "cell_type": "code",
   "execution_count": null,
   "metadata": {
    "_uuid": "1732b80db7265669e07473bb1e0a49052bca3b25"
   },
   "outputs": [],
   "source": [
    "from catboost import CatBoostRegressor, Pool, cv\n",
    "from sklearn.metrics import accuracy_score"
   ]
  },
  {
   "cell_type": "code",
   "execution_count": null,
   "metadata": {
    "_uuid": "9b6cbff0ff56abeeafb4a6a87cce5c4533f40532"
   },
   "outputs": [],
   "source": [
    "train_pool = Pool(X_train, y_train, cat_features=categorical_features_indices)\n",
    "validate_pool = Pool(X_validation, y_validation, cat_features=categorical_features_indices)"
   ]
  },
  {
   "cell_type": "code",
   "execution_count": null,
   "metadata": {
    "_uuid": "77091fef215c5c3a28bbd309099f9580eda7b3b0"
   },
   "outputs": [],
   "source": [
    "#default parameters\n",
    "model = CatBoostRegressor(\n",
    "    num_boost_round=700,\n",
    "    learning_rate=0.4, #default 0.03\n",
    "    depth=10, #default 6\n",
    "    loss_function='RMSE',\n",
    "    eval_metric='RMSE',\n",
    "    random_seed=0,\n",
    "#    logging_level='Verbose',\n",
    "    use_best_model=True,\n",
    "    od_type='IncToDec',\n",
    "    od_pval=0.01,\n",
    "    od_wait=40\n",
    ")"
   ]
  },
  {
   "cell_type": "code",
   "execution_count": null,
   "metadata": {
    "_kg_hide-output": true,
    "_uuid": "7fcf63efafa583da6b641311edab26ee3f9c9d29"
   },
   "outputs": [],
   "source": [
    "%%time\n",
    "model.fit(\n",
    "    X_train, y_train,\n",
    "    cat_features=categorical_features_indices,\n",
    "    eval_set=validate_pool,\n",
    "#    logging_level='Verbose',\n",
    "    plot=True #可看圖!!!\n",
    ");"
   ]
  },
  {
   "cell_type": "code",
   "execution_count": null,
   "metadata": {
    "_uuid": "a61c1a86691b2742cf1114a9b38ff3401569991a"
   },
   "outputs": [],
   "source": [
    "'''\n",
    "cv_params = model.get_params() \n",
    "cv_params.update({\n",
    "    'loss_function': 'RSME' #改loss_function\n",
    "})\n",
    "\n",
    "#進行cross validation，採用別的loss function\n",
    "cv_data = cv(\n",
    "    train_pool,\n",
    "    cv_params,\n",
    "    plot=True\n",
    ") \n",
    "'''"
   ]
  },
  {
   "cell_type": "markdown",
   "metadata": {
    "_uuid": "74efc2ea8f5bad19e50a13c1f87b988bdbe5e054"
   },
   "source": [
    "https://tech.yandex.com/catboost/doc/dg/concepts/loss-functions-docpage/#loss-functions"
   ]
  },
  {
   "cell_type": "code",
   "execution_count": null,
   "metadata": {
    "_uuid": "f4525e4d34074bed586629ee9122ae173a8424af"
   },
   "outputs": [],
   "source": [
    "y_pred_cb = model.predict(X_test)"
   ]
  },
  {
   "cell_type": "code",
   "execution_count": null,
   "metadata": {
    "_uuid": "ad31e7468e0effbf7916a5fea69b9ee9ce0cf794"
   },
   "outputs": [],
   "source": [
    "feature_importances = model.get_feature_importance(train_pool)\n",
    "\n",
    "feature_names = X_train.columns\n",
    "for score, name in sorted(zip(feature_importances, feature_names), reverse=True):\n",
    "    print('{}: {}'.format(name, score))"
   ]
  },
  {
   "cell_type": "code",
   "execution_count": null,
   "metadata": {
    "_uuid": "c0311fe28cd586905ef8608db4b8aa976f2130f2"
   },
   "outputs": [],
   "source": []
  },
  {
   "cell_type": "code",
   "execution_count": null,
   "metadata": {
    "_uuid": "243b4061ae90536198b745074731228f4993fc32"
   },
   "outputs": [],
   "source": [
    "submission = pd.DataFrame()\n",
    "submission['key'] = test.key\n",
    "submission['fare_amount'] = y_pred_cb\n",
    "submission.to_csv('submission_cb010.csv', index = False)"
   ]
  },
  {
   "cell_type": "code",
   "execution_count": null,
   "metadata": {
    "_uuid": "684ff0e9befa8349f12ac688645dd701b60d99cf"
   },
   "outputs": [],
   "source": [
    "ss = pd.read_csv('../input/new-york-city-taxi-fare-prediction/sample_submission.csv')\n",
    "#ss = pd.read_csv('sample_submission.csv')\n",
    "ss.loc[:, 'fare_amount'] = y_pred_cb\n",
    "\n",
    "ss.to_csv('submission_cb010.csv', index=False)"
   ]
  },
  {
   "cell_type": "code",
   "execution_count": null,
   "metadata": {
    "_uuid": "a46e7aecde61f7ea9a4d7f3bd4bb7444358c6c54"
   },
   "outputs": [],
   "source": []
  },
  {
   "cell_type": "code",
   "execution_count": null,
   "metadata": {
    "_uuid": "99c0f01e2a5a4dff8c68efcdb70e417cb64c707b"
   },
   "outputs": [],
   "source": []
  }
 ],
 "metadata": {
  "kernelspec": {
   "display_name": "Python 3",
   "language": "python",
   "name": "python3"
  },
  "language_info": {
   "codemirror_mode": {
    "name": "ipython",
    "version": 3
   },
   "file_extension": ".py",
   "mimetype": "text/x-python",
   "name": "python",
   "nbconvert_exporter": "python",
   "pygments_lexer": "ipython3",
   "version": "3.7.4"
  }
 },
 "nbformat": 4,
 "nbformat_minor": 1
}

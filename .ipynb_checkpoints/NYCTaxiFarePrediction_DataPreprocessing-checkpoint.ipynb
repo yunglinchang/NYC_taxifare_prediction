{
 "cells": [
  {
   "cell_type": "markdown",
   "metadata": {},
   "source": [
    "# [New York City Taxi Fare Prediction](https://www.kaggle.com/c/new-york-city-taxi-fare-prediction)"
   ]
  },
  {
   "cell_type": "markdown",
   "metadata": {},
   "source": [
    "## Import packages"
   ]
  },
  {
   "cell_type": "code",
   "execution_count": 1,
   "metadata": {
    "_uuid": "aee4c8e6c192b058537578dbb150262678e20234"
   },
   "outputs": [],
   "source": [
    "import numpy as np \n",
    "import pandas as pd\n",
    "from geopy.distance import geodesic, great_circle\n",
    "import reverse_geocoder as rg"
   ]
  },
  {
   "cell_type": "markdown",
   "metadata": {},
   "source": [
    "## Import data"
   ]
  },
  {
   "cell_type": "code",
   "execution_count": 35,
   "metadata": {
    "_uuid": "d5afae49cf8e69e31d523ad88226c112cd8b7634",
    "scrolled": true
   },
   "outputs": [
    {
     "name": "stdout",
     "output_type": "stream",
     "text": [
      "CPU times: user 1min 51s, sys: 1min 59s, total: 3min 50s\n",
      "Wall time: 5min 33s\n"
     ]
    }
   ],
   "source": [
    "%%time\n",
    "train2 = pd.read_csv(\"data/train.csv\")\n",
    "test = pd.read_csv(\"data/test.csv\")"
   ]
  },
  {
   "cell_type": "code",
   "execution_count": 36,
   "metadata": {},
   "outputs": [
    {
     "data": {
      "text/plain": [
       "(55423856, 8)"
      ]
     },
     "execution_count": 36,
     "metadata": {},
     "output_type": "execute_result"
    }
   ],
   "source": [
    "train2.shape"
   ]
  },
  {
   "cell_type": "code",
   "execution_count": 37,
   "metadata": {},
   "outputs": [],
   "source": [
    "train = train2.iloc[150000:500000]"
   ]
  },
  {
   "cell_type": "code",
   "execution_count": 38,
   "metadata": {
    "_uuid": "081df93697d02130d2d0e5812348b83a3f5288df"
   },
   "outputs": [
    {
     "data": {
      "text/html": [
       "<div>\n",
       "<style scoped>\n",
       "    .dataframe tbody tr th:only-of-type {\n",
       "        vertical-align: middle;\n",
       "    }\n",
       "\n",
       "    .dataframe tbody tr th {\n",
       "        vertical-align: top;\n",
       "    }\n",
       "\n",
       "    .dataframe thead th {\n",
       "        text-align: right;\n",
       "    }\n",
       "</style>\n",
       "<table border=\"1\" class=\"dataframe\">\n",
       "  <thead>\n",
       "    <tr style=\"text-align: right;\">\n",
       "      <th></th>\n",
       "      <th>key</th>\n",
       "      <th>fare_amount</th>\n",
       "      <th>pickup_datetime</th>\n",
       "      <th>pickup_longitude</th>\n",
       "      <th>pickup_latitude</th>\n",
       "      <th>dropoff_longitude</th>\n",
       "      <th>dropoff_latitude</th>\n",
       "      <th>passenger_count</th>\n",
       "    </tr>\n",
       "  </thead>\n",
       "  <tbody>\n",
       "    <tr>\n",
       "      <th>150000</th>\n",
       "      <td>2010-04-23 03:55:07.0000001</td>\n",
       "      <td>8.5</td>\n",
       "      <td>2010-04-23 03:55:07 UTC</td>\n",
       "      <td>-74.008438</td>\n",
       "      <td>40.719055</td>\n",
       "      <td>-73.995641</td>\n",
       "      <td>40.733019</td>\n",
       "      <td>2</td>\n",
       "    </tr>\n",
       "    <tr>\n",
       "      <th>150001</th>\n",
       "      <td>2013-04-20 13:00:00.00000010</td>\n",
       "      <td>22.0</td>\n",
       "      <td>2013-04-20 13:00:00 UTC</td>\n",
       "      <td>-73.957793</td>\n",
       "      <td>40.761445</td>\n",
       "      <td>-74.005190</td>\n",
       "      <td>40.715377</td>\n",
       "      <td>1</td>\n",
       "    </tr>\n",
       "    <tr>\n",
       "      <th>150002</th>\n",
       "      <td>2013-11-08 22:16:00.000000127</td>\n",
       "      <td>21.5</td>\n",
       "      <td>2013-11-08 22:16:00 UTC</td>\n",
       "      <td>-73.981947</td>\n",
       "      <td>40.757987</td>\n",
       "      <td>-74.017322</td>\n",
       "      <td>40.705052</td>\n",
       "      <td>1</td>\n",
       "    </tr>\n",
       "    <tr>\n",
       "      <th>150003</th>\n",
       "      <td>2010-01-14 22:49:00.00000026</td>\n",
       "      <td>31.3</td>\n",
       "      <td>2010-01-14 22:49:00 UTC</td>\n",
       "      <td>-74.010195</td>\n",
       "      <td>40.704812</td>\n",
       "      <td>-73.853240</td>\n",
       "      <td>40.727048</td>\n",
       "      <td>3</td>\n",
       "    </tr>\n",
       "    <tr>\n",
       "      <th>150004</th>\n",
       "      <td>2013-03-17 02:45:00.000000167</td>\n",
       "      <td>34.5</td>\n",
       "      <td>2013-03-17 02:45:00 UTC</td>\n",
       "      <td>-74.006080</td>\n",
       "      <td>40.723872</td>\n",
       "      <td>-73.912677</td>\n",
       "      <td>40.607827</td>\n",
       "      <td>5</td>\n",
       "    </tr>\n",
       "  </tbody>\n",
       "</table>\n",
       "</div>"
      ],
      "text/plain": [
       "                                  key  fare_amount          pickup_datetime  \\\n",
       "150000    2010-04-23 03:55:07.0000001          8.5  2010-04-23 03:55:07 UTC   \n",
       "150001   2013-04-20 13:00:00.00000010         22.0  2013-04-20 13:00:00 UTC   \n",
       "150002  2013-11-08 22:16:00.000000127         21.5  2013-11-08 22:16:00 UTC   \n",
       "150003   2010-01-14 22:49:00.00000026         31.3  2010-01-14 22:49:00 UTC   \n",
       "150004  2013-03-17 02:45:00.000000167         34.5  2013-03-17 02:45:00 UTC   \n",
       "\n",
       "        pickup_longitude  pickup_latitude  dropoff_longitude  \\\n",
       "150000        -74.008438        40.719055         -73.995641   \n",
       "150001        -73.957793        40.761445         -74.005190   \n",
       "150002        -73.981947        40.757987         -74.017322   \n",
       "150003        -74.010195        40.704812         -73.853240   \n",
       "150004        -74.006080        40.723872         -73.912677   \n",
       "\n",
       "        dropoff_latitude  passenger_count  \n",
       "150000         40.733019                2  \n",
       "150001         40.715377                1  \n",
       "150002         40.705052                1  \n",
       "150003         40.727048                3  \n",
       "150004         40.607827                5  "
      ]
     },
     "execution_count": 38,
     "metadata": {},
     "output_type": "execute_result"
    }
   ],
   "source": [
    "train.head()"
   ]
  },
  {
   "cell_type": "code",
   "execution_count": 5,
   "metadata": {
    "_uuid": "55454a38cf343340ba879b267832f7e1028aa32a"
   },
   "outputs": [
    {
     "name": "stdout",
     "output_type": "stream",
     "text": [
      "(150000, 8)\n",
      "(9914, 7)\n"
     ]
    }
   ],
   "source": [
    "data = [train, test]\n",
    "for df in data:\n",
    "    print(df.shape)"
   ]
  },
  {
   "cell_type": "code",
   "execution_count": 6,
   "metadata": {
    "_uuid": "05bd9d5d00307241066082d35119366ab3c080be"
   },
   "outputs": [
    {
     "data": {
      "text/plain": [
       "key                   object\n",
       "fare_amount          float64\n",
       "pickup_datetime       object\n",
       "pickup_longitude     float64\n",
       "pickup_latitude      float64\n",
       "dropoff_longitude    float64\n",
       "dropoff_latitude     float64\n",
       "passenger_count        int64\n",
       "dtype: object"
      ]
     },
     "execution_count": 6,
     "metadata": {},
     "output_type": "execute_result"
    }
   ],
   "source": [
    "train.dtypes"
   ]
  },
  {
   "cell_type": "code",
   "execution_count": 7,
   "metadata": {
    "_uuid": "f038b0aa5100a502be6eeeda172c18dfcc975caa",
    "scrolled": true
   },
   "outputs": [
    {
     "data": {
      "text/html": [
       "<div>\n",
       "<style scoped>\n",
       "    .dataframe tbody tr th:only-of-type {\n",
       "        vertical-align: middle;\n",
       "    }\n",
       "\n",
       "    .dataframe tbody tr th {\n",
       "        vertical-align: top;\n",
       "    }\n",
       "\n",
       "    .dataframe thead th {\n",
       "        text-align: right;\n",
       "    }\n",
       "</style>\n",
       "<table border=\"1\" class=\"dataframe\">\n",
       "  <thead>\n",
       "    <tr style=\"text-align: right;\">\n",
       "      <th></th>\n",
       "      <th>fare_amount</th>\n",
       "      <th>pickup_longitude</th>\n",
       "      <th>pickup_latitude</th>\n",
       "      <th>dropoff_longitude</th>\n",
       "      <th>dropoff_latitude</th>\n",
       "      <th>passenger_count</th>\n",
       "    </tr>\n",
       "  </thead>\n",
       "  <tbody>\n",
       "    <tr>\n",
       "      <th>count</th>\n",
       "      <td>150000.000000</td>\n",
       "      <td>150000.000000</td>\n",
       "      <td>150000.000000</td>\n",
       "      <td>149999.000000</td>\n",
       "      <td>149999.000000</td>\n",
       "      <td>150000.000000</td>\n",
       "    </tr>\n",
       "    <tr>\n",
       "      <th>mean</th>\n",
       "      <td>11.357902</td>\n",
       "      <td>-72.545746</td>\n",
       "      <td>39.934732</td>\n",
       "      <td>-72.551808</td>\n",
       "      <td>39.925912</td>\n",
       "      <td>1.688400</td>\n",
       "    </tr>\n",
       "    <tr>\n",
       "      <th>std</th>\n",
       "      <td>9.994606</td>\n",
       "      <td>12.018591</td>\n",
       "      <td>11.078622</td>\n",
       "      <td>11.400394</td>\n",
       "      <td>6.956032</td>\n",
       "      <td>1.312452</td>\n",
       "    </tr>\n",
       "    <tr>\n",
       "      <th>min</th>\n",
       "      <td>-6.500000</td>\n",
       "      <td>-740.000000</td>\n",
       "      <td>-3116.285383</td>\n",
       "      <td>-1329.621332</td>\n",
       "      <td>-1189.615440</td>\n",
       "      <td>0.000000</td>\n",
       "    </tr>\n",
       "    <tr>\n",
       "      <th>25%</th>\n",
       "      <td>6.000000</td>\n",
       "      <td>-73.992076</td>\n",
       "      <td>40.735011</td>\n",
       "      <td>-73.991447</td>\n",
       "      <td>40.733989</td>\n",
       "      <td>1.000000</td>\n",
       "    </tr>\n",
       "    <tr>\n",
       "      <th>50%</th>\n",
       "      <td>8.500000</td>\n",
       "      <td>-73.981787</td>\n",
       "      <td>40.752752</td>\n",
       "      <td>-73.980193</td>\n",
       "      <td>40.753127</td>\n",
       "      <td>1.000000</td>\n",
       "    </tr>\n",
       "    <tr>\n",
       "      <th>75%</th>\n",
       "      <td>12.500000</td>\n",
       "      <td>-73.967198</td>\n",
       "      <td>40.767072</td>\n",
       "      <td>-73.963661</td>\n",
       "      <td>40.768103</td>\n",
       "      <td>2.000000</td>\n",
       "    </tr>\n",
       "    <tr>\n",
       "      <th>max</th>\n",
       "      <td>495.000000</td>\n",
       "      <td>2140.601160</td>\n",
       "      <td>1703.092772</td>\n",
       "      <td>40.825310</td>\n",
       "      <td>404.133332</td>\n",
       "      <td>6.000000</td>\n",
       "    </tr>\n",
       "  </tbody>\n",
       "</table>\n",
       "</div>"
      ],
      "text/plain": [
       "         fare_amount  pickup_longitude  pickup_latitude  dropoff_longitude  \\\n",
       "count  150000.000000     150000.000000    150000.000000      149999.000000   \n",
       "mean       11.357902        -72.545746        39.934732         -72.551808   \n",
       "std         9.994606         12.018591        11.078622          11.400394   \n",
       "min        -6.500000       -740.000000     -3116.285383       -1329.621332   \n",
       "25%         6.000000        -73.992076        40.735011         -73.991447   \n",
       "50%         8.500000        -73.981787        40.752752         -73.980193   \n",
       "75%        12.500000        -73.967198        40.767072         -73.963661   \n",
       "max       495.000000       2140.601160      1703.092772          40.825310   \n",
       "\n",
       "       dropoff_latitude  passenger_count  \n",
       "count     149999.000000    150000.000000  \n",
       "mean          39.925912         1.688400  \n",
       "std            6.956032         1.312452  \n",
       "min        -1189.615440         0.000000  \n",
       "25%           40.733989         1.000000  \n",
       "50%           40.753127         1.000000  \n",
       "75%           40.768103         2.000000  \n",
       "max          404.133332         6.000000  "
      ]
     },
     "execution_count": 7,
     "metadata": {},
     "output_type": "execute_result"
    }
   ],
   "source": [
    "train.describe()"
   ]
  },
  {
   "cell_type": "code",
   "execution_count": 8,
   "metadata": {},
   "outputs": [
    {
     "data": {
      "text/plain": [
       "key                  150000\n",
       "fare_amount            1086\n",
       "pickup_datetime      146214\n",
       "pickup_longitude      62924\n",
       "pickup_latitude       72929\n",
       "dropoff_longitude     67444\n",
       "dropoff_latitude      77605\n",
       "passenger_count           7\n",
       "dtype: int64"
      ]
     },
     "execution_count": 8,
     "metadata": {},
     "output_type": "execute_result"
    }
   ],
   "source": [
    "train.apply(lambda x: x.nunique())"
   ]
  },
  {
   "cell_type": "code",
   "execution_count": null,
   "metadata": {
    "_uuid": "77397e0013be858d58b531c5ba24ed7fa295ba32"
   },
   "outputs": [],
   "source": []
  },
  {
   "cell_type": "markdown",
   "metadata": {
    "_uuid": "548f1eed298375e3c20bf971d73c94844743d085"
   },
   "source": [
    "# Data preprocessing"
   ]
  },
  {
   "cell_type": "markdown",
   "metadata": {},
   "source": [
    "## Checking null values"
   ]
  },
  {
   "cell_type": "code",
   "execution_count": 9,
   "metadata": {
    "scrolled": false
   },
   "outputs": [
    {
     "name": "stdout",
     "output_type": "stream",
     "text": [
      "dropoff_longitude    1\n",
      "dropoff_latitude     1\n",
      "dtype: int64\n",
      "------------\n",
      "Series([], dtype: int64)\n"
     ]
    }
   ],
   "source": [
    "def print_null(df):\n",
    "    \"\"\"\n",
    "    prints null value of the given data\n",
    "    \"\"\"\n",
    "    print(df.isnull().sum()[df.isnull().sum() != 0])\n",
    "\n",
    "print_null(train)\n",
    "print(\"------------\")\n",
    "print_null(test)"
   ]
  },
  {
   "cell_type": "code",
   "execution_count": 10,
   "metadata": {},
   "outputs": [],
   "source": [
    "train = train.dropna(how='any', axis=0)"
   ]
  },
  {
   "cell_type": "code",
   "execution_count": 11,
   "metadata": {},
   "outputs": [
    {
     "name": "stdout",
     "output_type": "stream",
     "text": [
      "Series([], dtype: int64)\n",
      "------------\n",
      "Series([], dtype: int64)\n"
     ]
    }
   ],
   "source": [
    "print_null(train)\n",
    "print(\"------------\")\n",
    "print_null(test)"
   ]
  },
  {
   "cell_type": "markdown",
   "metadata": {},
   "source": [
    "## Natural Constraint"
   ]
  },
  {
   "cell_type": "markdown",
   "metadata": {},
   "source": [
    "No more than 6 passengers are allowed in 1 trip."
   ]
  },
  {
   "cell_type": "code",
   "execution_count": 12,
   "metadata": {},
   "outputs": [
    {
     "data": {
      "text/plain": [
       "6"
      ]
     },
     "execution_count": 12,
     "metadata": {},
     "output_type": "execute_result"
    }
   ],
   "source": [
    "max(train['passenger_count'])"
   ]
  },
  {
   "cell_type": "code",
   "execution_count": 13,
   "metadata": {},
   "outputs": [
    {
     "data": {
      "text/html": [
       "<div>\n",
       "<style scoped>\n",
       "    .dataframe tbody tr th:only-of-type {\n",
       "        vertical-align: middle;\n",
       "    }\n",
       "\n",
       "    .dataframe tbody tr th {\n",
       "        vertical-align: top;\n",
       "    }\n",
       "\n",
       "    .dataframe thead th {\n",
       "        text-align: right;\n",
       "    }\n",
       "</style>\n",
       "<table border=\"1\" class=\"dataframe\">\n",
       "  <thead>\n",
       "    <tr style=\"text-align: right;\">\n",
       "      <th></th>\n",
       "      <th>key</th>\n",
       "      <th>fare_amount</th>\n",
       "      <th>pickup_datetime</th>\n",
       "      <th>pickup_longitude</th>\n",
       "      <th>pickup_latitude</th>\n",
       "      <th>dropoff_longitude</th>\n",
       "      <th>dropoff_latitude</th>\n",
       "      <th>passenger_count</th>\n",
       "    </tr>\n",
       "  </thead>\n",
       "  <tbody>\n",
       "  </tbody>\n",
       "</table>\n",
       "</div>"
      ],
      "text/plain": [
       "Empty DataFrame\n",
       "Columns: [key, fare_amount, pickup_datetime, pickup_longitude, pickup_latitude, dropoff_longitude, dropoff_latitude, passenger_count]\n",
       "Index: []"
      ]
     },
     "execution_count": 13,
     "metadata": {},
     "output_type": "execute_result"
    }
   ],
   "source": [
    "train[train['passenger_count'] > 6]"
   ]
  },
  {
   "cell_type": "code",
   "execution_count": 14,
   "metadata": {},
   "outputs": [
    {
     "data": {
      "text/plain": [
       "(149999, 8)"
      ]
     },
     "execution_count": 14,
     "metadata": {},
     "output_type": "execute_result"
    }
   ],
   "source": [
    "train = train[train['passenger_count'] <= 6]\n",
    "train.shape"
   ]
  },
  {
   "cell_type": "markdown",
   "metadata": {},
   "source": [
    "Fares are expected to be larger than 0"
   ]
  },
  {
   "cell_type": "code",
   "execution_count": 15,
   "metadata": {},
   "outputs": [
    {
     "data": {
      "text/html": [
       "<div>\n",
       "<style scoped>\n",
       "    .dataframe tbody tr th:only-of-type {\n",
       "        vertical-align: middle;\n",
       "    }\n",
       "\n",
       "    .dataframe tbody tr th {\n",
       "        vertical-align: top;\n",
       "    }\n",
       "\n",
       "    .dataframe thead th {\n",
       "        text-align: right;\n",
       "    }\n",
       "</style>\n",
       "<table border=\"1\" class=\"dataframe\">\n",
       "  <thead>\n",
       "    <tr style=\"text-align: right;\">\n",
       "      <th></th>\n",
       "      <th>key</th>\n",
       "      <th>fare_amount</th>\n",
       "      <th>pickup_datetime</th>\n",
       "      <th>pickup_longitude</th>\n",
       "      <th>pickup_latitude</th>\n",
       "      <th>dropoff_longitude</th>\n",
       "      <th>dropoff_latitude</th>\n",
       "      <th>passenger_count</th>\n",
       "    </tr>\n",
       "  </thead>\n",
       "  <tbody>\n",
       "    <tr>\n",
       "      <th>165147</th>\n",
       "      <td>2015-05-31 10:23:50.0000003</td>\n",
       "      <td>-2.5</td>\n",
       "      <td>2015-05-31 10:23:50 UTC</td>\n",
       "      <td>-73.982162</td>\n",
       "      <td>40.773621</td>\n",
       "      <td>-73.982094</td>\n",
       "      <td>40.773811</td>\n",
       "      <td>2</td>\n",
       "    </tr>\n",
       "    <tr>\n",
       "      <th>179311</th>\n",
       "      <td>2015-04-21 22:45:11.0000002</td>\n",
       "      <td>-3.0</td>\n",
       "      <td>2015-04-21 22:45:11 UTC</td>\n",
       "      <td>-73.944504</td>\n",
       "      <td>40.791683</td>\n",
       "      <td>-73.945160</td>\n",
       "      <td>40.795979</td>\n",
       "      <td>1</td>\n",
       "    </tr>\n",
       "    <tr>\n",
       "      <th>182341</th>\n",
       "      <td>2015-02-10 01:34:08.0000002</td>\n",
       "      <td>-5.0</td>\n",
       "      <td>2015-02-10 01:34:08 UTC</td>\n",
       "      <td>-73.990974</td>\n",
       "      <td>40.750374</td>\n",
       "      <td>-73.982193</td>\n",
       "      <td>40.757858</td>\n",
       "      <td>3</td>\n",
       "    </tr>\n",
       "    <tr>\n",
       "      <th>288960</th>\n",
       "      <td>2015-02-13 00:36:36.0000002</td>\n",
       "      <td>-4.5</td>\n",
       "      <td>2015-02-13 00:36:36 UTC</td>\n",
       "      <td>-74.006142</td>\n",
       "      <td>40.740425</td>\n",
       "      <td>-74.009827</td>\n",
       "      <td>40.738804</td>\n",
       "      <td>1</td>\n",
       "    </tr>\n",
       "    <tr>\n",
       "      <th>298412</th>\n",
       "      <td>2010-03-12 12:17:10.0000001</td>\n",
       "      <td>-6.5</td>\n",
       "      <td>2010-03-12 12:17:10 UTC</td>\n",
       "      <td>-73.989493</td>\n",
       "      <td>40.730085</td>\n",
       "      <td>-73.975762</td>\n",
       "      <td>40.749307</td>\n",
       "      <td>1</td>\n",
       "    </tr>\n",
       "  </tbody>\n",
       "</table>\n",
       "</div>"
      ],
      "text/plain": [
       "                                key  fare_amount          pickup_datetime  \\\n",
       "165147  2015-05-31 10:23:50.0000003         -2.5  2015-05-31 10:23:50 UTC   \n",
       "179311  2015-04-21 22:45:11.0000002         -3.0  2015-04-21 22:45:11 UTC   \n",
       "182341  2015-02-10 01:34:08.0000002         -5.0  2015-02-10 01:34:08 UTC   \n",
       "288960  2015-02-13 00:36:36.0000002         -4.5  2015-02-13 00:36:36 UTC   \n",
       "298412  2010-03-12 12:17:10.0000001         -6.5  2010-03-12 12:17:10 UTC   \n",
       "\n",
       "        pickup_longitude  pickup_latitude  dropoff_longitude  \\\n",
       "165147        -73.982162        40.773621         -73.982094   \n",
       "179311        -73.944504        40.791683         -73.945160   \n",
       "182341        -73.990974        40.750374         -73.982193   \n",
       "288960        -74.006142        40.740425         -74.009827   \n",
       "298412        -73.989493        40.730085         -73.975762   \n",
       "\n",
       "        dropoff_latitude  passenger_count  \n",
       "165147         40.773811                2  \n",
       "179311         40.795979                1  \n",
       "182341         40.757858                3  \n",
       "288960         40.738804                1  \n",
       "298412         40.749307                1  "
      ]
     },
     "execution_count": 15,
     "metadata": {},
     "output_type": "execute_result"
    }
   ],
   "source": [
    "train[train.fare_amount < 0]"
   ]
  },
  {
   "cell_type": "code",
   "execution_count": 16,
   "metadata": {},
   "outputs": [
    {
     "data": {
      "text/plain": [
       "(149994, 8)"
      ]
     },
     "execution_count": 16,
     "metadata": {},
     "output_type": "execute_result"
    }
   ],
   "source": [
    "train = train[train.fare_amount >= 0]\n",
    "train.shape"
   ]
  },
  {
   "cell_type": "markdown",
   "metadata": {},
   "source": [
    "The max and min for latitude and longitude ranges from -90 to 90 and -180 to 180."
   ]
  },
  {
   "cell_type": "code",
   "execution_count": 17,
   "metadata": {},
   "outputs": [
    {
     "data": {
      "text/html": [
       "<div>\n",
       "<style scoped>\n",
       "    .dataframe tbody tr th:only-of-type {\n",
       "        vertical-align: middle;\n",
       "    }\n",
       "\n",
       "    .dataframe tbody tr th {\n",
       "        vertical-align: top;\n",
       "    }\n",
       "\n",
       "    .dataframe thead th {\n",
       "        text-align: right;\n",
       "    }\n",
       "</style>\n",
       "<table border=\"1\" class=\"dataframe\">\n",
       "  <thead>\n",
       "    <tr style=\"text-align: right;\">\n",
       "      <th></th>\n",
       "      <th>key</th>\n",
       "      <th>fare_amount</th>\n",
       "      <th>pickup_datetime</th>\n",
       "      <th>pickup_longitude</th>\n",
       "      <th>pickup_latitude</th>\n",
       "      <th>dropoff_longitude</th>\n",
       "      <th>dropoff_latitude</th>\n",
       "      <th>passenger_count</th>\n",
       "    </tr>\n",
       "  </thead>\n",
       "  <tbody>\n",
       "    <tr>\n",
       "      <th>150559</th>\n",
       "      <td>2012-08-03 07:43:00.000000176</td>\n",
       "      <td>25.3</td>\n",
       "      <td>2012-08-03 07:43:00 UTC</td>\n",
       "      <td>0.000000</td>\n",
       "      <td>-3116.285383</td>\n",
       "      <td>-73.95360</td>\n",
       "      <td>40.787998</td>\n",
       "      <td>1</td>\n",
       "    </tr>\n",
       "    <tr>\n",
       "      <th>174356</th>\n",
       "      <td>2011-11-21 21:36:00.00000081</td>\n",
       "      <td>9.7</td>\n",
       "      <td>2011-11-21 21:36:00 UTC</td>\n",
       "      <td>2140.601160</td>\n",
       "      <td>1703.092772</td>\n",
       "      <td>-1251.19589</td>\n",
       "      <td>-1189.615440</td>\n",
       "      <td>1</td>\n",
       "    </tr>\n",
       "    <tr>\n",
       "      <th>272439</th>\n",
       "      <td>2011-04-23 02:55:00.00000012</td>\n",
       "      <td>9.3</td>\n",
       "      <td>2011-04-23 02:55:00 UTC</td>\n",
       "      <td>-74.002497</td>\n",
       "      <td>405.350000</td>\n",
       "      <td>-73.97860</td>\n",
       "      <td>40.739962</td>\n",
       "      <td>1</td>\n",
       "    </tr>\n",
       "  </tbody>\n",
       "</table>\n",
       "</div>"
      ],
      "text/plain": [
       "                                  key  fare_amount          pickup_datetime  \\\n",
       "150559  2012-08-03 07:43:00.000000176         25.3  2012-08-03 07:43:00 UTC   \n",
       "174356   2011-11-21 21:36:00.00000081          9.7  2011-11-21 21:36:00 UTC   \n",
       "272439   2011-04-23 02:55:00.00000012          9.3  2011-04-23 02:55:00 UTC   \n",
       "\n",
       "        pickup_longitude  pickup_latitude  dropoff_longitude  \\\n",
       "150559          0.000000     -3116.285383          -73.95360   \n",
       "174356       2140.601160      1703.092772        -1251.19589   \n",
       "272439        -74.002497       405.350000          -73.97860   \n",
       "\n",
       "        dropoff_latitude  passenger_count  \n",
       "150559         40.787998                1  \n",
       "174356      -1189.615440                1  \n",
       "272439         40.739962                1  "
      ]
     },
     "execution_count": 17,
     "metadata": {},
     "output_type": "execute_result"
    }
   ],
   "source": [
    "train[(train.pickup_latitude > 90) | (train.pickup_latitude < -90)]"
   ]
  },
  {
   "cell_type": "code",
   "execution_count": 18,
   "metadata": {
    "scrolled": false
   },
   "outputs": [
    {
     "data": {
      "text/html": [
       "<div>\n",
       "<style scoped>\n",
       "    .dataframe tbody tr th:only-of-type {\n",
       "        vertical-align: middle;\n",
       "    }\n",
       "\n",
       "    .dataframe tbody tr th {\n",
       "        vertical-align: top;\n",
       "    }\n",
       "\n",
       "    .dataframe thead th {\n",
       "        text-align: right;\n",
       "    }\n",
       "</style>\n",
       "<table border=\"1\" class=\"dataframe\">\n",
       "  <thead>\n",
       "    <tr style=\"text-align: right;\">\n",
       "      <th></th>\n",
       "      <th>key</th>\n",
       "      <th>fare_amount</th>\n",
       "      <th>pickup_datetime</th>\n",
       "      <th>pickup_longitude</th>\n",
       "      <th>pickup_latitude</th>\n",
       "      <th>dropoff_longitude</th>\n",
       "      <th>dropoff_latitude</th>\n",
       "      <th>passenger_count</th>\n",
       "    </tr>\n",
       "  </thead>\n",
       "  <tbody>\n",
       "    <tr>\n",
       "      <th>174356</th>\n",
       "      <td>2011-11-21 21:36:00.00000081</td>\n",
       "      <td>9.7</td>\n",
       "      <td>2011-11-21 21:36:00 UTC</td>\n",
       "      <td>2140.601160</td>\n",
       "      <td>1703.092772</td>\n",
       "      <td>-1251.195890</td>\n",
       "      <td>-1189.615440</td>\n",
       "      <td>1</td>\n",
       "    </tr>\n",
       "    <tr>\n",
       "      <th>217355</th>\n",
       "      <td>2012-06-03 23:21:00.00000077</td>\n",
       "      <td>6.1</td>\n",
       "      <td>2012-06-03 23:21:00 UTC</td>\n",
       "      <td>-740.000000</td>\n",
       "      <td>40.747620</td>\n",
       "      <td>0.000000</td>\n",
       "      <td>0.000000</td>\n",
       "      <td>6</td>\n",
       "    </tr>\n",
       "    <tr>\n",
       "      <th>243342</th>\n",
       "      <td>2012-08-02 10:38:00.000000111</td>\n",
       "      <td>7.3</td>\n",
       "      <td>2012-08-02 10:38:00 UTC</td>\n",
       "      <td>-736.333333</td>\n",
       "      <td>40.766480</td>\n",
       "      <td>-73.987928</td>\n",
       "      <td>40.751742</td>\n",
       "      <td>3</td>\n",
       "    </tr>\n",
       "  </tbody>\n",
       "</table>\n",
       "</div>"
      ],
      "text/plain": [
       "                                  key  fare_amount          pickup_datetime  \\\n",
       "174356   2011-11-21 21:36:00.00000081          9.7  2011-11-21 21:36:00 UTC   \n",
       "217355   2012-06-03 23:21:00.00000077          6.1  2012-06-03 23:21:00 UTC   \n",
       "243342  2012-08-02 10:38:00.000000111          7.3  2012-08-02 10:38:00 UTC   \n",
       "\n",
       "        pickup_longitude  pickup_latitude  dropoff_longitude  \\\n",
       "174356       2140.601160      1703.092772       -1251.195890   \n",
       "217355       -740.000000        40.747620           0.000000   \n",
       "243342       -736.333333        40.766480         -73.987928   \n",
       "\n",
       "        dropoff_latitude  passenger_count  \n",
       "174356      -1189.615440                1  \n",
       "217355          0.000000                6  \n",
       "243342         40.751742                3  "
      ]
     },
     "execution_count": 18,
     "metadata": {},
     "output_type": "execute_result"
    }
   ],
   "source": [
    "train[(train.pickup_longitude > 180) | (train.pickup_longitude < -180)]"
   ]
  },
  {
   "cell_type": "code",
   "execution_count": 19,
   "metadata": {},
   "outputs": [
    {
     "data": {
      "text/html": [
       "<div>\n",
       "<style scoped>\n",
       "    .dataframe tbody tr th:only-of-type {\n",
       "        vertical-align: middle;\n",
       "    }\n",
       "\n",
       "    .dataframe tbody tr th {\n",
       "        vertical-align: top;\n",
       "    }\n",
       "\n",
       "    .dataframe thead th {\n",
       "        text-align: right;\n",
       "    }\n",
       "</style>\n",
       "<table border=\"1\" class=\"dataframe\">\n",
       "  <thead>\n",
       "    <tr style=\"text-align: right;\">\n",
       "      <th></th>\n",
       "      <th>key</th>\n",
       "      <th>fare_amount</th>\n",
       "      <th>pickup_datetime</th>\n",
       "      <th>pickup_longitude</th>\n",
       "      <th>pickup_latitude</th>\n",
       "      <th>dropoff_longitude</th>\n",
       "      <th>dropoff_latitude</th>\n",
       "      <th>passenger_count</th>\n",
       "    </tr>\n",
       "  </thead>\n",
       "  <tbody>\n",
       "    <tr>\n",
       "      <th>174356</th>\n",
       "      <td>2011-11-21 21:36:00.00000081</td>\n",
       "      <td>9.7</td>\n",
       "      <td>2011-11-21 21:36:00 UTC</td>\n",
       "      <td>2140.601160</td>\n",
       "      <td>1703.092772</td>\n",
       "      <td>-1251.195890</td>\n",
       "      <td>-1189.615440</td>\n",
       "      <td>1</td>\n",
       "    </tr>\n",
       "    <tr>\n",
       "      <th>181973</th>\n",
       "      <td>2012-01-03 09:04:00.000000130</td>\n",
       "      <td>6.5</td>\n",
       "      <td>2012-01-03 09:04:00 UTC</td>\n",
       "      <td>-74.008918</td>\n",
       "      <td>40.717827</td>\n",
       "      <td>-74.000855</td>\n",
       "      <td>404.133332</td>\n",
       "      <td>1</td>\n",
       "    </tr>\n",
       "  </tbody>\n",
       "</table>\n",
       "</div>"
      ],
      "text/plain": [
       "                                  key  fare_amount          pickup_datetime  \\\n",
       "174356   2011-11-21 21:36:00.00000081          9.7  2011-11-21 21:36:00 UTC   \n",
       "181973  2012-01-03 09:04:00.000000130          6.5  2012-01-03 09:04:00 UTC   \n",
       "\n",
       "        pickup_longitude  pickup_latitude  dropoff_longitude  \\\n",
       "174356       2140.601160      1703.092772       -1251.195890   \n",
       "181973        -74.008918        40.717827         -74.000855   \n",
       "\n",
       "        dropoff_latitude  passenger_count  \n",
       "174356      -1189.615440                1  \n",
       "181973        404.133332                1  "
      ]
     },
     "execution_count": 19,
     "metadata": {},
     "output_type": "execute_result"
    }
   ],
   "source": [
    "train[(train.dropoff_latitude > 90) | (train.dropoff_latitude < -90)]"
   ]
  },
  {
   "cell_type": "code",
   "execution_count": 20,
   "metadata": {},
   "outputs": [
    {
     "data": {
      "text/html": [
       "<div>\n",
       "<style scoped>\n",
       "    .dataframe tbody tr th:only-of-type {\n",
       "        vertical-align: middle;\n",
       "    }\n",
       "\n",
       "    .dataframe tbody tr th {\n",
       "        vertical-align: top;\n",
       "    }\n",
       "\n",
       "    .dataframe thead th {\n",
       "        text-align: right;\n",
       "    }\n",
       "</style>\n",
       "<table border=\"1\" class=\"dataframe\">\n",
       "  <thead>\n",
       "    <tr style=\"text-align: right;\">\n",
       "      <th></th>\n",
       "      <th>key</th>\n",
       "      <th>fare_amount</th>\n",
       "      <th>pickup_datetime</th>\n",
       "      <th>pickup_longitude</th>\n",
       "      <th>pickup_latitude</th>\n",
       "      <th>dropoff_longitude</th>\n",
       "      <th>dropoff_latitude</th>\n",
       "      <th>passenger_count</th>\n",
       "    </tr>\n",
       "  </thead>\n",
       "  <tbody>\n",
       "    <tr>\n",
       "      <th>174356</th>\n",
       "      <td>2011-11-21 21:36:00.00000081</td>\n",
       "      <td>9.7</td>\n",
       "      <td>2011-11-21 21:36:00 UTC</td>\n",
       "      <td>2140.601160</td>\n",
       "      <td>1703.092772</td>\n",
       "      <td>-1251.195890</td>\n",
       "      <td>-1189.615440</td>\n",
       "      <td>1</td>\n",
       "    </tr>\n",
       "    <tr>\n",
       "      <th>269695</th>\n",
       "      <td>2012-05-24 09:00:00.000000101</td>\n",
       "      <td>17.7</td>\n",
       "      <td>2012-05-24 09:00:00 UTC</td>\n",
       "      <td>-73.997572</td>\n",
       "      <td>40.720945</td>\n",
       "      <td>-1329.621332</td>\n",
       "      <td>40.773717</td>\n",
       "      <td>1</td>\n",
       "    </tr>\n",
       "    <tr>\n",
       "      <th>282374</th>\n",
       "      <td>2011-04-25 13:09:00.000000123</td>\n",
       "      <td>5.7</td>\n",
       "      <td>2011-04-25 13:09:00 UTC</td>\n",
       "      <td>-73.987105</td>\n",
       "      <td>40.755732</td>\n",
       "      <td>-732.600000</td>\n",
       "      <td>40.744832</td>\n",
       "      <td>1</td>\n",
       "    </tr>\n",
       "  </tbody>\n",
       "</table>\n",
       "</div>"
      ],
      "text/plain": [
       "                                  key  fare_amount          pickup_datetime  \\\n",
       "174356   2011-11-21 21:36:00.00000081          9.7  2011-11-21 21:36:00 UTC   \n",
       "269695  2012-05-24 09:00:00.000000101         17.7  2012-05-24 09:00:00 UTC   \n",
       "282374  2011-04-25 13:09:00.000000123          5.7  2011-04-25 13:09:00 UTC   \n",
       "\n",
       "        pickup_longitude  pickup_latitude  dropoff_longitude  \\\n",
       "174356       2140.601160      1703.092772       -1251.195890   \n",
       "269695        -73.997572        40.720945       -1329.621332   \n",
       "282374        -73.987105        40.755732        -732.600000   \n",
       "\n",
       "        dropoff_latitude  passenger_count  \n",
       "174356      -1189.615440                1  \n",
       "269695         40.773717                1  \n",
       "282374         40.744832                1  "
      ]
     },
     "execution_count": 20,
     "metadata": {},
     "output_type": "execute_result"
    }
   ],
   "source": [
    "train[(train.dropoff_longitude > 180) | (train.dropoff_longitude < -180)]"
   ]
  },
  {
   "cell_type": "code",
   "execution_count": 21,
   "metadata": {},
   "outputs": [
    {
     "data": {
      "text/plain": [
       "(149986, 8)"
      ]
     },
     "execution_count": 21,
     "metadata": {},
     "output_type": "execute_result"
    }
   ],
   "source": [
    "train = train[(train.pickup_latitude < 90) & (train.pickup_latitude > -90)]\n",
    "train = train[(train.pickup_longitude < 180) & (train.pickup_longitude > -180)]\n",
    "train = train[(train.dropoff_latitude < 90) & (train.dropoff_latitude > -90)]\n",
    "train = train[(train.dropoff_longitude < 180) & (train.dropoff_longitude > -180)]\n",
    "train.shape"
   ]
  },
  {
   "cell_type": "code",
   "execution_count": null,
   "metadata": {},
   "outputs": [],
   "source": []
  },
  {
   "cell_type": "markdown",
   "metadata": {},
   "source": [
    "# Feature engineering"
   ]
  },
  {
   "cell_type": "markdown",
   "metadata": {
    "_uuid": "88569903c6cdafb7dc71b498b212999e32f3056c"
   },
   "source": [
    "## Manhattan distance"
   ]
  },
  {
   "cell_type": "code",
   "execution_count": 22,
   "metadata": {
    "_uuid": "a180722f84cd3caf076d5de1b42e9a21520cdd9d",
    "scrolled": true
   },
   "outputs": [
    {
     "name": "stdout",
     "output_type": "stream",
     "text": [
      "CPU times: user 73.9 ms, sys: 21.7 ms, total: 95.5 ms\n",
      "Wall time: 42.1 ms\n"
     ]
    },
    {
     "data": {
      "text/html": [
       "<div>\n",
       "<style scoped>\n",
       "    .dataframe tbody tr th:only-of-type {\n",
       "        vertical-align: middle;\n",
       "    }\n",
       "\n",
       "    .dataframe tbody tr th {\n",
       "        vertical-align: top;\n",
       "    }\n",
       "\n",
       "    .dataframe thead th {\n",
       "        text-align: right;\n",
       "    }\n",
       "</style>\n",
       "<table border=\"1\" class=\"dataframe\">\n",
       "  <thead>\n",
       "    <tr style=\"text-align: right;\">\n",
       "      <th></th>\n",
       "      <th>abs_long_diff</th>\n",
       "      <th>abs_lat_diff</th>\n",
       "      <th>manhattan_dist</th>\n",
       "    </tr>\n",
       "  </thead>\n",
       "  <tbody>\n",
       "    <tr>\n",
       "      <th>0</th>\n",
       "      <td>0.008110</td>\n",
       "      <td>0.019970</td>\n",
       "      <td>0.028080</td>\n",
       "    </tr>\n",
       "    <tr>\n",
       "      <th>1</th>\n",
       "      <td>0.012024</td>\n",
       "      <td>0.019817</td>\n",
       "      <td>0.031841</td>\n",
       "    </tr>\n",
       "    <tr>\n",
       "      <th>2</th>\n",
       "      <td>0.002870</td>\n",
       "      <td>0.005121</td>\n",
       "      <td>0.007991</td>\n",
       "    </tr>\n",
       "    <tr>\n",
       "      <th>3</th>\n",
       "      <td>0.009288</td>\n",
       "      <td>0.016172</td>\n",
       "      <td>0.025460</td>\n",
       "    </tr>\n",
       "    <tr>\n",
       "      <th>4</th>\n",
       "      <td>0.022519</td>\n",
       "      <td>0.045348</td>\n",
       "      <td>0.067867</td>\n",
       "    </tr>\n",
       "    <tr>\n",
       "      <th>...</th>\n",
       "      <td>...</td>\n",
       "      <td>...</td>\n",
       "      <td>...</td>\n",
       "    </tr>\n",
       "    <tr>\n",
       "      <th>9909</th>\n",
       "      <td>0.012482</td>\n",
       "      <td>0.016609</td>\n",
       "      <td>0.029091</td>\n",
       "    </tr>\n",
       "    <tr>\n",
       "      <th>9910</th>\n",
       "      <td>0.014702</td>\n",
       "      <td>0.027229</td>\n",
       "      <td>0.041931</td>\n",
       "    </tr>\n",
       "    <tr>\n",
       "      <th>9911</th>\n",
       "      <td>0.201859</td>\n",
       "      <td>0.079597</td>\n",
       "      <td>0.281456</td>\n",
       "    </tr>\n",
       "    <tr>\n",
       "      <th>9912</th>\n",
       "      <td>0.046394</td>\n",
       "      <td>0.066299</td>\n",
       "      <td>0.112694</td>\n",
       "    </tr>\n",
       "    <tr>\n",
       "      <th>9913</th>\n",
       "      <td>0.012260</td>\n",
       "      <td>0.005150</td>\n",
       "      <td>0.017410</td>\n",
       "    </tr>\n",
       "  </tbody>\n",
       "</table>\n",
       "<p>9914 rows × 3 columns</p>\n",
       "</div>"
      ],
      "text/plain": [
       "      abs_long_diff  abs_lat_diff  manhattan_dist\n",
       "0          0.008110      0.019970        0.028080\n",
       "1          0.012024      0.019817        0.031841\n",
       "2          0.002870      0.005121        0.007991\n",
       "3          0.009288      0.016172        0.025460\n",
       "4          0.022519      0.045348        0.067867\n",
       "...             ...           ...             ...\n",
       "9909       0.012482      0.016609        0.029091\n",
       "9910       0.014702      0.027229        0.041931\n",
       "9911       0.201859      0.079597        0.281456\n",
       "9912       0.046394      0.066299        0.112694\n",
       "9913       0.012260      0.005150        0.017410\n",
       "\n",
       "[9914 rows x 3 columns]"
      ]
     },
     "execution_count": 22,
     "metadata": {},
     "output_type": "execute_result"
    }
   ],
   "source": [
    "%%time\n",
    "def m_dist_fe(df):\n",
    "    df['abs_long_diff'] = (df.dropoff_longitude - df.pickup_longitude).abs()\n",
    "    df['abs_lat_diff'] = (df.dropoff_latitude - df.pickup_latitude).abs()\n",
    "    df['manhattan_dist'] = df['abs_long_diff'] + df['abs_lat_diff']\n",
    "    return df[['abs_long_diff', 'abs_lat_diff', 'manhattan_dist']]\n",
    "\n",
    "m_dist_fe(train)\n",
    "m_dist_fe(test)"
   ]
  },
  {
   "cell_type": "markdown",
   "metadata": {},
   "source": [
    "## Euclidean distance"
   ]
  },
  {
   "cell_type": "code",
   "execution_count": 23,
   "metadata": {},
   "outputs": [
    {
     "data": {
      "text/html": [
       "<div>\n",
       "<style scoped>\n",
       "    .dataframe tbody tr th:only-of-type {\n",
       "        vertical-align: middle;\n",
       "    }\n",
       "\n",
       "    .dataframe tbody tr th {\n",
       "        vertical-align: top;\n",
       "    }\n",
       "\n",
       "    .dataframe thead th {\n",
       "        text-align: right;\n",
       "    }\n",
       "</style>\n",
       "<table border=\"1\" class=\"dataframe\">\n",
       "  <thead>\n",
       "    <tr style=\"text-align: right;\">\n",
       "      <th></th>\n",
       "      <th>sqrt_long_diff</th>\n",
       "      <th>sqrt_lat_diff</th>\n",
       "      <th>euclidean_dist</th>\n",
       "    </tr>\n",
       "  </thead>\n",
       "  <tbody>\n",
       "    <tr>\n",
       "      <th>0</th>\n",
       "      <td>0.000066</td>\n",
       "      <td>0.000399</td>\n",
       "      <td>0.021554</td>\n",
       "    </tr>\n",
       "    <tr>\n",
       "      <th>1</th>\n",
       "      <td>0.000145</td>\n",
       "      <td>0.000393</td>\n",
       "      <td>0.023180</td>\n",
       "    </tr>\n",
       "    <tr>\n",
       "      <th>2</th>\n",
       "      <td>0.000008</td>\n",
       "      <td>0.000026</td>\n",
       "      <td>0.005870</td>\n",
       "    </tr>\n",
       "    <tr>\n",
       "      <th>3</th>\n",
       "      <td>0.000086</td>\n",
       "      <td>0.000262</td>\n",
       "      <td>0.018649</td>\n",
       "    </tr>\n",
       "    <tr>\n",
       "      <th>4</th>\n",
       "      <td>0.000507</td>\n",
       "      <td>0.002056</td>\n",
       "      <td>0.050631</td>\n",
       "    </tr>\n",
       "    <tr>\n",
       "      <th>...</th>\n",
       "      <td>...</td>\n",
       "      <td>...</td>\n",
       "      <td>...</td>\n",
       "    </tr>\n",
       "    <tr>\n",
       "      <th>9909</th>\n",
       "      <td>0.000156</td>\n",
       "      <td>0.000276</td>\n",
       "      <td>0.020776</td>\n",
       "    </tr>\n",
       "    <tr>\n",
       "      <th>9910</th>\n",
       "      <td>0.000216</td>\n",
       "      <td>0.000741</td>\n",
       "      <td>0.030945</td>\n",
       "    </tr>\n",
       "    <tr>\n",
       "      <th>9911</th>\n",
       "      <td>0.040747</td>\n",
       "      <td>0.006336</td>\n",
       "      <td>0.216985</td>\n",
       "    </tr>\n",
       "    <tr>\n",
       "      <th>9912</th>\n",
       "      <td>0.002152</td>\n",
       "      <td>0.004396</td>\n",
       "      <td>0.080920</td>\n",
       "    </tr>\n",
       "    <tr>\n",
       "      <th>9913</th>\n",
       "      <td>0.000150</td>\n",
       "      <td>0.000027</td>\n",
       "      <td>0.013298</td>\n",
       "    </tr>\n",
       "  </tbody>\n",
       "</table>\n",
       "<p>9914 rows × 3 columns</p>\n",
       "</div>"
      ],
      "text/plain": [
       "      sqrt_long_diff  sqrt_lat_diff  euclidean_dist\n",
       "0           0.000066       0.000399        0.021554\n",
       "1           0.000145       0.000393        0.023180\n",
       "2           0.000008       0.000026        0.005870\n",
       "3           0.000086       0.000262        0.018649\n",
       "4           0.000507       0.002056        0.050631\n",
       "...              ...            ...             ...\n",
       "9909        0.000156       0.000276        0.020776\n",
       "9910        0.000216       0.000741        0.030945\n",
       "9911        0.040747       0.006336        0.216985\n",
       "9912        0.002152       0.004396        0.080920\n",
       "9913        0.000150       0.000027        0.013298\n",
       "\n",
       "[9914 rows x 3 columns]"
      ]
     },
     "execution_count": 23,
     "metadata": {},
     "output_type": "execute_result"
    }
   ],
   "source": [
    "def e_dist_fe(df):\n",
    "    df['sqrt_long_diff'] = (df.dropoff_longitude - df.pickup_longitude).pow(2)\n",
    "    df['sqrt_lat_diff'] = (df.dropoff_latitude - df.pickup_latitude).pow(2)\n",
    "    df['euclidean_dist'] = (df['sqrt_long_diff'] + df['sqrt_lat_diff']).pow(0.5)\n",
    "    return df[['sqrt_long_diff', 'sqrt_lat_diff', 'euclidean_dist']]\n",
    "\n",
    "e_dist_fe(train)\n",
    "e_dist_fe(test)"
   ]
  },
  {
   "cell_type": "markdown",
   "metadata": {},
   "source": [
    "## Geopy distance"
   ]
  },
  {
   "cell_type": "code",
   "execution_count": 24,
   "metadata": {
    "scrolled": true
   },
   "outputs": [
    {
     "name": "stdout",
     "output_type": "stream",
     "text": [
      "CPU times: user 58.4 s, sys: 873 ms, total: 59.3 s\n",
      "Wall time: 58.6 s\n"
     ]
    },
    {
     "data": {
      "text/html": [
       "<div>\n",
       "<style scoped>\n",
       "    .dataframe tbody tr th:only-of-type {\n",
       "        vertical-align: middle;\n",
       "    }\n",
       "\n",
       "    .dataframe tbody tr th {\n",
       "        vertical-align: top;\n",
       "    }\n",
       "\n",
       "    .dataframe thead th {\n",
       "        text-align: right;\n",
       "    }\n",
       "</style>\n",
       "<table border=\"1\" class=\"dataframe\">\n",
       "  <thead>\n",
       "    <tr style=\"text-align: right;\">\n",
       "      <th></th>\n",
       "      <th>geodesic_km_dist</th>\n",
       "      <th>great_circle_km_dist</th>\n",
       "    </tr>\n",
       "  </thead>\n",
       "  <tbody>\n",
       "    <tr>\n",
       "      <th>0</th>\n",
       "      <td>2.320991</td>\n",
       "      <td>2.323263</td>\n",
       "    </tr>\n",
       "    <tr>\n",
       "      <th>1</th>\n",
       "      <td>2.423802</td>\n",
       "      <td>2.425356</td>\n",
       "    </tr>\n",
       "    <tr>\n",
       "      <th>2</th>\n",
       "      <td>0.618182</td>\n",
       "      <td>0.618629</td>\n",
       "    </tr>\n",
       "    <tr>\n",
       "      <th>3</th>\n",
       "      <td>1.959671</td>\n",
       "      <td>1.961035</td>\n",
       "    </tr>\n",
       "    <tr>\n",
       "      <th>4</th>\n",
       "      <td>5.382833</td>\n",
       "      <td>5.387309</td>\n",
       "    </tr>\n",
       "    <tr>\n",
       "      <th>...</th>\n",
       "      <td>...</td>\n",
       "      <td>...</td>\n",
       "    </tr>\n",
       "    <tr>\n",
       "      <th>9909</th>\n",
       "      <td>2.124110</td>\n",
       "      <td>2.124877</td>\n",
       "    </tr>\n",
       "    <tr>\n",
       "      <th>9910</th>\n",
       "      <td>3.268511</td>\n",
       "      <td>3.270974</td>\n",
       "    </tr>\n",
       "    <tr>\n",
       "      <th>9911</th>\n",
       "      <td>19.217032</td>\n",
       "      <td>19.183968</td>\n",
       "    </tr>\n",
       "    <tr>\n",
       "      <th>9912</th>\n",
       "      <td>8.339644</td>\n",
       "      <td>8.343498</td>\n",
       "    </tr>\n",
       "    <tr>\n",
       "      <th>9913</th>\n",
       "      <td>1.182767</td>\n",
       "      <td>1.180827</td>\n",
       "    </tr>\n",
       "  </tbody>\n",
       "</table>\n",
       "<p>9914 rows × 2 columns</p>\n",
       "</div>"
      ],
      "text/plain": [
       "      geodesic_km_dist  great_circle_km_dist\n",
       "0             2.320991              2.323263\n",
       "1             2.423802              2.425356\n",
       "2             0.618182              0.618629\n",
       "3             1.959671              1.961035\n",
       "4             5.382833              5.387309\n",
       "...                ...                   ...\n",
       "9909          2.124110              2.124877\n",
       "9910          3.268511              3.270974\n",
       "9911         19.217032             19.183968\n",
       "9912          8.339644              8.343498\n",
       "9913          1.182767              1.180827\n",
       "\n",
       "[9914 rows x 2 columns]"
      ]
     },
     "execution_count": 24,
     "metadata": {},
     "output_type": "execute_result"
    }
   ],
   "source": [
    "%%time\n",
    "def geopy_dist_fe(df):\n",
    "    df['geodesic_km_dist'] = df.apply(lambda x: geodesic((x.pickup_latitude, x.pickup_longitude), (x.dropoff_latitude, x.dropoff_longitude)).km, axis=1)\n",
    "    df['great_circle_km_dist'] = df.apply(lambda x: great_circle((x.pickup_latitude, x.pickup_longitude), (x.dropoff_latitude, x.dropoff_longitude)).km, axis=1)\n",
    "    return df[['geodesic_km_dist', 'great_circle_km_dist']]\n",
    "\n",
    "geopy_dist_fe(train)\n",
    "geopy_dist_fe(test)"
   ]
  },
  {
   "cell_type": "markdown",
   "metadata": {
    "_uuid": "376e4b611760e6cad55c32eb1e2632ae5a9c20c2"
   },
   "source": [
    "## [Haversine distance](https://www.kaggle.com/madhurisivalenka/cleansing-eda-modelling-lgbm-xgboost-starters)"
   ]
  },
  {
   "cell_type": "code",
   "execution_count": 25,
   "metadata": {
    "_uuid": "2a0b6ec9e19019d04b538f0062aa67b6a321a351"
   },
   "outputs": [],
   "source": [
    "def h_dist_fe(lat1, long1, lat2, long2):\n",
    "    data = [train, test]\n",
    "    for i in data:\n",
    "        R = 6371  #radius of earth in kilometers\n",
    "        #R = 3959 #radius of earth in miles\n",
    "        phi1 = np.radians(i[lat1])\n",
    "        phi2 = np.radians(i[lat2])\n",
    "    \n",
    "        delta_phi = np.radians(i[lat2]-i[lat1])\n",
    "        delta_lambda = np.radians(i[long2]-i[long1])\n",
    "    \n",
    "        #a = sin²((φB - φA)/2) + cos φA . cos φB . sin²((λB - λA)/2)\n",
    "        a = np.sin(delta_phi / 2.0) ** 2 + np.cos(phi1) * np.cos(phi2) * np.sin(delta_lambda / 2.0) ** 2\n",
    "    \n",
    "        #c = 2 * atan2( √a, √(1−a) )\n",
    "        c = 2 * np.arctan2(np.sqrt(a), np.sqrt(1-a))\n",
    "    \n",
    "        #d = R*c\n",
    "        d = (R * c) #in kilometers\n",
    "        i['haversine_dist'] = d\n",
    "    return d"
   ]
  },
  {
   "cell_type": "code",
   "execution_count": 26,
   "metadata": {
    "_kg_hide-output": true,
    "_uuid": "4143055217d1819da2713ad3914c2369e9490e4c",
    "scrolled": true
   },
   "outputs": [
    {
     "name": "stdout",
     "output_type": "stream",
     "text": [
      "CPU times: user 42.7 ms, sys: 12.5 ms, total: 55.2 ms\n",
      "Wall time: 30.6 ms\n"
     ]
    },
    {
     "data": {
      "text/plain": [
       "0        2.323260\n",
       "1        2.425353\n",
       "2        0.618628\n",
       "3        1.961033\n",
       "4        5.387301\n",
       "          ...    \n",
       "9909     2.124874\n",
       "9910     3.270969\n",
       "9911    19.183941\n",
       "9912     8.343486\n",
       "9913     1.180825\n",
       "Length: 9914, dtype: float64"
      ]
     },
     "execution_count": 26,
     "metadata": {},
     "output_type": "execute_result"
    }
   ],
   "source": [
    "%%time\n",
    "h_dist_fe('pickup_latitude', 'pickup_longitude', 'dropoff_latitude', 'dropoff_longitude')"
   ]
  },
  {
   "cell_type": "code",
   "execution_count": null,
   "metadata": {},
   "outputs": [],
   "source": []
  },
  {
   "cell_type": "markdown",
   "metadata": {},
   "source": [
    "## Datetime"
   ]
  },
  {
   "cell_type": "markdown",
   "metadata": {},
   "source": [
    "## Convert column types"
   ]
  },
  {
   "cell_type": "code",
   "execution_count": 27,
   "metadata": {
    "_uuid": "357d3ac28e6252178a0f64aad12129b56a37f9bc"
   },
   "outputs": [],
   "source": [
    "data = [train, test]\n",
    "for df in data:\n",
    "    df[\"key\"] = pd.to_datetime(df[\"key\"])\n",
    "    df[\"pickup_datetime\"] = pd.to_datetime(df[\"pickup_datetime\"])"
   ]
  },
  {
   "cell_type": "code",
   "execution_count": 28,
   "metadata": {
    "_uuid": "33fc8bfafa73c7874b2083e62ac9c413118c8c92"
   },
   "outputs": [],
   "source": [
    "data = [train,test]\n",
    "for df in data:\n",
    "    df['Year'] = df['pickup_datetime'].dt.year\n",
    "    df['Month'] = df['pickup_datetime'].dt.month\n",
    "    df['Date'] = df['pickup_datetime'].dt.day\n",
    "    df['Day of Week'] = df['pickup_datetime'].dt.dayofweek\n",
    "    df['Hour'] = df['pickup_datetime'].dt.hour"
   ]
  },
  {
   "cell_type": "code",
   "execution_count": null,
   "metadata": {
    "_uuid": "11193f0f6a0e07442930add12c7a357bdf3d7bad"
   },
   "outputs": [],
   "source": []
  },
  {
   "cell_type": "code",
   "execution_count": null,
   "metadata": {
    "_uuid": "fa8127442eca75df18632886c7caf284a4d71909"
   },
   "outputs": [],
   "source": []
  },
  {
   "cell_type": "markdown",
   "metadata": {
    "_uuid": "bca5d57fb336596e3617ba42e136a6891101bb77"
   },
   "source": [
    "# reverse_geocoder"
   ]
  },
  {
   "cell_type": "code",
   "execution_count": 29,
   "metadata": {},
   "outputs": [],
   "source": [
    "def rg_fe(df):\n",
    "    df_pickup = df[['pickup_latitude', 'pickup_longitude']]\n",
    "    df_dropoff = df[['dropoff_latitude', 'dropoff_longitude']]\n",
    "\n",
    "    pickup_results = rg.search([tuple(x) for x in df_pickup.values])\n",
    "    dropoff_results = rg.search([tuple(x) for x in df_dropoff.values])\n",
    "\n",
    "    pickup_place = [pickup_results[i]['name'] for i in range(len(pickup_results))]\n",
    "    pickup_admin1 = [pickup_results[i]['admin1'] for i in range(len(pickup_results))]\n",
    "    pickup_admin2 = [pickup_results[i]['admin2'] for i in range(len(pickup_results))]\n",
    "    dropoff_place = [dropoff_results[i]['name'] for i in range(len(dropoff_results))]\n",
    "    dropoff_admin1 = [dropoff_results[i]['admin1'] for i in range(len(pickup_results))]\n",
    "    dropoff_admin2 = [dropoff_results[i]['admin2'] for i in range(len(pickup_results))]\n",
    "\n",
    "    df['pickup_place'] = pd.Series(pickup_place).values\n",
    "    df['pickup_admin1'] = pd.Series(pickup_admin1).values\n",
    "    df['pickup_admin2'] = pd.Series(pickup_admin2).values\n",
    "    df['dropoff_place'] = pd.Series(dropoff_place).values\n",
    "    df['dropoff_admin1'] = pd.Series(dropoff_admin1).values\n",
    "    df['dropoff_admin2'] = pd.Series(dropoff_admin2).values\n",
    "    \n",
    "    df.loc[df['pickup_admin1'].str.len() == 0, 'pickup_admin1'] = 'None'\n",
    "    df.loc[df['pickup_admin2'].str.len() == 0, 'pickup_admin2'] = 'None'\n",
    "    df.loc[df['pickup_place'].str.len() == 0, 'pickup_place'] = 'None'\n",
    "    df.loc[df['dropoff_admin1'].str.len() == 0, 'dropoff_admin1'] = 'None'\n",
    "    df.loc[df['dropoff_admin2'].str.len() == 0, 'dropoff_admin2'] = 'None'\n",
    "    df.loc[df['dropoff_place'].str.len() == 0, 'dropoff_place'] = 'None'\n",
    "    \n",
    "    return df[['pickup_place', 'pickup_admin1', 'pickup_admin2', \n",
    "               'dropoff_place', 'dropoff_admin1', 'dropoff_admin2']]"
   ]
  },
  {
   "cell_type": "code",
   "execution_count": 30,
   "metadata": {},
   "outputs": [
    {
     "name": "stdout",
     "output_type": "stream",
     "text": [
      "Loading formatted geocoded file...\n",
      "CPU times: user 2.75 s, sys: 564 ms, total: 3.31 s\n",
      "Wall time: 3.36 s\n"
     ]
    },
    {
     "data": {
      "text/html": [
       "<div>\n",
       "<style scoped>\n",
       "    .dataframe tbody tr th:only-of-type {\n",
       "        vertical-align: middle;\n",
       "    }\n",
       "\n",
       "    .dataframe tbody tr th {\n",
       "        vertical-align: top;\n",
       "    }\n",
       "\n",
       "    .dataframe thead th {\n",
       "        text-align: right;\n",
       "    }\n",
       "</style>\n",
       "<table border=\"1\" class=\"dataframe\">\n",
       "  <thead>\n",
       "    <tr style=\"text-align: right;\">\n",
       "      <th></th>\n",
       "      <th>pickup_place</th>\n",
       "      <th>pickup_admin1</th>\n",
       "      <th>pickup_admin2</th>\n",
       "      <th>dropoff_place</th>\n",
       "      <th>dropoff_admin1</th>\n",
       "      <th>dropoff_admin2</th>\n",
       "    </tr>\n",
       "  </thead>\n",
       "  <tbody>\n",
       "    <tr>\n",
       "      <th>0</th>\n",
       "      <td>Manhattan</td>\n",
       "      <td>New York</td>\n",
       "      <td>New York County</td>\n",
       "      <td>Long Island City</td>\n",
       "      <td>New York</td>\n",
       "      <td>Queens County</td>\n",
       "    </tr>\n",
       "    <tr>\n",
       "      <th>1</th>\n",
       "      <td>New York City</td>\n",
       "      <td>New York</td>\n",
       "      <td>None</td>\n",
       "      <td>New York City</td>\n",
       "      <td>New York</td>\n",
       "      <td>None</td>\n",
       "    </tr>\n",
       "    <tr>\n",
       "      <th>2</th>\n",
       "      <td>Long Island City</td>\n",
       "      <td>New York</td>\n",
       "      <td>Queens County</td>\n",
       "      <td>Long Island City</td>\n",
       "      <td>New York</td>\n",
       "      <td>Queens County</td>\n",
       "    </tr>\n",
       "    <tr>\n",
       "      <th>3</th>\n",
       "      <td>Manhattan</td>\n",
       "      <td>New York</td>\n",
       "      <td>New York County</td>\n",
       "      <td>Weehawken</td>\n",
       "      <td>New Jersey</td>\n",
       "      <td>Hudson County</td>\n",
       "    </tr>\n",
       "    <tr>\n",
       "      <th>4</th>\n",
       "      <td>Manhattan</td>\n",
       "      <td>New York</td>\n",
       "      <td>New York County</td>\n",
       "      <td>New York City</td>\n",
       "      <td>New York</td>\n",
       "      <td>None</td>\n",
       "    </tr>\n",
       "    <tr>\n",
       "      <th>...</th>\n",
       "      <td>...</td>\n",
       "      <td>...</td>\n",
       "      <td>...</td>\n",
       "      <td>...</td>\n",
       "      <td>...</td>\n",
       "      <td>...</td>\n",
       "    </tr>\n",
       "    <tr>\n",
       "      <th>9909</th>\n",
       "      <td>Manhattan</td>\n",
       "      <td>New York</td>\n",
       "      <td>New York County</td>\n",
       "      <td>Manhattan</td>\n",
       "      <td>New York</td>\n",
       "      <td>New York County</td>\n",
       "    </tr>\n",
       "    <tr>\n",
       "      <th>9910</th>\n",
       "      <td>Manhattan</td>\n",
       "      <td>New York</td>\n",
       "      <td>New York County</td>\n",
       "      <td>Manhattan</td>\n",
       "      <td>New York</td>\n",
       "      <td>New York County</td>\n",
       "    </tr>\n",
       "    <tr>\n",
       "      <th>9911</th>\n",
       "      <td>New York City</td>\n",
       "      <td>New York</td>\n",
       "      <td>None</td>\n",
       "      <td>Jamaica</td>\n",
       "      <td>New York</td>\n",
       "      <td>Queens County</td>\n",
       "    </tr>\n",
       "    <tr>\n",
       "      <th>9912</th>\n",
       "      <td>New York City</td>\n",
       "      <td>New York</td>\n",
       "      <td>None</td>\n",
       "      <td>Manhattan</td>\n",
       "      <td>New York</td>\n",
       "      <td>New York County</td>\n",
       "    </tr>\n",
       "    <tr>\n",
       "      <th>9913</th>\n",
       "      <td>Weehawken</td>\n",
       "      <td>New Jersey</td>\n",
       "      <td>Hudson County</td>\n",
       "      <td>Weehawken</td>\n",
       "      <td>New Jersey</td>\n",
       "      <td>Hudson County</td>\n",
       "    </tr>\n",
       "  </tbody>\n",
       "</table>\n",
       "<p>9914 rows × 6 columns</p>\n",
       "</div>"
      ],
      "text/plain": [
       "          pickup_place pickup_admin1    pickup_admin2     dropoff_place  \\\n",
       "0            Manhattan      New York  New York County  Long Island City   \n",
       "1        New York City      New York             None     New York City   \n",
       "2     Long Island City      New York    Queens County  Long Island City   \n",
       "3            Manhattan      New York  New York County         Weehawken   \n",
       "4            Manhattan      New York  New York County     New York City   \n",
       "...                ...           ...              ...               ...   \n",
       "9909         Manhattan      New York  New York County         Manhattan   \n",
       "9910         Manhattan      New York  New York County         Manhattan   \n",
       "9911     New York City      New York             None           Jamaica   \n",
       "9912     New York City      New York             None         Manhattan   \n",
       "9913         Weehawken    New Jersey    Hudson County         Weehawken   \n",
       "\n",
       "     dropoff_admin1   dropoff_admin2  \n",
       "0          New York    Queens County  \n",
       "1          New York             None  \n",
       "2          New York    Queens County  \n",
       "3        New Jersey    Hudson County  \n",
       "4          New York             None  \n",
       "...             ...              ...  \n",
       "9909       New York  New York County  \n",
       "9910       New York  New York County  \n",
       "9911       New York    Queens County  \n",
       "9912       New York  New York County  \n",
       "9913     New Jersey    Hudson County  \n",
       "\n",
       "[9914 rows x 6 columns]"
      ]
     },
     "execution_count": 30,
     "metadata": {},
     "output_type": "execute_result"
    }
   ],
   "source": [
    "%%time\n",
    "rg_fe(train)\n",
    "rg_fe(test)"
   ]
  },
  {
   "cell_type": "code",
   "execution_count": 31,
   "metadata": {
    "_uuid": "05615dc08967d5641fb8500e593a8e857598e64b",
    "scrolled": true
   },
   "outputs": [
    {
     "name": "stdout",
     "output_type": "stream",
     "text": [
      "(149986, 28)\n",
      "['New York City' 'Long Island City' 'Manhattan' 'Weehawken' 'Brooklyn'\n",
      " 'The Bronx' 'Ansonia' 'Borough of Queens' 'Guttenberg' 'Takoradi'\n",
      " 'Hoboken' 'Englewood' 'Edgewater' 'Jamaica' 'Inwood' 'West New York'\n",
      " 'Newark' 'Secaucus' 'Port-aux-Francais' 'Fairview' 'Passaic'\n",
      " 'Bellerose Terrace' 'Bensonhurst' 'Surf City' 'Herbes' 'Aguiar da Beira'\n",
      " 'Fort Lee' 'White Plains' 'Beach Haven' 'Wood-Ridge' 'Woodland Park'\n",
      " 'La Calera' 'West Orange' 'Carlstadt' 'Milford' 'East New York'\n",
      " 'New Cassel' 'Atlantic Beach' 'Jersey City' 'Rubielos de la Cerida'\n",
      " 'Lincoln Park' 'Westbury' 'Cliffside Park' 'Harbor Isle' 'Torre de Arcas'\n",
      " 'Chatham' 'North Bergen' 'Union Beach' 'Old Tappan' 'Englewood Cliffs'\n",
      " 'Coney Island' 'Woodbury' 'Bernardsville' 'Bloomfield' 'Guayabetal'\n",
      " 'Rutherford' 'South Valley Stream' 'Lake Success' 'Cedar Grove'\n",
      " 'Ho-Ho-Kus' 'Buarcos' 'Union City' 'Leonia' 'Dover' 'Mount Joy'\n",
      " 'Elizabeth' 'East Setauket' 'Port Chester' 'East Atlantic Beach'\n",
      " 'Penalba' 'Point Lookout' 'Ringwood' 'Clifton' 'Middletown'\n",
      " 'Staten Island' 'Ejulve' 'Bayonne' 'Paterson' 'Livingston' 'Perth Amboy'\n",
      " 'East Rutherford' 'Yonkers' 'Linden' 'Hicksville' 'White Horse'\n",
      " 'Plandome Heights' 'Georgetown' 'Pelham Manor' 'Levittown' 'Bogota'\n",
      " 'Little Ferry' 'Boston' 'North Valley Stream' 'Port Washington North'\n",
      " 'Stamford' 'Irvington' 'South Old Bridge' 'Ossining' 'Moonachie'\n",
      " 'Glen Cove' 'South Orange' 'Wind Gap' 'Florin' 'Sao Pedro do Sul'\n",
      " 'Atlantic Highlands' 'Hamburg' 'Spotswood' 'Rye' 'Hewlett Harbor'\n",
      " 'Birchwood Lakes' 'Old Greenwich' 'Cherryville' 'Great River'\n",
      " 'Westhampton Beach' 'Orange' 'Rahway' 'Ridgefield' 'Dunellen' 'Salisbury'\n",
      " 'Hartsdale' 'Halesite' 'Kings Point' 'Maplewood' 'Long Beach' 'Albertson'\n",
      " 'Cedar Glen Lakes' 'Hackensack' 'Ocean Acres' 'Plainview' 'Baldwin'\n",
      " 'Hewlett' 'Union' 'Bath' 'North Arlington' 'Robertsville' 'Islip'\n",
      " 'Cartagena del Chaira' 'Upper Montclair' 'Greenville' 'Bronxville'\n",
      " 'Baiting Hollow' 'Keansburg' 'Puerto Leguizamo' 'Youngsville'\n",
      " 'South Amboy' 'Park Ridge' 'Lyndhurst' 'Uniondale' 'Rillo' 'Yarmouth'\n",
      " 'Ridgefield Park' 'Bohemia' 'Mount Vernon' 'Larchmont' 'Chincoteague'\n",
      " 'Iselin' 'Fair Lawn' 'Eastchester' 'Haworth' 'Riverside' 'Paramus'\n",
      " 'Carle Place' 'Tenafly' 'East Garden City' 'Oakland']\n",
      "['New York City' 'Borough of Queens' 'Brooklyn' 'Long Island City'\n",
      " 'Weehawken' 'Manhattan' 'Inwood' 'Hoboken' 'Ansonia' 'The Bronx'\n",
      " 'Edgewater' 'Takoradi' 'Guttenberg' 'East New York' 'Elizabeth'\n",
      " 'Englewood' 'Jamaica' 'South Valley Stream' 'Franklin Lakes'\n",
      " 'Floral Park' 'Staten Island' 'Secaucus' 'Coney Island' 'Mount Vernon'\n",
      " 'Port-aux-Francais' 'Newark' 'Bensonhurst' 'Yonkers' 'Bayonne' 'Passaic'\n",
      " 'Herbes' 'Fort Lee' 'Jersey City' 'East Atlantic Beach' 'Aguiar da Beira'\n",
      " 'White Plains' 'West Hempstead' 'Beach Haven' 'Hackensack' 'Brookdale'\n",
      " 'Lake Success' 'Elmont' 'Great Neck Plaza' 'West New York' 'West Orange'\n",
      " 'Hawthorne' 'Valley Stream' 'Merrick' 'East Rutherford' 'Kings Point'\n",
      " 'Milford' 'New Cassel' 'Eastchester' 'Sea Bright' 'Upper Saddle River'\n",
      " 'East Rockaway' 'Lincoln Park' 'Torre de Arcas' 'Hicksville'\n",
      " 'Cliffside Park' 'Great Neck Estates' 'Long Beach' 'Ridgefield'\n",
      " 'Franklin Square' 'River Edge' 'Carlstadt' 'Carle Place' 'Lawrence'\n",
      " 'Bellerose Terrace' 'Purchase' 'Union Beach' 'Surf City' 'Fair Lawn'\n",
      " 'Old Tappan' 'Scarsdale' 'Woodbury' 'Teaneck' 'Mendham' 'Fairview'\n",
      " 'Pelham Manor' 'Cedar Grove' 'Ho-Ho-Kus' 'North Bergen' 'Leonia' 'Dover'\n",
      " 'Mount Joy' 'Penalba' 'Point Lookout' 'Ringwood' 'Englewood Cliffs'\n",
      " 'Tuckahoe' 'Clifton' 'Pelham' 'Monroyo' 'Eastlawn Gardens' 'Bloomfield'\n",
      " 'Paterson' 'Long Branch' 'Union City' 'Perth Amboy' 'Lynbrook' 'Linden'\n",
      " 'White Horse' 'Elmwood Park' 'Bethel' 'Levittown' 'Bogota' 'Plainview'\n",
      " 'Little Ferry' 'South Boston' 'Great Neck' 'Jericho'\n",
      " 'Port Washington North' 'Stamford' 'Orange' 'Harrison' 'South Old Bridge'\n",
      " 'Upper Montclair' 'Ossining' 'Youngsville' 'Lattingtown' 'South Orange'\n",
      " 'Wind Gap' 'Florin' 'Rutherford' 'Cedarhurst' 'Wood-Ridge' 'Hamburg'\n",
      " 'Helmetta' 'Rye' 'Birchwood Lakes' 'Old Greenwich' 'North Stamford'\n",
      " 'Atlantic Beach' 'Lehighton' 'West Sayville' 'Clearbrook Park'\n",
      " 'Bronxville' 'Uniondale' 'Westhampton Beach' 'Stewart Manor'\n",
      " 'Ribeira Grande' 'Rahway' 'Weston' 'Hewlett' 'Brookville' 'East Setauket'\n",
      " 'Hartsdale' 'Halesite' 'Maplewood' 'East Garden City' 'Flower Hill'\n",
      " 'Bellerose' 'Rubielos de la Cerida' 'Carteret' 'Cedar Glen Lakes'\n",
      " 'Port Washington' 'Ocean Acres' 'Springfield' 'Syosset' 'Baldwin'\n",
      " 'East Hanover' 'Rockville Centre' 'Union' 'Bath' 'Glen Cove' 'Campo'\n",
      " 'North Arlington' 'Wayne' 'New Hyde Park' 'Robertsville' 'Islip'\n",
      " 'Northwest Harbor' 'Irvington' 'Parsippany' 'Garden City' 'Plandome'\n",
      " 'Middletown' 'Sao Pedro do Sul' 'Satao' 'Glenville' 'Avenel' 'Moonachie'\n",
      " 'Mamaroneck' 'New Rochelle' 'South Hempstead' 'Baiting Hollow'\n",
      " 'Becerril de la Sierra' 'Keansburg' 'Woodmere' 'South Amboy' 'Malverne'\n",
      " 'Park Ridge' 'Glen Ridge' 'Hasbrouck Heights' 'Hastings-on-Hudson'\n",
      " 'Digby' 'Bohemia' 'Larchmont' 'University Gardens' 'Iselin' 'Nanuet'\n",
      " 'Summit' 'Nutley' 'Closter' 'North New Hyde Park' 'Puerto Leguizamo'\n",
      " 'North Wantagh' 'Ronkonkoma' 'Paramus' 'Tenafly' 'Ridgefield Park'\n",
      " 'Woodcliff Lake']\n"
     ]
    }
   ],
   "source": [
    "print(train.shape)\n",
    "print(train.pickup_place.unique())\n",
    "print(train.dropoff_place.unique())"
   ]
  },
  {
   "cell_type": "code",
   "execution_count": 32,
   "metadata": {
    "_uuid": "3e5f49b9ea99654a2af778ebdac6e85d3f68576a"
   },
   "outputs": [
    {
     "data": {
      "text/html": [
       "<div>\n",
       "<style scoped>\n",
       "    .dataframe tbody tr th:only-of-type {\n",
       "        vertical-align: middle;\n",
       "    }\n",
       "\n",
       "    .dataframe tbody tr th {\n",
       "        vertical-align: top;\n",
       "    }\n",
       "\n",
       "    .dataframe thead th {\n",
       "        text-align: right;\n",
       "    }\n",
       "</style>\n",
       "<table border=\"1\" class=\"dataframe\">\n",
       "  <thead>\n",
       "    <tr style=\"text-align: right;\">\n",
       "      <th></th>\n",
       "      <th>key</th>\n",
       "      <th>fare_amount</th>\n",
       "      <th>pickup_datetime</th>\n",
       "      <th>pickup_longitude</th>\n",
       "      <th>pickup_latitude</th>\n",
       "      <th>dropoff_longitude</th>\n",
       "      <th>dropoff_latitude</th>\n",
       "      <th>passenger_count</th>\n",
       "      <th>abs_long_diff</th>\n",
       "      <th>abs_lat_diff</th>\n",
       "      <th>...</th>\n",
       "      <th>Month</th>\n",
       "      <th>Date</th>\n",
       "      <th>Day of Week</th>\n",
       "      <th>Hour</th>\n",
       "      <th>pickup_place</th>\n",
       "      <th>pickup_admin1</th>\n",
       "      <th>pickup_admin2</th>\n",
       "      <th>dropoff_place</th>\n",
       "      <th>dropoff_admin1</th>\n",
       "      <th>dropoff_admin2</th>\n",
       "    </tr>\n",
       "  </thead>\n",
       "  <tbody>\n",
       "    <tr>\n",
       "      <th>150000</th>\n",
       "      <td>2010-04-23 03:55:07.000000100</td>\n",
       "      <td>8.5</td>\n",
       "      <td>2010-04-23 03:55:07+00:00</td>\n",
       "      <td>-74.008438</td>\n",
       "      <td>40.719055</td>\n",
       "      <td>-73.995641</td>\n",
       "      <td>40.733019</td>\n",
       "      <td>2</td>\n",
       "      <td>0.012797</td>\n",
       "      <td>0.013964</td>\n",
       "      <td>...</td>\n",
       "      <td>4</td>\n",
       "      <td>23</td>\n",
       "      <td>4</td>\n",
       "      <td>3</td>\n",
       "      <td>New York City</td>\n",
       "      <td>New York</td>\n",
       "      <td>None</td>\n",
       "      <td>New York City</td>\n",
       "      <td>New York</td>\n",
       "      <td>None</td>\n",
       "    </tr>\n",
       "    <tr>\n",
       "      <th>150001</th>\n",
       "      <td>2013-04-20 13:00:00.000000100</td>\n",
       "      <td>22.0</td>\n",
       "      <td>2013-04-20 13:00:00+00:00</td>\n",
       "      <td>-73.957793</td>\n",
       "      <td>40.761445</td>\n",
       "      <td>-74.005190</td>\n",
       "      <td>40.715377</td>\n",
       "      <td>1</td>\n",
       "      <td>0.047397</td>\n",
       "      <td>0.046068</td>\n",
       "      <td>...</td>\n",
       "      <td>4</td>\n",
       "      <td>20</td>\n",
       "      <td>5</td>\n",
       "      <td>13</td>\n",
       "      <td>Long Island City</td>\n",
       "      <td>New York</td>\n",
       "      <td>Queens County</td>\n",
       "      <td>New York City</td>\n",
       "      <td>New York</td>\n",
       "      <td>None</td>\n",
       "    </tr>\n",
       "    <tr>\n",
       "      <th>150002</th>\n",
       "      <td>2013-11-08 22:16:00.000000127</td>\n",
       "      <td>21.5</td>\n",
       "      <td>2013-11-08 22:16:00+00:00</td>\n",
       "      <td>-73.981947</td>\n",
       "      <td>40.757987</td>\n",
       "      <td>-74.017322</td>\n",
       "      <td>40.705052</td>\n",
       "      <td>1</td>\n",
       "      <td>0.035375</td>\n",
       "      <td>0.052935</td>\n",
       "      <td>...</td>\n",
       "      <td>11</td>\n",
       "      <td>8</td>\n",
       "      <td>4</td>\n",
       "      <td>22</td>\n",
       "      <td>Manhattan</td>\n",
       "      <td>New York</td>\n",
       "      <td>New York County</td>\n",
       "      <td>New York City</td>\n",
       "      <td>New York</td>\n",
       "      <td>None</td>\n",
       "    </tr>\n",
       "    <tr>\n",
       "      <th>150003</th>\n",
       "      <td>2010-01-14 22:49:00.000000260</td>\n",
       "      <td>31.3</td>\n",
       "      <td>2010-01-14 22:49:00+00:00</td>\n",
       "      <td>-74.010195</td>\n",
       "      <td>40.704812</td>\n",
       "      <td>-73.853240</td>\n",
       "      <td>40.727048</td>\n",
       "      <td>3</td>\n",
       "      <td>0.156955</td>\n",
       "      <td>0.022236</td>\n",
       "      <td>...</td>\n",
       "      <td>1</td>\n",
       "      <td>14</td>\n",
       "      <td>3</td>\n",
       "      <td>22</td>\n",
       "      <td>New York City</td>\n",
       "      <td>New York</td>\n",
       "      <td>None</td>\n",
       "      <td>Borough of Queens</td>\n",
       "      <td>New York</td>\n",
       "      <td>Queens County</td>\n",
       "    </tr>\n",
       "    <tr>\n",
       "      <th>150004</th>\n",
       "      <td>2013-03-17 02:45:00.000000167</td>\n",
       "      <td>34.5</td>\n",
       "      <td>2013-03-17 02:45:00+00:00</td>\n",
       "      <td>-74.006080</td>\n",
       "      <td>40.723872</td>\n",
       "      <td>-73.912677</td>\n",
       "      <td>40.607827</td>\n",
       "      <td>5</td>\n",
       "      <td>0.093403</td>\n",
       "      <td>0.116045</td>\n",
       "      <td>...</td>\n",
       "      <td>3</td>\n",
       "      <td>17</td>\n",
       "      <td>6</td>\n",
       "      <td>2</td>\n",
       "      <td>New York City</td>\n",
       "      <td>New York</td>\n",
       "      <td>None</td>\n",
       "      <td>Brooklyn</td>\n",
       "      <td>New York</td>\n",
       "      <td>Kings County</td>\n",
       "    </tr>\n",
       "  </tbody>\n",
       "</table>\n",
       "<p>5 rows × 28 columns</p>\n",
       "</div>"
      ],
      "text/plain": [
       "                                 key  fare_amount           pickup_datetime  \\\n",
       "150000 2010-04-23 03:55:07.000000100          8.5 2010-04-23 03:55:07+00:00   \n",
       "150001 2013-04-20 13:00:00.000000100         22.0 2013-04-20 13:00:00+00:00   \n",
       "150002 2013-11-08 22:16:00.000000127         21.5 2013-11-08 22:16:00+00:00   \n",
       "150003 2010-01-14 22:49:00.000000260         31.3 2010-01-14 22:49:00+00:00   \n",
       "150004 2013-03-17 02:45:00.000000167         34.5 2013-03-17 02:45:00+00:00   \n",
       "\n",
       "        pickup_longitude  pickup_latitude  dropoff_longitude  \\\n",
       "150000        -74.008438        40.719055         -73.995641   \n",
       "150001        -73.957793        40.761445         -74.005190   \n",
       "150002        -73.981947        40.757987         -74.017322   \n",
       "150003        -74.010195        40.704812         -73.853240   \n",
       "150004        -74.006080        40.723872         -73.912677   \n",
       "\n",
       "        dropoff_latitude  passenger_count  abs_long_diff  abs_lat_diff  ...  \\\n",
       "150000         40.733019                2       0.012797      0.013964  ...   \n",
       "150001         40.715377                1       0.047397      0.046068  ...   \n",
       "150002         40.705052                1       0.035375      0.052935  ...   \n",
       "150003         40.727048                3       0.156955      0.022236  ...   \n",
       "150004         40.607827                5       0.093403      0.116045  ...   \n",
       "\n",
       "        Month  Date  Day of Week  Hour      pickup_place  pickup_admin1  \\\n",
       "150000      4    23            4     3     New York City       New York   \n",
       "150001      4    20            5    13  Long Island City       New York   \n",
       "150002     11     8            4    22         Manhattan       New York   \n",
       "150003      1    14            3    22     New York City       New York   \n",
       "150004      3    17            6     2     New York City       New York   \n",
       "\n",
       "          pickup_admin2      dropoff_place  dropoff_admin1  dropoff_admin2  \n",
       "150000             None      New York City        New York            None  \n",
       "150001    Queens County      New York City        New York            None  \n",
       "150002  New York County      New York City        New York            None  \n",
       "150003             None  Borough of Queens        New York   Queens County  \n",
       "150004             None           Brooklyn        New York    Kings County  \n",
       "\n",
       "[5 rows x 28 columns]"
      ]
     },
     "execution_count": 32,
     "metadata": {},
     "output_type": "execute_result"
    }
   ],
   "source": [
    "train.head()"
   ]
  },
  {
   "cell_type": "code",
   "execution_count": 33,
   "metadata": {
    "_uuid": "8c3bb997b5b07e8b6d65f74c664cab9d782cd05d",
    "scrolled": true
   },
   "outputs": [
    {
     "data": {
      "text/html": [
       "<div>\n",
       "<style scoped>\n",
       "    .dataframe tbody tr th:only-of-type {\n",
       "        vertical-align: middle;\n",
       "    }\n",
       "\n",
       "    .dataframe tbody tr th {\n",
       "        vertical-align: top;\n",
       "    }\n",
       "\n",
       "    .dataframe thead th {\n",
       "        text-align: right;\n",
       "    }\n",
       "</style>\n",
       "<table border=\"1\" class=\"dataframe\">\n",
       "  <thead>\n",
       "    <tr style=\"text-align: right;\">\n",
       "      <th></th>\n",
       "      <th>key</th>\n",
       "      <th>pickup_datetime</th>\n",
       "      <th>pickup_longitude</th>\n",
       "      <th>pickup_latitude</th>\n",
       "      <th>dropoff_longitude</th>\n",
       "      <th>dropoff_latitude</th>\n",
       "      <th>passenger_count</th>\n",
       "      <th>abs_long_diff</th>\n",
       "      <th>abs_lat_diff</th>\n",
       "      <th>manhattan_dist</th>\n",
       "      <th>...</th>\n",
       "      <th>Month</th>\n",
       "      <th>Date</th>\n",
       "      <th>Day of Week</th>\n",
       "      <th>Hour</th>\n",
       "      <th>pickup_place</th>\n",
       "      <th>pickup_admin1</th>\n",
       "      <th>pickup_admin2</th>\n",
       "      <th>dropoff_place</th>\n",
       "      <th>dropoff_admin1</th>\n",
       "      <th>dropoff_admin2</th>\n",
       "    </tr>\n",
       "  </thead>\n",
       "  <tbody>\n",
       "    <tr>\n",
       "      <th>0</th>\n",
       "      <td>2015-01-27 13:08:24.000000200</td>\n",
       "      <td>2015-01-27 13:08:24+00:00</td>\n",
       "      <td>-73.973320</td>\n",
       "      <td>40.763805</td>\n",
       "      <td>-73.981430</td>\n",
       "      <td>40.743835</td>\n",
       "      <td>1</td>\n",
       "      <td>0.008110</td>\n",
       "      <td>0.019970</td>\n",
       "      <td>0.028080</td>\n",
       "      <td>...</td>\n",
       "      <td>1</td>\n",
       "      <td>27</td>\n",
       "      <td>1</td>\n",
       "      <td>13</td>\n",
       "      <td>Manhattan</td>\n",
       "      <td>New York</td>\n",
       "      <td>New York County</td>\n",
       "      <td>Long Island City</td>\n",
       "      <td>New York</td>\n",
       "      <td>Queens County</td>\n",
       "    </tr>\n",
       "    <tr>\n",
       "      <th>1</th>\n",
       "      <td>2015-01-27 13:08:24.000000300</td>\n",
       "      <td>2015-01-27 13:08:24+00:00</td>\n",
       "      <td>-73.986862</td>\n",
       "      <td>40.719383</td>\n",
       "      <td>-73.998886</td>\n",
       "      <td>40.739201</td>\n",
       "      <td>1</td>\n",
       "      <td>0.012024</td>\n",
       "      <td>0.019817</td>\n",
       "      <td>0.031841</td>\n",
       "      <td>...</td>\n",
       "      <td>1</td>\n",
       "      <td>27</td>\n",
       "      <td>1</td>\n",
       "      <td>13</td>\n",
       "      <td>New York City</td>\n",
       "      <td>New York</td>\n",
       "      <td>None</td>\n",
       "      <td>New York City</td>\n",
       "      <td>New York</td>\n",
       "      <td>None</td>\n",
       "    </tr>\n",
       "    <tr>\n",
       "      <th>2</th>\n",
       "      <td>2011-10-08 11:53:44.000000200</td>\n",
       "      <td>2011-10-08 11:53:44+00:00</td>\n",
       "      <td>-73.982524</td>\n",
       "      <td>40.751260</td>\n",
       "      <td>-73.979654</td>\n",
       "      <td>40.746139</td>\n",
       "      <td>1</td>\n",
       "      <td>0.002870</td>\n",
       "      <td>0.005121</td>\n",
       "      <td>0.007991</td>\n",
       "      <td>...</td>\n",
       "      <td>10</td>\n",
       "      <td>8</td>\n",
       "      <td>5</td>\n",
       "      <td>11</td>\n",
       "      <td>Long Island City</td>\n",
       "      <td>New York</td>\n",
       "      <td>Queens County</td>\n",
       "      <td>Long Island City</td>\n",
       "      <td>New York</td>\n",
       "      <td>Queens County</td>\n",
       "    </tr>\n",
       "    <tr>\n",
       "      <th>3</th>\n",
       "      <td>2012-12-01 21:12:12.000000200</td>\n",
       "      <td>2012-12-01 21:12:12+00:00</td>\n",
       "      <td>-73.981160</td>\n",
       "      <td>40.767807</td>\n",
       "      <td>-73.990448</td>\n",
       "      <td>40.751635</td>\n",
       "      <td>1</td>\n",
       "      <td>0.009288</td>\n",
       "      <td>0.016172</td>\n",
       "      <td>0.025460</td>\n",
       "      <td>...</td>\n",
       "      <td>12</td>\n",
       "      <td>1</td>\n",
       "      <td>5</td>\n",
       "      <td>21</td>\n",
       "      <td>Manhattan</td>\n",
       "      <td>New York</td>\n",
       "      <td>New York County</td>\n",
       "      <td>Weehawken</td>\n",
       "      <td>New Jersey</td>\n",
       "      <td>Hudson County</td>\n",
       "    </tr>\n",
       "    <tr>\n",
       "      <th>4</th>\n",
       "      <td>2012-12-01 21:12:12.000000300</td>\n",
       "      <td>2012-12-01 21:12:12+00:00</td>\n",
       "      <td>-73.966046</td>\n",
       "      <td>40.789775</td>\n",
       "      <td>-73.988565</td>\n",
       "      <td>40.744427</td>\n",
       "      <td>1</td>\n",
       "      <td>0.022519</td>\n",
       "      <td>0.045348</td>\n",
       "      <td>0.067867</td>\n",
       "      <td>...</td>\n",
       "      <td>12</td>\n",
       "      <td>1</td>\n",
       "      <td>5</td>\n",
       "      <td>21</td>\n",
       "      <td>Manhattan</td>\n",
       "      <td>New York</td>\n",
       "      <td>New York County</td>\n",
       "      <td>New York City</td>\n",
       "      <td>New York</td>\n",
       "      <td>None</td>\n",
       "    </tr>\n",
       "  </tbody>\n",
       "</table>\n",
       "<p>5 rows × 27 columns</p>\n",
       "</div>"
      ],
      "text/plain": [
       "                            key           pickup_datetime  pickup_longitude  \\\n",
       "0 2015-01-27 13:08:24.000000200 2015-01-27 13:08:24+00:00        -73.973320   \n",
       "1 2015-01-27 13:08:24.000000300 2015-01-27 13:08:24+00:00        -73.986862   \n",
       "2 2011-10-08 11:53:44.000000200 2011-10-08 11:53:44+00:00        -73.982524   \n",
       "3 2012-12-01 21:12:12.000000200 2012-12-01 21:12:12+00:00        -73.981160   \n",
       "4 2012-12-01 21:12:12.000000300 2012-12-01 21:12:12+00:00        -73.966046   \n",
       "\n",
       "   pickup_latitude  dropoff_longitude  dropoff_latitude  passenger_count  \\\n",
       "0        40.763805         -73.981430         40.743835                1   \n",
       "1        40.719383         -73.998886         40.739201                1   \n",
       "2        40.751260         -73.979654         40.746139                1   \n",
       "3        40.767807         -73.990448         40.751635                1   \n",
       "4        40.789775         -73.988565         40.744427                1   \n",
       "\n",
       "   abs_long_diff  abs_lat_diff  manhattan_dist  ...  Month  Date  Day of Week  \\\n",
       "0       0.008110      0.019970        0.028080  ...      1    27            1   \n",
       "1       0.012024      0.019817        0.031841  ...      1    27            1   \n",
       "2       0.002870      0.005121        0.007991  ...     10     8            5   \n",
       "3       0.009288      0.016172        0.025460  ...     12     1            5   \n",
       "4       0.022519      0.045348        0.067867  ...     12     1            5   \n",
       "\n",
       "   Hour      pickup_place  pickup_admin1    pickup_admin2     dropoff_place  \\\n",
       "0    13         Manhattan       New York  New York County  Long Island City   \n",
       "1    13     New York City       New York             None     New York City   \n",
       "2    11  Long Island City       New York    Queens County  Long Island City   \n",
       "3    21         Manhattan       New York  New York County         Weehawken   \n",
       "4    21         Manhattan       New York  New York County     New York City   \n",
       "\n",
       "   dropoff_admin1  dropoff_admin2  \n",
       "0        New York   Queens County  \n",
       "1        New York            None  \n",
       "2        New York   Queens County  \n",
       "3      New Jersey   Hudson County  \n",
       "4        New York            None  \n",
       "\n",
       "[5 rows x 27 columns]"
      ]
     },
     "execution_count": 33,
     "metadata": {},
     "output_type": "execute_result"
    }
   ],
   "source": [
    "test.head()"
   ]
  },
  {
   "cell_type": "code",
   "execution_count": null,
   "metadata": {},
   "outputs": [],
   "source": [
    "data = [train, test]\n",
    "for df in data:\n",
    "    print(df.shape)"
   ]
  },
  {
   "cell_type": "markdown",
   "metadata": {},
   "source": [
    "# Output Data\n",
    "output data as csv"
   ]
  },
  {
   "cell_type": "code",
   "execution_count": null,
   "metadata": {},
   "outputs": [],
   "source": [
    "train_df.to_csv(\"train2.csv\", index=False)\n",
    "test_df.to_csv(\"test2.csv\", index=False)"
   ]
  },
  {
   "cell_type": "code",
   "execution_count": null,
   "metadata": {},
   "outputs": [],
   "source": []
  }
 ],
 "metadata": {
  "kernelspec": {
   "display_name": "Python 3",
   "language": "python",
   "name": "python3"
  },
  "language_info": {
   "codemirror_mode": {
    "name": "ipython",
    "version": 3
   },
   "file_extension": ".py",
   "mimetype": "text/x-python",
   "name": "python",
   "nbconvert_exporter": "python",
   "pygments_lexer": "ipython3",
   "version": "3.7.4"
  }
 },
 "nbformat": 4,
 "nbformat_minor": 1
}
